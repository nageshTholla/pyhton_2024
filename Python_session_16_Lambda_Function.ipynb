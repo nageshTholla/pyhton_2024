{
 "cells": [
  {
   "cell_type": "markdown",
   "id": "67d272b5-1551-4d67-9668-8bfc0eaddb0b",
   "metadata": {},
   "source": [
    "$ LAMBDA FUNCTION $"
   ]
  },
  {
   "cell_type": "code",
   "execution_count": null,
   "id": "baa4a553-0ebd-4547-be1c-1e3741bb7970",
   "metadata": {},
   "outputs": [],
   "source": [
    "-Lambda function also a function\n",
    "\n",
    "-It is a kind of a single line function\n",
    "\n",
    "-We already seen list comprehension which means single line\n",
    "\n",
    "-lambda functions give a flexibility to stop writing many lines \n",
    "\n",
    "-On iterate execution it will save the string"
   ]
  },
  {
   "cell_type": "code",
   "execution_count": 1,
   "id": "d91660e0-ea0e-4126-a1ea-605c6fd360ce",
   "metadata": {},
   "outputs": [
    {
     "data": {
      "text/plain": [
       "30"
      ]
     },
     "execution_count": 1,
     "metadata": {},
     "output_type": "execute_result"
    }
   ],
   "source": [
    "def summ(num):\n",
    "    return (num+10)\n",
    "summ(20)"
   ]
  },
  {
   "cell_type": "markdown",
   "id": "e66c396c-8487-40e1-8a88-9e58f4078171",
   "metadata": {},
   "source": [
    "$ PATTERN:-1 $"
   ]
  },
  {
   "cell_type": "code",
   "execution_count": null,
   "id": "0a9cccee-8fc3-4e5d-a845-e201c6d4f0cb",
   "metadata": {},
   "outputs": [],
   "source": [
    "- Function name\n",
    "\n",
    "-Variable name\n",
    "\n",
    "-return output"
   ]
  },
  {
   "cell_type": "code",
   "execution_count": 2,
   "id": "89c36f94-26bc-4255-a06e-9a4188462c07",
   "metadata": {},
   "outputs": [
    {
     "data": {
      "text/plain": [
       "30"
      ]
     },
     "execution_count": 2,
     "metadata": {},
     "output_type": "execute_result"
    }
   ],
   "source": [
    "# <function_name>=lambda<variable_name>:<return_output>\n",
    "summ=lambda num : num+10\n",
    "summ(20)"
   ]
  },
  {
   "cell_type": "code",
   "execution_count": 3,
   "id": "715977f1-a831-44ab-8eb9-e0f587cee197",
   "metadata": {},
   "outputs": [
    {
     "data": {
      "text/plain": [
       "1000"
      ]
     },
     "execution_count": 3,
     "metadata": {},
     "output_type": "execute_result"
    }
   ],
   "source": [
    "def cube(x):\n",
    "    return(x*x*x)\n",
    "cube(10)"
   ]
  },
  {
   "cell_type": "code",
   "execution_count": 6,
   "id": "b8b4d6c9-6ba4-4055-8030-082d1bc59258",
   "metadata": {},
   "outputs": [
    {
     "data": {
      "text/plain": [
       "4"
      ]
     },
     "execution_count": 6,
     "metadata": {},
     "output_type": "execute_result"
    }
   ],
   "source": [
    "def square(x):\n",
    "    return(x*x)\n",
    "square(2)"
   ]
  },
  {
   "cell_type": "markdown",
   "id": "9e3ec016-83cd-4a17-abe0-dd64f80c3de2",
   "metadata": {},
   "source": [
    "$ PATTREN:-2$"
   ]
  },
  {
   "cell_type": "code",
   "execution_count": 10,
   "id": "e70ffe23-1059-4b91-8b4a-16564979413e",
   "metadata": {},
   "outputs": [
    {
     "data": {
      "text/plain": [
       "30"
      ]
     },
     "execution_count": 10,
     "metadata": {},
     "output_type": "execute_result"
    }
   ],
   "source": [
    "def add(n1,n2):\n",
    "    return(n1+n2)\n",
    "    \n",
    "add(10,20)"
   ]
  },
  {
   "cell_type": "code",
   "execution_count": 9,
   "id": "6fa3f6a0-797e-4c14-b0a3-7fbbbbc51834",
   "metadata": {},
   "outputs": [
    {
     "data": {
      "text/plain": [
       "30"
      ]
     },
     "execution_count": 9,
     "metadata": {},
     "output_type": "execute_result"
    }
   ],
   "source": [
    "# <function name>=lambda<arg1>,<arg2>:<output>\n",
    "add=lambda n1,n2:n1+n2\n",
    "add(10,20)"
   ]
  },
  {
   "cell_type": "code",
   "execution_count": 11,
   "id": "79e9044d-a19d-4815-a097-bd6ed6476aa5",
   "metadata": {},
   "outputs": [
    {
     "data": {
      "text/plain": [
       "10"
      ]
     },
     "execution_count": 11,
     "metadata": {},
     "output_type": "execute_result"
    }
   ],
   "source": [
    "sub=lambda n1,n2:n1-n2\n",
    "sub(20,10)"
   ]
  },
  {
   "cell_type": "code",
   "execution_count": 12,
   "id": "e96330a8-ffc4-4312-8ae1-e956e72cd237",
   "metadata": {},
   "outputs": [
    {
     "data": {
      "text/plain": [
       "20"
      ]
     },
     "execution_count": 12,
     "metadata": {},
     "output_type": "execute_result"
    }
   ],
   "source": [
    "mul=lambda n1,n2:n1*n2\n",
    "mul(5,4)"
   ]
  },
  {
   "cell_type": "code",
   "execution_count": 14,
   "id": "942c4186-1e5d-4c5d-983f-c9770ed784fd",
   "metadata": {},
   "outputs": [
    {
     "data": {
      "text/plain": [
       "0.5"
      ]
     },
     "execution_count": 14,
     "metadata": {},
     "output_type": "execute_result"
    }
   ],
   "source": [
    "div=lambda n1,n2:n2/n1\n",
    "div(2,1)"
   ]
  },
  {
   "cell_type": "code",
   "execution_count": 16,
   "id": "7d429178-a96b-4375-a41c-16a106913964",
   "metadata": {},
   "outputs": [
    {
     "data": {
      "text/plain": [
       "20.0"
      ]
     },
     "execution_count": 16,
     "metadata": {},
     "output_type": "execute_result"
    }
   ],
   "source": [
    "avg=lambda n1,n2,n3:round((n1+n2+n3)/3,2)\n",
    "avg(10,20,30)"
   ]
  },
  {
   "cell_type": "markdown",
   "id": "d7ae5f3d-59d4-493a-bcbf-af39f1a44c3e",
   "metadata": {},
   "source": [
    "$ PATTERN :-3 $"
   ]
  },
  {
   "cell_type": "markdown",
   "id": "a563c276-9762-4b0f-b9b9-64ba6a01625b",
   "metadata": {},
   "source": [
    "$ Default Arguments $"
   ]
  },
  {
   "cell_type": "code",
   "execution_count": null,
   "id": "9aa1fb99-b1b0-43bf-92a3-b0217d6f7a95",
   "metadata": {},
   "outputs": [],
   "source": [
    "def avg(n1,n2,n3=100):"
   ]
  },
  {
   "cell_type": "code",
   "execution_count": 20,
   "id": "4f3b368e-65cf-4c71-89a8-2001c87129da",
   "metadata": {},
   "outputs": [
    {
     "data": {
      "text/plain": [
       "43.33"
      ]
     },
     "execution_count": 20,
     "metadata": {},
     "output_type": "execute_result"
    }
   ],
   "source": [
    "avg=lambda n1,n2,n3=100 : round((n1+n2+n3)/3,2)\n",
    "avg(10,20)"
   ]
  },
  {
   "cell_type": "markdown",
   "id": "eddd35e8-eb95-476e-a4e1-48ad9bead87a",
   "metadata": {},
   "source": [
    "$ PATTERN:-4$"
   ]
  },
  {
   "cell_type": "markdown",
   "id": "6fd49b1e-a2fb-4352-bfd6-6ae3475c8b95",
   "metadata": {},
   "source": [
    "$ IF$"
   ]
  },
  {
   "cell_type": "code",
   "execution_count": 21,
   "id": "8386f2e2-4d0a-4065-8980-c4022e1c589a",
   "metadata": {},
   "outputs": [
    {
     "data": {
      "text/plain": [
       "'hello'"
      ]
     },
     "execution_count": 21,
     "metadata": {},
     "output_type": "execute_result"
    }
   ],
   "source": [
    "def greet(n1):\n",
    "    if n1>10:\n",
    "        return(\"hello\")\n",
    "greet(20)"
   ]
  },
  {
   "cell_type": "code",
   "execution_count": 22,
   "id": "b32161d3-6820-4ac5-9558-d247b2eda264",
   "metadata": {},
   "outputs": [
    {
     "data": {
      "text/plain": [
       "'bye'"
      ]
     },
     "execution_count": 22,
     "metadata": {},
     "output_type": "execute_result"
    }
   ],
   "source": [
    "# In the list 6comprehension\n",
    "# [<if_out> <if_condition> <else> <else_output>]\n",
    "# no for loop\n",
    "# <fun_name>=lambda <arg1>:<if_out> <if_condition> <else> <else_output>]\n",
    "greet=lambda n1:\"hello\" if n1>10 else \"bye\"\n",
    "greet(10)"
   ]
  },
  {
   "cell_type": "code",
   "execution_count": 2,
   "id": "abcadd16-9bf1-4141-9da9-6dae466f3ff6",
   "metadata": {},
   "outputs": [
    {
     "data": {
      "text/plain": [
       "2"
      ]
     },
     "execution_count": 2,
     "metadata": {},
     "output_type": "execute_result"
    }
   ],
   "source": [
    "# WAP ask the user lambda function to identity the greatest number b/w two numbers\n",
    "greatest=lambda n1,n2:n2 if n2>n1 else n2\n",
    "greatest(1,2)"
   ]
  },
  {
   "cell_type": "markdown",
   "id": "14eec917-c43a-44f6-a0f4-464f4b599efe",
   "metadata": {},
   "source": [
    "$ PATTREN:-5$"
   ]
  },
  {
   "cell_type": "markdown",
   "id": "3bd0c327-a9ae-4d0a-8c26-70acb849624f",
   "metadata": {},
   "source": [
    "$ Using list$"
   ]
  },
  {
   "cell_type": "code",
   "execution_count": 38,
   "id": "95fbd7b9-7cbc-4570-a970-8c2a695070b1",
   "metadata": {},
   "outputs": [
    {
     "data": {
      "text/plain": [
       "['Hyd', 'Blr', 'Chennai']"
      ]
     },
     "execution_count": 38,
     "metadata": {},
     "output_type": "execute_result"
    }
   ],
   "source": [
    "list1=[\"hyd\",\"blr\",\"chennai\"]\n",
    "# op=l\"hyd\",\"blr\",\"chennai\"]\n",
    "list2=[]\n",
    "for i in list1:\n",
    "    list2.append(i.capitalize())\n",
    "list2"
   ]
  },
  {
   "cell_type": "code",
   "execution_count": null,
   "id": "ee2faa14-a624-4856-91d7-eeb249bec938",
   "metadata": {},
   "outputs": [],
   "source": [
    "- What is the variable name ====> i\n",
    "\n",
    "-What is the return output ====> i.capitalize()\n",
    "\n",
    "-from where it is coming===> list1\n",
    "\n",
    "-lambda <variable name> :<output>,<iterable> \n",
    "\n",
    "-strings are iterables\n",
    "\n",
    "-list are iterable\n",
    "\n",
    "-we can iterate using for loop"
   ]
  },
  {
   "cell_type": "code",
   "execution_count": 40,
   "id": "e02ff141-f16b-4daa-8b4a-1ab3095755a4",
   "metadata": {},
   "outputs": [
    {
     "data": {
      "text/plain": [
       "(<function __main__.<lambda>(i)>, ['hyd', 'blr', 'chennai'])"
      ]
     },
     "execution_count": 40,
     "metadata": {},
     "output_type": "execute_result"
    }
   ],
   "source": [
    "# lambda <variable name> :<output>,<iterable> \n",
    "lambda i : i.capitalize(),list1"
   ]
  },
  {
   "cell_type": "markdown",
   "id": "e7943809-c62e-4a93-b731-66756650f56a",
   "metadata": {},
   "source": [
    "$ MAP $"
   ]
  },
  {
   "cell_type": "code",
   "execution_count": 41,
   "id": "8ed81506-e823-4348-bad1-634ccfb64835",
   "metadata": {},
   "outputs": [
    {
     "data": {
      "text/plain": [
       "<map at 0x1a4548ec0d0>"
      ]
     },
     "execution_count": 41,
     "metadata": {},
     "output_type": "execute_result"
    }
   ],
   "source": [
    "map(lambda i : i.capitalize(),list1)"
   ]
  },
  {
   "cell_type": "code",
   "execution_count": 60,
   "id": "a1d5a7d8-3315-482b-b816-d527451156f3",
   "metadata": {},
   "outputs": [
    {
     "data": {
      "text/plain": [
       "['Hyd', 'Blr', 'Chennai']"
      ]
     },
     "execution_count": 60,
     "metadata": {},
     "output_type": "execute_result"
    }
   ],
   "source": [
    "list(map(lambda i : i.capitalize(),list1))"
   ]
  },
  {
   "cell_type": "code",
   "execution_count": 59,
   "id": "b80f71f7-715a-496a-85ab-fceb75b3ec6e",
   "metadata": {},
   "outputs": [
    {
     "data": {
      "text/plain": [
       "['Hyd', 'Blr', 'Chennai']"
      ]
     },
     "execution_count": 59,
     "metadata": {},
     "output_type": "execute_result"
    }
   ],
   "source": [
    "# Step:-1 Create a normal lambda function.\n",
    "#         Lambda <arg>: <output>\n",
    "# step:-2 add the iterate\n",
    "#         lambda <arg>:<output>,<list>\n",
    "# step:-3 map the both function and list\n",
    "#         map(lambda<arg>:<output>,<list>)\n",
    "# step:-4 save the result in a list or tuple\n",
    "#        list(map(lambda<agr>:<output>,<list>))\n",
    "lambda i:i.capitalize()\n",
    "lambda i:i.capitalize(),list1\n",
    "map(lambda i:i.capitalize(),list1)\n",
    "list(map(lambda i:i.capitalize(),list1))"
   ]
  },
  {
   "cell_type": "code",
   "execution_count": 14,
   "id": "20caf455-ccb5-4ddb-bb7d-671090ba7cad",
   "metadata": {},
   "outputs": [
    {
     "data": {
      "text/plain": [
       "['Hyd', 'Blr', 'Chennai']"
      ]
     },
     "execution_count": 14,
     "metadata": {},
     "output_type": "execute_result"
    }
   ],
   "source": [
    "list1=[\"hyd\",\"blr\",\"chennai\"]\n",
    "list(map(lambda i:i.capitalize(),list1))"
   ]
  },
  {
   "cell_type": "code",
   "execution_count": 15,
   "id": "e124e12c-514d-4535-83e6-f58da90d6167",
   "metadata": {},
   "outputs": [
    {
     "data": {
      "text/plain": [
       "['Hyd', 'Blr', 'Chennai']"
      ]
     },
     "execution_count": 15,
     "metadata": {},
     "output_type": "execute_result"
    }
   ],
   "source": [
    "list1=[\"hyd\",\"blr\",\"chennai\"]\n",
    "list(map(lambda i: i.title(),list1))"
   ]
  },
  {
   "cell_type": "code",
   "execution_count": 6,
   "id": "b1d5d279-c680-48bf-8854-2f4cebffe36c",
   "metadata": {},
   "outputs": [
    {
     "data": {
      "text/plain": [
       "['HYD', 'BLR', 'CHENNAI']"
      ]
     },
     "execution_count": 6,
     "metadata": {},
     "output_type": "execute_result"
    }
   ],
   "source": [
    "list1=[\"hyd\",\"blr\",\"chennai\"]\n",
    "list(map(lambda i: i.upper(),list1))"
   ]
  },
  {
   "cell_type": "code",
   "execution_count": 7,
   "id": "016cb29f-0328-408b-9fff-0031094363e7",
   "metadata": {},
   "outputs": [
    {
     "data": {
      "text/plain": [
       "['hyd', 'blr', 'chennai']"
      ]
     },
     "execution_count": 7,
     "metadata": {},
     "output_type": "execute_result"
    }
   ],
   "source": [
    "list1=[\"hyd\",\"blr\",\"chennai\"]\n",
    "list(map(lambda i: i.lower(),list1))"
   ]
  },
  {
   "cell_type": "code",
   "execution_count": 13,
   "id": "8ed4cdc8-1d87-4a42-a480-32940fb5890b",
   "metadata": {},
   "outputs": [
    {
     "data": {
      "text/plain": [
       "[' hyd ', ' blr ', 'chennai']"
      ]
     },
     "execution_count": 13,
     "metadata": {},
     "output_type": "execute_result"
    }
   ],
   "source": [
    "list1=[\"hyd\",\"blr\",\"chennai\"]\n",
    "list(map(lambda i: i.center(5),list1))"
   ]
  },
  {
   "cell_type": "code",
   "execution_count": null,
   "id": "7a8e4607-92f4-4d67-af0c-01fbaa212390",
   "metadata": {},
   "outputs": [],
   "source": [
    "# Step:1 whenever you are "
   ]
  },
  {
   "cell_type": "markdown",
   "id": "b6b0189e-76a8-4d3c-8057-b579c52fa274",
   "metadata": {},
   "source": [
    "$ Filter Method $"
   ]
  },
  {
   "cell_type": "code",
   "execution_count": 70,
   "id": "79f458c7-99ec-43d4-802a-e277f61a0d81",
   "metadata": {},
   "outputs": [
    {
     "data": {
      "text/plain": [
       "['che#nnai']"
      ]
     },
     "execution_count": 70,
     "metadata": {},
     "output_type": "execute_result"
    }
   ],
   "source": [
    "list1=[\"hyd\",\"blr\",\"che#nnai\"]\n",
    "list(filter(lambda i: \"#\" in i,list1))"
   ]
  },
  {
   "cell_type": "code",
   "execution_count": 21,
   "id": "07f7feea-67f7-4259-8819-c246cb1dc1df",
   "metadata": {},
   "outputs": [
    {
     "data": {
      "text/plain": [
       "['hyd', 'blr']"
      ]
     },
     "execution_count": 21,
     "metadata": {},
     "output_type": "execute_result"
    }
   ],
   "source": [
    "list1=[\"hyd\",\"blr\",\"chennai\"]\n",
    "#list2=[\"hyd\",\"blr\"] # len(i) <=3\n",
    "list(filter(lambda i: len(i)<=3,list1))"
   ]
  },
  {
   "cell_type": "code",
   "execution_count": null,
   "id": "7d9b69f4-8fd9-4ee3-97e7-8c92930ab6a3",
   "metadata": {},
   "outputs": [],
   "source": []
  }
 ],
 "metadata": {
  "kernelspec": {
   "display_name": "Python 3 (ipykernel)",
   "language": "python",
   "name": "python3"
  },
  "language_info": {
   "codemirror_mode": {
    "name": "ipython",
    "version": 3
   },
   "file_extension": ".py",
   "mimetype": "text/x-python",
   "name": "python",
   "nbconvert_exporter": "python",
   "pygments_lexer": "ipython3",
   "version": "3.11.7"
  }
 },
 "nbformat": 4,
 "nbformat_minor": 5
}
