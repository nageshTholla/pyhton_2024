{
 "cells": [
  {
   "cell_type": "markdown",
   "id": "01e739df-1812-4909-8ab1-04c068e496f5",
   "metadata": {},
   "source": [
    "# DICTIONARY"
   ]
  },
  {
   "cell_type": "code",
   "execution_count": null,
   "id": "20a5e534-34a0-4570-8016-b194b4a2ed8e",
   "metadata": {},
   "outputs": [],
   "source": [
    "- Dictionary is represents with curly braces\n",
    "\n",
    "-Strings using quotes\n",
    "\n",
    "-List using square brackets\n",
    "\n",
    "-Type using parnathses\n",
    "\n",
    "- Dictionary is always a pair key and value\n",
    "\n",
    "-<key>:<value>"
   ]
  },
  {
   "cell_type": "code",
   "execution_count": 1,
   "id": "d05a63c2-d77e-4156-bd57-27b9553c698a",
   "metadata": {},
   "outputs": [
    {
     "name": "stdout",
     "output_type": "stream",
     "text": [
      "mubbashir 22\n",
      "sameer 24\n",
      "nagesh 26\n",
      "shareef 28\n"
     ]
    }
   ],
   "source": [
    "name={\"nagesh\",\"sameer\",\"shareef\",\"mubbashir\"}\n",
    "age=[22,24,26,28]\n",
    "for i,j in zip(name,age):\n",
    "    print(i,j)"
   ]
  },
  {
   "cell_type": "code",
   "execution_count": 2,
   "id": "842e4f9f-6ab2-4582-967f-6c627b82eac9",
   "metadata": {},
   "outputs": [
    {
     "data": {
      "text/plain": [
       "{'nagesh': 22, 'sameer': 24, 'shareef': 26, 'mubbashir': 28}"
      ]
     },
     "execution_count": 2,
     "metadata": {},
     "output_type": "execute_result"
    }
   ],
   "source": [
    "#<key>:<value>\n",
    "dict1={\"nagesh\":22,\"sameer\":24,\"shareef\":26,\"mubbashir\":28}\n",
    "dict1"
   ]
  },
  {
   "cell_type": "code",
   "execution_count": 3,
   "id": "de2015d6-4193-4299-89aa-2b668343b4da",
   "metadata": {},
   "outputs": [
    {
     "data": {
      "text/plain": [
       "type"
      ]
     },
     "execution_count": 3,
     "metadata": {},
     "output_type": "execute_result"
    }
   ],
   "source": [
    "type(dict)"
   ]
  },
  {
   "cell_type": "code",
   "execution_count": 5,
   "id": "4c27c4de-56e3-4f89-9607-afa7f99afff8",
   "metadata": {},
   "outputs": [
    {
     "data": {
      "text/plain": [
       "{'nagesh': 22, 'sameer': 24, 'shareef': 26, 'mubbashir': 28}"
      ]
     },
     "execution_count": 5,
     "metadata": {},
     "output_type": "execute_result"
    }
   ],
   "source": [
    "dict1={\"nagesh\":22,\"sameer\":24,\"shareef\":26,\"mubbashir\":28}\n",
    "dict1"
   ]
  },
  {
   "cell_type": "code",
   "execution_count": 7,
   "id": "40573812-f9e1-49ee-9a36-85c2692319d6",
   "metadata": {},
   "outputs": [
    {
     "data": {
      "text/plain": [
       "{'nagesh': '22', 'sameer': '24', 'shareef': '26', 'mubbashir': '28'}"
      ]
     },
     "execution_count": 7,
     "metadata": {},
     "output_type": "execute_result"
    }
   ],
   "source": [
    "dict2={\"nagesh\":\"22\",\"sameer\":\"24\",\"shareef\":\"26\",\"mubbashir\":\"28\"}\n",
    "dict2"
   ]
  },
  {
   "cell_type": "code",
   "execution_count": null,
   "id": "d814e5b9-66a7-4cab-a41e-bd5ef604169e",
   "metadata": {},
   "outputs": [],
   "source": [
    "dict3={25:\"nagesh\",20:\"sameer\",22:\"shareef\",26:\"mubbashir\",:20}\n",
    "dict3   # not works"
   ]
  },
  {
   "cell_type": "code",
   "execution_count": null,
   "id": "bd885bca-5f4d-48d4-afa6-a3d4aed9daa5",
   "metadata": {},
   "outputs": [],
   "source": [
    "dict4={25:50}\n",
    "dict4  # not works"
   ]
  },
  {
   "cell_type": "code",
   "execution_count": null,
   "id": "80bb483e-736e-4d08-91f0-15ba50521e50",
   "metadata": {},
   "outputs": [],
   "source": [
    "dict5={Fruits\":[\"Apple\",\"cherry\"]}\n",
    "dict5"
   ]
  },
  {
   "cell_type": "markdown",
   "id": "a0b9c480-10f2-4535-aa80-5489fe888814",
   "metadata": {},
   "source": [
    "- **keys are important***\n",
    "\n",
    "- keys have only latest value\n",
    "\n",
    "- no duplicate keys\n",
    "\n",
    "- keys should be only one\n",
    "\n",
    "- values can be duplicate\n",
    "\n",
    "- which means diffrent keys can have same value\n",
    "\n",
    "- list can not be a key\n",
    "\n",
    "    - tuple can be a key"
   ]
  },
  {
   "cell_type": "markdown",
   "id": "19672b76-d1ac-40b1-b86d-a01e7d424b6c",
   "metadata": {},
   "source": [
    "- min\n",
    "\n",
    "- max\n",
    "\n",
    "- len\n",
    "\n",
    "- sorted\n",
    "\n",
    "- reversed"
   ]
  },
  {
   "cell_type": "code",
   "execution_count": 9,
   "id": "240c4a16-fa74-4ef8-953a-657be98516cd",
   "metadata": {},
   "outputs": [
    {
     "data": {
      "text/plain": [
       "'mubbashir'"
      ]
     },
     "execution_count": 9,
     "metadata": {},
     "output_type": "execute_result"
    }
   ],
   "source": [
    "d={\"nagesh\",\"sameer\",\"shareef\",\"mubbashir\"}\n",
    "min(d)"
   ]
  },
  {
   "cell_type": "code",
   "execution_count": 10,
   "id": "aeea70fe-0607-44e1-a400-2a52fb21f31f",
   "metadata": {},
   "outputs": [
    {
     "data": {
      "text/plain": [
       "'shareef'"
      ]
     },
     "execution_count": 10,
     "metadata": {},
     "output_type": "execute_result"
    }
   ],
   "source": [
    "d={\"nagesh\",\"sameer\",\"shareef\",\"mubbashir\"}\n",
    "max(d)"
   ]
  },
  {
   "cell_type": "code",
   "execution_count": 11,
   "id": "32b723a1-476d-4c86-8dff-2cfe5626dc81",
   "metadata": {},
   "outputs": [
    {
     "data": {
      "text/plain": [
       "4"
      ]
     },
     "execution_count": 11,
     "metadata": {},
     "output_type": "execute_result"
    }
   ],
   "source": [
    "d={\"nagesh\",\"sameer\",\"shareef\",\"mubbashir\"}\n",
    "len(d)"
   ]
  },
  {
   "cell_type": "code",
   "execution_count": 6,
   "id": "52001945-5cd8-4052-839c-9d302e07785b",
   "metadata": {},
   "outputs": [
    {
     "data": {
      "text/plain": [
       "['mubbashir', 'nagesh', 'sameer', 'shareef']"
      ]
     },
     "execution_count": 6,
     "metadata": {},
     "output_type": "execute_result"
    }
   ],
   "source": [
    "d={\"nagesh\",\"sameer\",\"shareef\",\"mubbashir\"}\n",
    "sorted(d)"
   ]
  },
  {
   "cell_type": "code",
   "execution_count": 11,
   "id": "c72354e3-00fe-4282-98d5-0a4d0be8afc8",
   "metadata": {},
   "outputs": [
    {
     "name": "stdout",
     "output_type": "stream",
     "text": [
      "mubbashir shareef sameer nagesh "
     ]
    }
   ],
   "source": [
    "d={\"nagesh\":20,\"sameer\":22,\"shareef\":25,\"mubbashir\":23}\n",
    "for i in reversed(d):\n",
    "    print(i,end=' ')"
   ]
  },
  {
   "cell_type": "code",
   "execution_count": 1,
   "id": "35408111-6a7d-4a13-ada1-49fcd9db285d",
   "metadata": {},
   "outputs": [
    {
     "data": {
      "text/plain": [
       "20"
      ]
     },
     "execution_count": 1,
     "metadata": {},
     "output_type": "execute_result"
    }
   ],
   "source": [
    "d={\"nagesh\":20,\"sameer\":22,\"shareef\":25,\"mubbashir\":23}\n",
    "d[\"nagesh\"]"
   ]
  },
  {
   "cell_type": "code",
   "execution_count": null,
   "id": "51e5cace-ce2a-4da1-9136-f9a927f7ea49",
   "metadata": {},
   "outputs": [],
   "source": [
    "** Keys are important**\n",
    "\n",
    "-Dictionary is a **key-value** pair\n",
    "\n",
    "-there is no concept of index as numbers\n",
    "\n",
    "-if you want to rewrite any value e need to provide key index\n",
    "\n",
    "-we can access values using only corresponding keys"
   ]
  },
  {
   "cell_type": "code",
   "execution_count": 3,
   "id": "52ae5eaf-3b8d-448d-90d5-3b9f34594341",
   "metadata": {},
   "outputs": [
    {
     "name": "stdout",
     "output_type": "stream",
     "text": [
      "20\n",
      "22\n",
      "25\n",
      "23\n"
     ]
    }
   ],
   "source": [
    "d={\"nagesh\":20,\"sameer\":22,\"shareef\":25,\"mubbashir\":23}\n",
    "print(d[\"nagesh\"])\n",
    "print(d[\"sameer\"])\n",
    "print(d[\"shareef\"])\n",
    "print(d[\"mubbashir\"])"
   ]
  },
  {
   "cell_type": "code",
   "execution_count": 4,
   "id": "38496c9a-7905-41f5-b038-abb70da282b2",
   "metadata": {},
   "outputs": [
    {
     "name": "stdout",
     "output_type": "stream",
     "text": [
      "nagesh 20\n",
      "sameer 22\n",
      "shareef 25\n",
      "mubbashir 23\n"
     ]
    }
   ],
   "source": [
    "for i in d:\n",
    "    print(i,d[i])"
   ]
  },
  {
   "cell_type": "code",
   "execution_count": 8,
   "id": "454b177b-3055-4d3c-ac3e-9ce8a10161be",
   "metadata": {},
   "outputs": [
    {
     "name": "stdout",
     "output_type": "stream",
     "text": [
      " nagesh age is 20\n",
      " sameer age is 22\n",
      " shareef age is 25\n",
      " mubbashir age is 23\n"
     ]
    }
   ],
   "source": [
    "for i in d:\n",
    "    print(f\" {i} age is {d[i]}\")"
   ]
  },
  {
   "cell_type": "code",
   "execution_count": 13,
   "id": "276038b4-34d4-46d4-9121-eacc71ab7987",
   "metadata": {},
   "outputs": [
    {
     "data": {
      "text/plain": [
       "'Apple'"
      ]
     },
     "execution_count": 13,
     "metadata": {},
     "output_type": "execute_result"
    }
   ],
   "source": [
    "# How to access the elememt\n",
    "d={\"Fruits\":[\"Apple\"]}\n",
    "d[\"Fruits\"][0]"
   ]
  },
  {
   "cell_type": "code",
   "execution_count": 18,
   "id": "2bcc8693-1bc5-41da-8a4e-b1311dbbb299",
   "metadata": {},
   "outputs": [
    {
     "data": {
      "text/plain": [
       "{'Apple': ['Kashmir']}"
      ]
     },
     "execution_count": 18,
     "metadata": {},
     "output_type": "execute_result"
    }
   ],
   "source": [
    "d={\"Fruits\":{\"Apple\":[\"Kashmir\"]}}\n",
    "d[\"Fruits\"]"
   ]
  },
  {
   "cell_type": "code",
   "execution_count": 19,
   "id": "dfc7efc8-2727-40dd-ac87-41916a13acdc",
   "metadata": {},
   "outputs": [
    {
     "data": {
      "text/plain": [
       "1"
      ]
     },
     "execution_count": 19,
     "metadata": {},
     "output_type": "execute_result"
    }
   ],
   "source": [
    "len(d)"
   ]
  },
  {
   "cell_type": "code",
   "execution_count": 23,
   "id": "60d8ae76-030e-4ea3-a38e-90b3a0fb0267",
   "metadata": {},
   "outputs": [
    {
     "data": {
      "text/plain": [
       "{'Fruits': {'Apple': [{'Kashmir': 'india'}, {'hyd': 'TS'}]}}"
      ]
     },
     "execution_count": 23,
     "metadata": {},
     "output_type": "execute_result"
    }
   ],
   "source": [
    "d1={\"Fruits\":{\"Apple\":[\n",
    "                    {\"Kashmir\":\"india\"},\n",
    "                    {\"hyd\":\"TS\"},\n",
    "                    ]\n",
    "             }\n",
    "   }\n",
    "d1"
   ]
  },
  {
   "cell_type": "code",
   "execution_count": 30,
   "id": "051d7a98-05c2-4fd9-b89e-d04df025e6a6",
   "metadata": {},
   "outputs": [
    {
     "data": {
      "text/plain": [
       "'TS'"
      ]
     },
     "execution_count": 30,
     "metadata": {},
     "output_type": "execute_result"
    }
   ],
   "source": [
    "d1[\"Fruits\"][\"Apple\"][1][\"hyd\"]"
   ]
  },
  {
   "cell_type": "code",
   "execution_count": 31,
   "id": "d4f213ed-c6e8-4d28-a0b7-74c7db046e2a",
   "metadata": {},
   "outputs": [
    {
     "data": {
      "text/plain": [
       "{'Fruits': {'Mango': {'Benganpalli': {'Nagapur market': {'MH': {'Shivaji': 'the boss'}}}}}}"
      ]
     },
     "execution_count": 31,
     "metadata": {},
     "output_type": "execute_result"
    }
   ],
   "source": [
    "d={\"Fruits\":{\"Mango\":{\"Benganpalli\":{\"Nagapur market\":{\"MH\":{\"Shivaji\":\"the boss\"}}}}}}\n",
    "d"
   ]
  },
  {
   "cell_type": "code",
   "execution_count": 32,
   "id": "21152f99-7245-4a2d-bf9c-4e5266519ebd",
   "metadata": {},
   "outputs": [
    {
     "data": {
      "text/plain": [
       "'the boss'"
      ]
     },
     "execution_count": 32,
     "metadata": {},
     "output_type": "execute_result"
    }
   ],
   "source": [
    "d[\"Fruits\"][\"Mango\"][\"Benganpalli\"][\"Nagapur market\"][\"MH\"][\"Shivaji\"]"
   ]
  },
  {
   "cell_type": "code",
   "execution_count": 33,
   "id": "8d474e65-6d1b-41b5-941e-28976b5fe1b2",
   "metadata": {},
   "outputs": [
    {
     "data": {
      "text/plain": [
       "1"
      ]
     },
     "execution_count": 33,
     "metadata": {},
     "output_type": "execute_result"
    }
   ],
   "source": [
    "len(d)"
   ]
  },
  {
   "cell_type": "code",
   "execution_count": null,
   "id": "e93e7f1c-92a7-4107-ac0d-d4ce6dbbe54d",
   "metadata": {},
   "outputs": [],
   "source": [
    "# How to create empty dictionary \n",
    "\n",
    "- It is very important to know how to make empty list\n",
    "\n",
    "-How to make empty string\n",
    "\n",
    "-How to make empty dictionary"
   ]
  },
  {
   "cell_type": "code",
   "execution_count": 5,
   "id": "5e9b708f-b62e-48a7-bd18-473ac01d3a47",
   "metadata": {},
   "outputs": [
    {
     "name": "stdout",
     "output_type": "stream",
     "text": [
      "p y t h o n\n"
     ]
    }
   ],
   "source": [
    "str1=\"python\"\n",
    "str2=''\n",
    "for i in str1:\n",
    "    str2=str2+i\n",
    "print(*str2)"
   ]
  },
  {
   "cell_type": "code",
   "execution_count": 2,
   "id": "26241ab3-f156-415b-9f36-ed77ed80349a",
   "metadata": {},
   "outputs": [
    {
     "data": {
      "text/plain": [
       "[1, 2, 3, 4, 5]"
      ]
     },
     "execution_count": 2,
     "metadata": {},
     "output_type": "execute_result"
    }
   ],
   "source": [
    "l1=[1,2,3,4,5]\n",
    "l2=[]\n",
    "for i in l1:\n",
    "    l2.append(i)\n",
    "l2"
   ]
  },
  {
   "cell_type": "code",
   "execution_count": 4,
   "id": "c03a0bab-2790-414d-b209-3acc48754028",
   "metadata": {},
   "outputs": [
    {
     "data": {
      "text/plain": [
       "{'Ramesh': 50, 'suresh': 100, 'sathish': 150, 'manish': 200}"
      ]
     },
     "execution_count": 4,
     "metadata": {},
     "output_type": "execute_result"
    }
   ],
   "source": [
    "d={}\n",
    "d[\"Ramesh\"]=50\n",
    "d[\"suresh\"]=100\n",
    "d[\"sathish\"]=150\n",
    "d[\"manish\"]=200\n",
    "d"
   ]
  },
  {
   "cell_type": "code",
   "execution_count": 5,
   "id": "c3af6aa8-2d62-4b98-b4a9-7bc1850962e3",
   "metadata": {},
   "outputs": [
    {
     "data": {
      "text/plain": [
       "4"
      ]
     },
     "execution_count": 5,
     "metadata": {},
     "output_type": "execute_result"
    }
   ],
   "source": [
    "len(d)"
   ]
  },
  {
   "cell_type": "markdown",
   "id": "f030a3b3-7150-4854-99b6-bcd2aedd445b",
   "metadata": {},
   "source": [
    "# Convert to list"
   ]
  },
  {
   "cell_type": "code",
   "execution_count": 6,
   "id": "1f11460a-9eac-419a-ae36-33bf3841d7d3",
   "metadata": {},
   "outputs": [
    {
     "data": {
      "text/plain": [
       "['hai', 'how', 'are', 'you']"
      ]
     },
     "execution_count": 6,
     "metadata": {},
     "output_type": "execute_result"
    }
   ],
   "source": [
    "# splict: convert string to list\n",
    "str1=\"hai how are you\"\n",
    "l=str1.split()\n",
    "l"
   ]
  },
  {
   "cell_type": "markdown",
   "id": "86792400-b1f0-4f88-9749-d3e8285be269",
   "metadata": {},
   "source": [
    "# join convert list to string"
   ]
  },
  {
   "cell_type": "code",
   "execution_count": 9,
   "id": "6320b725-9997-4bd5-8f34-a2e5386f32a3",
   "metadata": {},
   "outputs": [
    {
     "data": {
      "text/plain": [
       "'hai how are you'"
      ]
     },
     "execution_count": 9,
     "metadata": {},
     "output_type": "execute_result"
    }
   ],
   "source": [
    "l=['hai', 'how', 'are', 'you']\n",
    "' '.join(l)"
   ]
  },
  {
   "cell_type": "code",
   "execution_count": 10,
   "id": "fdb17757-ee3a-4e0d-8594-092dede430aa",
   "metadata": {},
   "outputs": [
    {
     "data": {
      "text/plain": [
       "'hai how are you'"
      ]
     },
     "execution_count": 10,
     "metadata": {},
     "output_type": "execute_result"
    }
   ],
   "source": [
    "l=['hai', 'how', 'are', 'you']\n",
    "new_string=' '.join(l)\n",
    "new_string"
   ]
  },
  {
   "cell_type": "markdown",
   "id": "c83d3a4a-350f-4a12-bc51-c054ba126e0d",
   "metadata": {},
   "source": [
    "# we have two lists to convert into dictionary"
   ]
  },
  {
   "cell_type": "code",
   "execution_count": 12,
   "id": "98f5c1e1-74d7-4011-8926-aa2eb359bbc6",
   "metadata": {},
   "outputs": [
    {
     "data": {
      "text/plain": [
       "{'nagesh': 20, 'kishore': 10, 'shabarinath': 3}"
      ]
     },
     "execution_count": 12,
     "metadata": {},
     "output_type": "execute_result"
    }
   ],
   "source": [
    "name=[\"nagesh\",\"kishore\",\"shabarinath\"]\n",
    "age=[20,10,3]\n",
    "d={}\n",
    "for i,j in zip(name,age):\n",
    "    d[i]=j\n",
    "d"
   ]
  },
  {
   "cell_type": "code",
   "execution_count": 17,
   "id": "678e9de0-00c1-48bf-812d-209e054269c2",
   "metadata": {},
   "outputs": [
    {
     "data": {
      "text/plain": [
       "['hello', 'how', 'are', 'you']"
      ]
     },
     "execution_count": 17,
     "metadata": {},
     "output_type": "execute_result"
    }
   ],
   "source": [
    "str=\"hello how are you\"\n",
    "l=str.split()\n",
    "l"
   ]
  },
  {
   "cell_type": "code",
   "execution_count": 18,
   "id": "59c063c0-1ff2-45b9-9e96-e1ac0352c32b",
   "metadata": {},
   "outputs": [
    {
     "data": {
      "text/plain": [
       "'hello how are you'"
      ]
     },
     "execution_count": 18,
     "metadata": {},
     "output_type": "execute_result"
    }
   ],
   "source": [
    "l=['hello', 'how', 'are', 'you']\n",
    "' '.join(l)"
   ]
  },
  {
   "cell_type": "code",
   "execution_count": 20,
   "id": "0acb74e1-9efd-450a-abe6-03cba94f2072",
   "metadata": {},
   "outputs": [
    {
     "data": {
      "text/plain": [
       "['__add__',\n",
       " '__class__',\n",
       " '__class_getitem__',\n",
       " '__contains__',\n",
       " '__delattr__',\n",
       " '__dir__',\n",
       " '__doc__',\n",
       " '__eq__',\n",
       " '__format__',\n",
       " '__ge__',\n",
       " '__getattribute__',\n",
       " '__getitem__',\n",
       " '__getnewargs__',\n",
       " '__getstate__',\n",
       " '__gt__',\n",
       " '__hash__',\n",
       " '__init__',\n",
       " '__init_subclass__',\n",
       " '__iter__',\n",
       " '__le__',\n",
       " '__len__',\n",
       " '__lt__',\n",
       " '__mul__',\n",
       " '__ne__',\n",
       " '__new__',\n",
       " '__reduce__',\n",
       " '__reduce_ex__',\n",
       " '__repr__',\n",
       " '__rmul__',\n",
       " '__setattr__',\n",
       " '__sizeof__',\n",
       " '__str__',\n",
       " '__subclasshook__',\n",
       " 'count',\n",
       " 'index']"
      ]
     },
     "execution_count": 20,
     "metadata": {},
     "output_type": "execute_result"
    }
   ],
   "source": [
    "dir(())"
   ]
  },
  {
   "cell_type": "code",
   "execution_count": null,
   "id": "cf86fd46-c6a3-4437-9fa4-23441c800a24",
   "metadata": {},
   "outputs": [],
   "source": [
    "# dir(' ')  # string\n",
    "# dir([ ])   # list\n",
    "# dir({ })   # dict\n",
    "# dir(( ))   # tuple"
   ]
  },
  {
   "cell_type": "code",
   "execution_count": null,
   "id": "46e01715-dfc2-4576-be11-44dd742303a4",
   "metadata": {},
   "outputs": [],
   "source": [
    "** Items keys-values**\n",
    "- Items means both keys and values come together\n",
    "\n",
    "-keys means only dictionary keys\n",
    "\n",
    "-values means only dictionary values"
   ]
  },
  {
   "cell_type": "code",
   "execution_count": 23,
   "id": "d8b4e418-3a70-46c6-82ab-720cc8284ccd",
   "metadata": {},
   "outputs": [
    {
     "data": {
      "text/plain": [
       "dict_items([('nagesh', 25), ('manish', 23), ('suresh', 24)])"
      ]
     },
     "execution_count": 23,
     "metadata": {},
     "output_type": "execute_result"
    }
   ],
   "source": [
    "d={\"nagesh\":25,\"manish\":23,\"suresh\":24}\n",
    "it=d.items()\n",
    "it"
   ]
  },
  {
   "cell_type": "code",
   "execution_count": 24,
   "id": "879a2870-84f1-445b-85f5-fe5c59fe1bf9",
   "metadata": {},
   "outputs": [
    {
     "data": {
      "text/plain": [
       "dict_items"
      ]
     },
     "execution_count": 24,
     "metadata": {},
     "output_type": "execute_result"
    }
   ],
   "source": [
    "type(it)"
   ]
  },
  {
   "cell_type": "code",
   "execution_count": 25,
   "id": "0c6e1202-99fe-4c8c-9445-57bcce950478",
   "metadata": {},
   "outputs": [
    {
     "data": {
      "text/plain": [
       "[('nagesh', 25), ('manish', 23), ('suresh', 24)]"
      ]
     },
     "execution_count": 25,
     "metadata": {},
     "output_type": "execute_result"
    }
   ],
   "source": [
    "list(it)"
   ]
  },
  {
   "cell_type": "code",
   "execution_count": null,
   "id": "71a37d33-b245-47da-96cf-3410bc27ed41",
   "metadata": {},
   "outputs": [],
   "source": [
    "# Type casting\n",
    "-int()\n",
    "\n",
    "-float()\n",
    "\n",
    "-str()\n",
    "\n",
    "-list()"
   ]
  },
  {
   "cell_type": "code",
   "execution_count": 30,
   "id": "c8642d46-92e9-4b1b-89fe-5f0ae51ef0ac",
   "metadata": {},
   "outputs": [
    {
     "data": {
      "text/plain": [
       "['nagesh', 'manish', 'suresh']"
      ]
     },
     "execution_count": 30,
     "metadata": {},
     "output_type": "execute_result"
    }
   ],
   "source": [
    "d={\"nagesh\":25,\"manish\":23,\"suresh\":24}\n",
    "it=d.items()\n",
    "items_list=list(it)\n",
    "name=[]\n",
    "age=[]\n",
    "for i in items_list:\n",
    "    name.append(i[0])\n",
    "    age.append(i[1])\n",
    "name"
   ]
  },
  {
   "cell_type": "code",
   "execution_count": 31,
   "id": "d5194b9a-bd54-4484-98f4-0af2efc188b8",
   "metadata": {},
   "outputs": [
    {
     "data": {
      "text/plain": [
       "[25, 23, 24]"
      ]
     },
     "execution_count": 31,
     "metadata": {},
     "output_type": "execute_result"
    }
   ],
   "source": [
    "age"
   ]
  },
  {
   "cell_type": "code",
   "execution_count": 35,
   "id": "e7e35ea7-dd14-47e8-bf11-f95645d2949c",
   "metadata": {},
   "outputs": [
    {
     "data": {
      "text/plain": [
       "'abcdefghijklmnopqrstuvwxyz'"
      ]
     },
     "execution_count": 35,
     "metadata": {},
     "output_type": "execute_result"
    }
   ],
   "source": [
    "# step:-1 Create a lowercase letters list using string package\n",
    "# steo:-2 create a digits list 1 to 26\n",
    "# step:-3 create a dictionary {'a':1.'b':2,......'z':26}\n",
    "# step:-4 enter a string : hai\n",
    "# step:-5 output: 8-1-9\n",
    "import string\n",
    "lower_case=list(string.ascii_lowercase)\n",
    "digits=list(range(1,27))\n",
    "\n",
    "             \n",
    "    "
   ]
  },
  {
   "cell_type": "code",
   "execution_count": 7,
   "id": "25340f28-ac50-444f-9bf2-88e0a5dd2694",
   "metadata": {},
   "outputs": [
    {
     "data": {
      "text/plain": [
       "dict"
      ]
     },
     "execution_count": 7,
     "metadata": {},
     "output_type": "execute_result"
    }
   ],
   "source": [
    "dir={}\n",
    "type(dir)"
   ]
  },
  {
   "cell_type": "code",
   "execution_count": 8,
   "id": "b2243406-cc20-43e6-979c-353de04fb527",
   "metadata": {},
   "outputs": [
    {
     "data": {
      "text/plain": [
       "0"
      ]
     },
     "execution_count": 8,
     "metadata": {},
     "output_type": "execute_result"
    }
   ],
   "source": [
    "len(dir)"
   ]
  },
  {
   "cell_type": "code",
   "execution_count": 9,
   "id": "f50d0e18-6185-4875-9d6d-6ced8caed434",
   "metadata": {},
   "outputs": [
    {
     "data": {
      "text/plain": [
       "set"
      ]
     },
     "execution_count": 9,
     "metadata": {},
     "output_type": "execute_result"
    }
   ],
   "source": [
    "s=set()\n",
    "type(s)"
   ]
  },
  {
   "cell_type": "code",
   "execution_count": 10,
   "id": "8e04f363-2d99-4411-b464-961eede66c32",
   "metadata": {},
   "outputs": [
    {
     "data": {
      "text/plain": [
       "tuple"
      ]
     },
     "execution_count": 10,
     "metadata": {},
     "output_type": "execute_result"
    }
   ],
   "source": [
    "t=(())\n",
    "type(t)"
   ]
  },
  {
   "cell_type": "code",
   "execution_count": 11,
   "id": "ed36cf76-4d31-4cd3-865a-3fc1df6d8519",
   "metadata": {},
   "outputs": [
    {
     "data": {
      "text/plain": [
       "int"
      ]
     },
     "execution_count": 11,
     "metadata": {},
     "output_type": "execute_result"
    }
   ],
   "source": [
    "a=(10)\n",
    "type(a)"
   ]
  },
  {
   "cell_type": "code",
   "execution_count": 12,
   "id": "8db9c583-096c-47ab-821f-d6132f7c4e14",
   "metadata": {},
   "outputs": [
    {
     "data": {
      "text/plain": [
       "tuple"
      ]
     },
     "execution_count": 12,
     "metadata": {},
     "output_type": "execute_result"
    }
   ],
   "source": [
    "a=(20,)\n",
    "type(a)"
   ]
  },
  {
   "cell_type": "code",
   "execution_count": 13,
   "id": "6e85c308-a310-46ba-ac87-1f54828b5afa",
   "metadata": {},
   "outputs": [
    {
     "name": "stdin",
     "output_type": "stream",
     "text": [
      "Enter a string:  hai\n"
     ]
    },
    {
     "name": "stdout",
     "output_type": "stream",
     "text": [
      "Output: 8-1-9\n"
     ]
    }
   ],
   "source": [
    "import string\n",
    "lowercase_letters = list(string.ascii_lowercase)\n",
    "digits_list = list(range(1, 27))\n",
    "letter_to_position = {letter: position for letter, position in zip(lowercase_letters, digits_list)}\n",
    "user_input = input(\"Enter a string: \")\n",
    "output = \"-\".join(str(letter_to_position[letter]) for letter in user_input)\n",
    "print(\"Output:\", output)"
   ]
  },
  {
   "cell_type": "code",
   "execution_count": null,
   "id": "560f9ee9-d892-458d-8cd0-d515f48132d3",
   "metadata": {},
   "outputs": [],
   "source": []
  }
 ],
 "metadata": {
  "kernelspec": {
   "display_name": "Python 3 (ipykernel)",
   "language": "python",
   "name": "python3"
  },
  "language_info": {
   "codemirror_mode": {
    "name": "ipython",
    "version": 3
   },
   "file_extension": ".py",
   "mimetype": "text/x-python",
   "name": "python",
   "nbconvert_exporter": "python",
   "pygments_lexer": "ipython3",
   "version": "3.11.7"
  }
 },
 "nbformat": 4,
 "nbformat_minor": 5
}
