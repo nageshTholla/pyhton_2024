{
 "cells": [
  {
   "cell_type": "code",
   "execution_count": null,
   "id": "f7d135a9-0b36-4872-a9ea-8d2763613cd1",
   "metadata": {},
   "outputs": [],
   "source": [
    "- Strings\n",
    "- Lists\n",
    "- Dictionary\n",
    "- Tuples\n",
    "- Sets\n",
    "- Lamda function\n",
    "- File handling"
   ]
  },
  {
   "cell_type": "code",
   "execution_count": null,
   "id": "a78c37c3-16fd-4887-a1c0-280c6bb7ed14",
   "metadata": {},
   "outputs": [],
   "source": [
    "## String\n",
    "-Strings can initilizev in three ways\n",
    "  -Single quotes\n",
    "    -Very common way to present\n",
    "  -Double quotes\n",
    "    -Double quotes also very common way to present\n",
    "  -triple quotes\n",
    "    -triple quotes means Doc string"
   ]
  },
  {
   "cell_type": "code",
   "execution_count": 1,
   "id": "f969d372-efef-4b04-b250-0b95f88dbc54",
   "metadata": {},
   "outputs": [
    {
     "data": {
      "text/plain": [
       "'nagesh'"
      ]
     },
     "execution_count": 1,
     "metadata": {},
     "output_type": "execute_result"
    }
   ],
   "source": [
    "str1='nagesh'\n",
    "str1"
   ]
  },
  {
   "cell_type": "code",
   "execution_count": 2,
   "id": "2f9160e7-8454-4b33-bbff-c283a82fa12a",
   "metadata": {},
   "outputs": [
    {
     "data": {
      "text/plain": [
       "str"
      ]
     },
     "execution_count": 2,
     "metadata": {},
     "output_type": "execute_result"
    }
   ],
   "source": [
    "type(str1)"
   ]
  },
  {
   "cell_type": "code",
   "execution_count": 4,
   "id": "e693acb0-70da-401a-91e0-dcaae6aae3dd",
   "metadata": {},
   "outputs": [],
   "source": [
    "str2='PYTHON'\n",
    "str3='10.5'\n",
    "str4='10'\n",
    "str5='True'\n",
    "str6=\"&$\""
   ]
  },
  {
   "cell_type": "code",
   "execution_count": null,
   "id": "eac17e11-67b3-441c-aa35-5238e60ae4fa",
   "metadata": {},
   "outputs": [],
   "source": [
    "** triple quotes**\n",
    "-triple quotes is used to convey thr information\n",
    "-it is also called as Doc string\n",
    "-it is also called as multiline"
   ]
  },
  {
   "cell_type": "code",
   "execution_count": 6,
   "id": "c8d0fd47-a32f-413d-a1b1-62e4953aa9d6",
   "metadata": {},
   "outputs": [
    {
     "data": {
      "text/plain": [
       "'Hello how are you Im good'"
      ]
     },
     "execution_count": 6,
     "metadata": {},
     "output_type": "execute_result"
    }
   ],
   "source": [
    "str7=\"\"\"Hello how are you Im good\"\"\"\n",
    "str7"
   ]
  },
  {
   "cell_type": "code",
   "execution_count": 7,
   "id": "1362d47d-f2f9-4b5b-8c54-389975f2332c",
   "metadata": {},
   "outputs": [
    {
     "data": {
      "text/plain": [
       "\"I like 'python'\""
      ]
     },
     "execution_count": 7,
     "metadata": {},
     "output_type": "execute_result"
    }
   ],
   "source": [
    "str8=\"I like 'python'\"\n",
    "str8"
   ]
  },
  {
   "cell_type": "code",
   "execution_count": null,
   "id": "ccc1967e-05b5-4ad1-b0be-ca63d35f8911",
   "metadata": {},
   "outputs": [],
   "source": [
    "- type\n",
    "-print\n",
    "-len\n",
    "-max\n",
    "-min\n",
    "-reversed # Default argument\n",
    "-sorted\n",
    "-in\n",
    "-index # operation\n",
    "-slice # operation"
   ]
  },
  {
   "cell_type": "code",
   "execution_count": null,
   "id": "3cb14bee-7fcc-4b8e-863c-5ffaa9025509",
   "metadata": {},
   "outputs": [],
   "source": [
    "# TYPE **\n",
    "-type is a keyword,it will give the type of value"
   ]
  },
  {
   "cell_type": "code",
   "execution_count": 8,
   "id": "de963f47-f196-40b1-a808-c3bb670169cf",
   "metadata": {},
   "outputs": [
    {
     "data": {
      "text/plain": [
       "'python'"
      ]
     },
     "execution_count": 8,
     "metadata": {},
     "output_type": "execute_result"
    }
   ],
   "source": [
    "str1='python'\n",
    "str1"
   ]
  },
  {
   "cell_type": "code",
   "execution_count": null,
   "id": "491a0088-a6ce-4ddd-96a0-19c6923f91cd",
   "metadata": {},
   "outputs": [],
   "source": [
    "** What is the diffrent b/w keywords and package methods**\n",
    "-keyword is reversed word\n",
    "-diffrent methods are available on diffrent packages\n",
    "-we have limited keyboard are there : 35 keyword are there these are fixed\n",
    "-whenever any keyword: keyword(value)\n",
    "- Before keyword there is another statement\n",
    "-there is no dot before keyword\n",
    "    eval()\n",
    "    input()\n",
    "    type()\n",
    "    range()\n",
    "    print()\n",
    "-if you want use methods from package\n",
    "    -you need to import the package\n",
    "    -"
   ]
  },
  {
   "cell_type": "code",
   "execution_count": null,
   "id": "a9bdcbda-d1d7-441a-909c-407af2a1bd41",
   "metadata": {},
   "outputs": [],
   "source": [
    "eval()\n",
    "input()\n",
    "type()\n",
    "print()\n",
    "random.randint()\n",
    "random.sleep"
   ]
  },
  {
   "cell_type": "code",
   "execution_count": 10,
   "id": "2d15e7fa-98d4-485b-8d39-b7d3ea62b465",
   "metadata": {},
   "outputs": [
    {
     "data": {
      "text/plain": [
       "'python'"
      ]
     },
     "execution_count": 10,
     "metadata": {},
     "output_type": "execute_result"
    }
   ],
   "source": [
    "str=\"python\"\n",
    "str"
   ]
  },
  {
   "cell_type": "code",
   "execution_count": 12,
   "id": "8714ed6c-ad21-4303-b76e-48e087988530",
   "metadata": {},
   "outputs": [
    {
     "data": {
      "text/plain": [
       "str"
      ]
     },
     "execution_count": 12,
     "metadata": {},
     "output_type": "execute_result"
    }
   ],
   "source": [
    "type(str)"
   ]
  },
  {
   "cell_type": "code",
   "execution_count": 13,
   "id": "e482f038-dae1-498a-86ef-825934ac28c6",
   "metadata": {},
   "outputs": [
    {
     "data": {
      "text/plain": [
       "'python'"
      ]
     },
     "execution_count": 13,
     "metadata": {},
     "output_type": "execute_result"
    }
   ],
   "source": [
    "str1=\"python\"\n",
    "str1"
   ]
  },
  {
   "cell_type": "code",
   "execution_count": 14,
   "id": "967e42df-3941-4704-9ee4-9f3267a61c56",
   "metadata": {},
   "outputs": [
    {
     "data": {
      "text/plain": [
       "str"
      ]
     },
     "execution_count": 14,
     "metadata": {},
     "output_type": "execute_result"
    }
   ],
   "source": [
    "type(str1)"
   ]
  },
  {
   "cell_type": "code",
   "execution_count": 15,
   "id": "88b0943a-9cd5-41c6-8a63-ef4b373f21ca",
   "metadata": {},
   "outputs": [
    {
     "data": {
      "text/plain": [
       "'python'"
      ]
     },
     "execution_count": 15,
     "metadata": {},
     "output_type": "execute_result"
    }
   ],
   "source": [
    "str2=\"python\"\n",
    "str2"
   ]
  },
  {
   "cell_type": "code",
   "execution_count": 16,
   "id": "e47db73c-034a-43c0-a5c4-86eb7273cbe3",
   "metadata": {},
   "outputs": [
    {
     "data": {
      "text/plain": [
       "'y'"
      ]
     },
     "execution_count": 16,
     "metadata": {},
     "output_type": "execute_result"
    }
   ],
   "source": [
    "max(str2)"
   ]
  },
  {
   "cell_type": "code",
   "execution_count": 17,
   "id": "42603e04-dcf2-4b92-aa5c-cc103078cea1",
   "metadata": {},
   "outputs": [
    {
     "data": {
      "text/plain": [
       "(6, 9)"
      ]
     },
     "execution_count": 17,
     "metadata": {},
     "output_type": "execute_result"
    }
   ],
   "source": [
    "str1='python'\n",
    "len(str1),len('naresh it')"
   ]
  },
  {
   "cell_type": "code",
   "execution_count": 18,
   "id": "5f18fb23-b743-4c65-89a7-08f6d44c7cc1",
   "metadata": {},
   "outputs": [
    {
     "data": {
      "text/plain": [
       "1"
      ]
     },
     "execution_count": 18,
     "metadata": {},
     "output_type": "execute_result"
    }
   ],
   "source": [
    "len(' ')"
   ]
  },
  {
   "cell_type": "code",
   "execution_count": null,
   "id": "ccb311da-8efd-4239-af67-9e45084f2a07",
   "metadata": {},
   "outputs": [],
   "source": [
    "** max**\n",
    "-it will revrite maximum character based on ascii value"
   ]
  },
  {
   "cell_type": "code",
   "execution_count": 19,
   "id": "2fc3f6d1-bc2a-4797-841b-bd24c99398ce",
   "metadata": {},
   "outputs": [
    {
     "data": {
      "text/plain": [
       "'python'"
      ]
     },
     "execution_count": 19,
     "metadata": {},
     "output_type": "execute_result"
    }
   ],
   "source": [
    "str='python'\n",
    "str"
   ]
  },
  {
   "cell_type": "code",
   "execution_count": 20,
   "id": "30d69f49-6a5e-4d9f-91ff-946276b0f7cf",
   "metadata": {},
   "outputs": [
    {
     "data": {
      "text/plain": [
       "'y'"
      ]
     },
     "execution_count": 20,
     "metadata": {},
     "output_type": "execute_result"
    }
   ],
   "source": [
    "max(str)"
   ]
  },
  {
   "cell_type": "code",
   "execution_count": 22,
   "id": "2b9ababc-6a2e-422b-a3ff-9c401c5f08ac",
   "metadata": {},
   "outputs": [
    {
     "data": {
      "text/plain": [
       "'h'"
      ]
     },
     "execution_count": 22,
     "metadata": {},
     "output_type": "execute_result"
    }
   ],
   "source": [
    "min(str)"
   ]
  },
  {
   "cell_type": "code",
   "execution_count": 26,
   "id": "56893868-f552-4c65-a99b-d8a1c4b23142",
   "metadata": {},
   "outputs": [
    {
     "data": {
      "text/plain": [
       "6"
      ]
     },
     "execution_count": 26,
     "metadata": {},
     "output_type": "execute_result"
    }
   ],
   "source": [
    "len(str)"
   ]
  },
  {
   "cell_type": "code",
   "execution_count": null,
   "id": "063271e7-5330-4c67-98a9-2b758364526f",
   "metadata": {},
   "outputs": [],
   "source": []
  },
  {
   "cell_type": "code",
   "execution_count": 21,
   "id": "906cc8e4-efba-4a39-8d6d-28cfb0ebd55a",
   "metadata": {},
   "outputs": [
    {
     "data": {
      "text/plain": [
       "(112, 121, 116, 104, 111, 110)"
      ]
     },
     "execution_count": 21,
     "metadata": {},
     "output_type": "execute_result"
    }
   ],
   "source": [
    "ord('p'),ord('y'),ord('t'),ord('h'),ord('o'),ord('n')"
   ]
  },
  {
   "cell_type": "code",
   "execution_count": null,
   "id": "714f1a3a-110f-41c2-ae9d-51fb8ade3450",
   "metadata": {},
   "outputs": [],
   "source": [
    "** sum**\n",
    "- it will return \n",
    "-it will not works from numbers\n",
    "-till works from  numbers"
   ]
  },
  {
   "cell_type": "code",
   "execution_count": 25,
   "id": "52b6f85e-5d4a-4069-8f3c-14ae597062a4",
   "metadata": {},
   "outputs": [
    {
     "name": "stdout",
     "output_type": "stream",
     "text": [
      "n\n",
      "o\n",
      "h\n",
      "t\n",
      "y\n",
      "p\n"
     ]
    }
   ],
   "source": [
    "str1=reversed('python')\n",
    "for i in str1:\n",
    "    print(i)"
   ]
  },
  {
   "cell_type": "code",
   "execution_count": null,
   "id": "09ac9597-0d9a-4175-806e-1781ee87eb9b",
   "metadata": {},
   "outputs": [],
   "source": [
    "** NOTE**\n",
    "- whenever you see the output b/w inside greater than and less than symbol\n",
    "-means the output is stored  inside that\n",
    "-it is nothing but a**iteration**\n",
    "-iterator means the output we can see loop only"
   ]
  },
  {
   "cell_type": "code",
   "execution_count": null,
   "id": "701327f2-0887-49c2-b36e-6d0877366320",
   "metadata": {},
   "outputs": [],
   "source": [
    "** Sorted**\n",
    "- will give the output ascending order or descending order based on ascii values\n",
    "- sorted has one argument called reverse\n",
    "- reverse is a default argument with value false\n",
    "-false means it returns in ascending order\n",
    "-ascending means small to big\n",
    "-now give reverse =True and check the order\n",
    "-it should be descending order\n",
    "-descending order"
   ]
  },
  {
   "cell_type": "code",
   "execution_count": 27,
   "id": "953978b7-4534-465c-9efc-7d3c78b39a02",
   "metadata": {},
   "outputs": [
    {
     "data": {
      "text/plain": [
       "(112, 121, 116, 104, 111, 110)"
      ]
     },
     "execution_count": 27,
     "metadata": {},
     "output_type": "execute_result"
    }
   ],
   "source": [
    "ord('p'),ord('y'),ord('t'),ord('h'),ord('o'),ord('n')"
   ]
  },
  {
   "cell_type": "code",
   "execution_count": 28,
   "id": "35922a05-41f8-4f50-86b1-afe043a7c15a",
   "metadata": {},
   "outputs": [
    {
     "data": {
      "text/plain": [
       "['y', 't', 'p', 'o', 'n', 'h']"
      ]
     },
     "execution_count": 28,
     "metadata": {},
     "output_type": "execute_result"
    }
   ],
   "source": [
    "sorted('python',reverse=True)"
   ]
  },
  {
   "cell_type": "code",
   "execution_count": 29,
   "id": "26476f8e-85f9-44bc-8617-2c91e4adf59c",
   "metadata": {},
   "outputs": [
    {
     "ename": "TypeError",
     "evalue": "sorted expected 1 argument, got 0",
     "output_type": "error",
     "traceback": [
      "\u001b[1;31m---------------------------------------------------------------------------\u001b[0m",
      "\u001b[1;31mTypeError\u001b[0m                                 Traceback (most recent call last)",
      "Cell \u001b[1;32mIn[29], line 1\u001b[0m\n\u001b[1;32m----> 1\u001b[0m \u001b[38;5;28msorted\u001b[39m(iterable\u001b[38;5;241m=\u001b[39m\u001b[38;5;124m'\u001b[39m\u001b[38;5;124mpython\u001b[39m\u001b[38;5;124m'\u001b[39m,reverse\u001b[38;5;241m=\u001b[39m\u001b[38;5;28;01mTrue\u001b[39;00m)\n",
      "\u001b[1;31mTypeError\u001b[0m: sorted expected 1 argument, got 0"
     ]
    }
   ],
   "source": [
    "sorted(iterable='python',reverse=True)\n",
    "# if you see any/\n",
    "# do not assign any arguments before the slash"
   ]
  },
  {
   "cell_type": "code",
   "execution_count": 30,
   "id": "d9f3f8b9-8670-4e14-a839-0d27b0a55c3b",
   "metadata": {},
   "outputs": [
    {
     "data": {
      "text/plain": [
       "0j"
      ]
     },
     "execution_count": 30,
     "metadata": {},
     "output_type": "execute_result"
    }
   ],
   "source": [
    "complex()"
   ]
  },
  {
   "cell_type": "code",
   "execution_count": 34,
   "id": "9e9b62dc-602e-42b3-867e-3fc4837c1f8d",
   "metadata": {},
   "outputs": [
    {
     "data": {
      "text/plain": [
       "(2+3j)"
      ]
     },
     "execution_count": 34,
     "metadata": {},
     "output_type": "execute_result"
    }
   ],
   "source": [
    "complex(2,3)"
   ]
  },
  {
   "cell_type": "code",
   "execution_count": 37,
   "id": "345c8a08-98ab-4e4e-ac6c-7ebcd799d41f",
   "metadata": {},
   "outputs": [
    {
     "ename": "SyntaxError",
     "evalue": "positional argument follows keyword argument (1381774934.py, line 4)",
     "output_type": "error",
     "traceback": [
      "\u001b[1;36m  Cell \u001b[1;32mIn[37], line 4\u001b[1;36m\u001b[0m\n\u001b[1;33m    complex(real=2,3)\u001b[0m\n\u001b[1;37m                    ^\u001b[0m\n\u001b[1;31mSyntaxError\u001b[0m\u001b[1;31m:\u001b[0m positional argument follows keyword argument\n"
     ]
    }
   ],
   "source": [
    "complex()\n",
    "complex(2,3)\n",
    "complex(real=2,image=3)\n",
    "complex(real=2,3)\n",
    "complex(2,image=3)"
   ]
  },
  {
   "cell_type": "code",
   "execution_count": null,
   "id": "4e31f7be-6575-410b-aad0-297ab57c33ed",
   "metadata": {},
   "outputs": [],
   "source": [
    "import random\n",
    "random.randint() # W\n",
    "random.randint(10,20) # W\n",
    "random.randint(a=10,b=20) # W\n",
    "random.randint(c=10,d=40) # F\n",
    "random.randint(a=10,20)\n",
    "random.randint(10,b=20)"
   ]
  },
  {
   "cell_type": "markdown",
   "id": "cb655c76-1211-4f83-b00a-49e25bda2c57",
   "metadata": {},
   "source": [
    " IN"
   ]
  },
  {
   "cell_type": "code",
   "execution_count": 8,
   "id": "6b2511af-5f4a-43f9-a2a3-98e31c705129",
   "metadata": {},
   "outputs": [
    {
     "name": "stdout",
     "output_type": "stream",
     "text": [
      "h e l l o   h o w   a r e   y o u ,   I m   n a g e s h "
     ]
    }
   ],
   "source": [
    "# WAP Ask the user get the number of 'a' in a given\n",
    "str1='hello how are you, Im nagesh'\n",
    "for i in str1:\n",
    "    print(i,end=' ')\n",
    "# count =0\n",
    "# iterate through each letter\n",
    "# if that letter equal to 'a'\n",
    "# then count=count+1"
   ]
  },
  {
   "cell_type": "code",
   "execution_count": null,
   "id": "fdb17ac4-2027-4a56-8756-73fd30e45905",
   "metadata": {},
   "outputs": [],
   "source": []
  },
  {
   "cell_type": "code",
   "execution_count": 12,
   "id": "ec754175-b7c6-4dfa-868e-e77307b29a14",
   "metadata": {},
   "outputs": [
    {
     "name": "stdout",
     "output_type": "stream",
     "text": [
      "h e l l o   h o w   a a r e   y o u ,   I m   n a a g e s h "
     ]
    }
   ],
   "source": [
    "count=0\n",
    "for i in str1:\n",
    "    print(i,end= ' ')\n",
    "    if i=='a':\n",
    "        print(i,end=' ')\n",
    "        count=count+1"
   ]
  },
  {
   "cell_type": "markdown",
   "id": "aa97d127-34f7-4fb8-aaf2-e6321175c38f",
   "metadata": {},
   "source": [
    "# INDEX"
   ]
  },
  {
   "cell_type": "code",
   "execution_count": null,
   "id": "fe05c627-6f7f-433a-8d27-4571e6e8c853",
   "metadata": {},
   "outputs": [],
   "source": [
    "str1=\"hello python\"\n",
    "# in python index start with zero\n",
    "str1[0]\n",
    "str2[1]\n",
    "str3[2]\n",
    "str4[3]\n",
    "\n",
    "str[i]"
   ]
  },
  {
   "cell_type": "code",
   "execution_count": null,
   "id": "a18a5497-f47c-4e49-b2b5-7d70dafc2410",
   "metadata": {},
   "outputs": [],
   "source": [
    "h e l l o   p y t h o n\n",
    "0 1 2 3 4 5 6 7 8 9 10 11"
   ]
  },
  {
   "cell_type": "code",
   "execution_count": 6,
   "id": "e717d79f-0e04-4cc5-bb3a-153d26d226b6",
   "metadata": {},
   "outputs": [
    {
     "name": "stdout",
     "output_type": "stream",
     "text": [
      "[1, 'e']\n",
      "[2, 'l']\n",
      "[3, 'l']\n",
      "[4, 'o']\n",
      "[5, ' ']\n",
      "[6, 'p']\n",
      "[7, 'y']\n",
      "[8, 't']\n",
      "[9, 'h']\n",
      "[10, 'o']\n"
     ]
    }
   ],
   "source": [
    "for i in range(1,11):\n",
    "    print([i,str1[i]])"
   ]
  },
  {
   "cell_type": "code",
   "execution_count": null,
   "id": "4459c04b-6332-41aa-982c-ce96c302736e",
   "metadata": {},
   "outputs": [],
   "source": [
    "-12 -11 -10 -9 -8 -7 -6 -5 -4 -3 -2 -1\n",
    "h     e  l   l  o     p  y  t  h  o  n\n",
    "0     1  2   3  4  5  6  7  8  9  10 11\n"
   ]
  },
  {
   "cell_type": "code",
   "execution_count": null,
   "id": "4e0af7dd-53d6-4300-a3c5-0193fbe46163",
   "metadata": {},
   "outputs": [],
   "source": [
    "str1[-12]\n",
    "str1[-11]\n",
    "str1[-10]\n",
    "# hello python\n",
    "# -12 -1"
   ]
  },
  {
   "cell_type": "code",
   "execution_count": 8,
   "id": "0fdd8b34-8b0f-4e1a-9947-180c189a72aa",
   "metadata": {},
   "outputs": [
    {
     "name": "stdout",
     "output_type": "stream",
     "text": [
      "-12 h -11 e -10 l -9 l -8 o -7   -6 p -5 y -4 t -3 h -2 o -1 n "
     ]
    }
   ],
   "source": [
    "for i in range(-12,0):\n",
    "    print(i,str1[i],end=' ')"
   ]
  },
  {
   "cell_type": "code",
   "execution_count": 10,
   "id": "cdd9284f-d588-4750-ac5d-813f2083d4d2",
   "metadata": {},
   "outputs": [
    {
     "name": "stdout",
     "output_type": "stream",
     "text": [
      "-12 h\n",
      "-11 e\n",
      "-10 l\n",
      "-9 l\n",
      "-8 o\n",
      "-7  \n",
      "-6 p\n",
      "-5 y\n",
      "-4 t\n",
      "-3 h\n",
      "-2 o\n",
      "-1 n\n"
     ]
    }
   ],
   "source": [
    "str1='hello python'\n",
    "n=len(str1)\n",
    "for i in range(-n,0):\n",
    "    print(i,str1[i])"
   ]
  },
  {
   "cell_type": "markdown",
   "id": "b00fac04-740a-450c-83cc-0ad655e65184",
   "metadata": {},
   "source": [
    "# POSSITIVE INDEX"
   ]
  },
  {
   "cell_type": "code",
   "execution_count": 11,
   "id": "266c6e8f-8501-4628-b8d4-6445983e5d94",
   "metadata": {},
   "outputs": [
    {
     "name": "stdout",
     "output_type": "stream",
     "text": [
      "0 h\n",
      "1 e\n",
      "2 l\n",
      "3 l\n",
      "4 o\n",
      "5  \n",
      "6 p\n",
      "7 y\n",
      "8 t\n",
      "9 h\n",
      "10 o\n",
      "11 n\n"
     ]
    }
   ],
   "source": [
    "str1='hello python'\n",
    "n=len(str1)\n",
    "for i in range(n):\n",
    "    print(i,str1[i])"
   ]
  },
  {
   "cell_type": "markdown",
   "id": "7381d666-96f0-41a7-ab66-13bea758f475",
   "metadata": {},
   "source": [
    "# NEGATIVE INDEX"
   ]
  },
  {
   "cell_type": "code",
   "execution_count": 12,
   "id": "94bc3254-8c93-42b5-a320-1f2a14967107",
   "metadata": {},
   "outputs": [
    {
     "name": "stdout",
     "output_type": "stream",
     "text": [
      "-12 h\n",
      "-11 e\n",
      "-10 l\n",
      "-9 l\n",
      "-8 o\n",
      "-7  \n",
      "-6 p\n",
      "-5 y\n",
      "-4 t\n",
      "-3 h\n",
      "-2 o\n",
      "-1 n\n"
     ]
    }
   ],
   "source": [
    "str1='hello python'\n",
    "n=len(str1)\n",
    "for i in range(-n,0):\n",
    "    print(i,str1[i])"
   ]
  },
  {
   "cell_type": "code",
   "execution_count": 1,
   "id": "b1b78cea-4171-4b81-8d66-41b9f5f965ee",
   "metadata": {},
   "outputs": [
    {
     "name": "stdout",
     "output_type": "stream",
     "text": [
      "0 h 1 e 2 l 3 l 4 o 5   6 p 7 y 8 t 9 h 10 o 11 n "
     ]
    }
   ],
   "source": [
    "# Q1) WAP Ask the user to print the each letter index positive way\n",
    "# the positive index og h is 0\n",
    "# the positive index of e is 1\n",
    "str1=\"hello python\"\n",
    "n=len(str1)\n",
    "for i in range(n):\n",
    "    print(i,str1[i],end=' ')"
   ]
  },
  {
   "cell_type": "code",
   "execution_count": 17,
   "id": "464d3480-ec49-4ad8-bb2f-a74bc02f1b6a",
   "metadata": {},
   "outputs": [
    {
     "name": "stdout",
     "output_type": "stream",
     "text": [
      "-12 h -11 e -10 l -9 l -8 o -7   -6 p -5 y -4 t -3 h -2 o -1 n "
     ]
    }
   ],
   "source": [
    "# Q2) WAP Ask the user to print the each letter index negative way\n",
    "# the negative index of h  is -12\n",
    "# the negative index of e is -11\n",
    "str1=\"hello python\"\n",
    "n=len(str1)\n",
    "for i in range(-n,0):\n",
    "    print(i,str1[i],end= ' ')"
   ]
  },
  {
   "cell_type": "code",
   "execution_count": 23,
   "id": "92c66942-bcbb-4922-98ed-25642fe76d1a",
   "metadata": {},
   "outputs": [
    {
     "name": "stdout",
     "output_type": "stream",
     "text": [
      "-12 h\n",
      "0 h\n"
     ]
    }
   ],
   "source": [
    "# Q3) WAP to print the each letter index positive and negative way(single for loop)\n",
    "#  the positive index of h is 0 and negative index of h is -12\n",
    "# the positive index of e is 1 and negative index of e is -11\n",
    "str1=\"hello python\"\n",
    "n=len(str1)\n",
    "for i in range(n)and(-n,0):\n",
    "    print(i,str1[i])"
   ]
  },
  {
   "cell_type": "code",
   "execution_count": null,
   "id": "38923fa3-bcbc-4595-86ad-e0c172abe6c0",
   "metadata": {},
   "outputs": [],
   "source": [
    "# Q3) WAP to print the each letter index positive and negative way(single for loop)\n",
    "#  the positive index of h is 0 and negative index of h is -12\n",
    "# the positive index of e is 1 and negative index of e is -11\n"
   ]
  },
  {
   "cell_type": "code",
   "execution_count": 27,
   "id": "0be3a6b5-137b-4545-a2ad-97cee2c6907e",
   "metadata": {},
   "outputs": [
    {
     "name": "stdout",
     "output_type": "stream",
     "text": [
      "the positive index of h is 0:\n",
      "the positive index of e is 1:\n",
      "the positive index of l is 2:\n",
      "the positive index of l is 3:\n",
      "the positive index of o is 4:\n",
      "the positive index of   is 5:\n",
      "the positive index of p is 6:\n",
      "the positive index of y is 7:\n",
      "the positive index of t is 8:\n",
      "the positive index of h is 9:\n",
      "the positive index of o is 10:\n",
      "the positive index of n is 11:\n"
     ]
    }
   ],
   "source": [
    "for i in range(len(str1)):\n",
    "    print(f\"the positive index of {str1[i]} is {i}:\")"
   ]
  },
  {
   "cell_type": "code",
   "execution_count": 24,
   "id": "61547225-a098-4a1e-a419-3cb003ffaa17",
   "metadata": {},
   "outputs": [
    {
     "name": "stdout",
     "output_type": "stream",
     "text": [
      " the positive index of h is -12:\n",
      " the positive index of e is -11:\n",
      " the positive index of l is -10:\n",
      " the positive index of l is -9:\n",
      " the positive index of o is -8:\n",
      " the positive index of   is -7:\n",
      " the positive index of p is -6:\n",
      " the positive index of y is -5:\n",
      " the positive index of t is -4:\n",
      " the positive index of h is -3:\n",
      " the positive index of o is -2:\n",
      " the positive index of n is -1:\n"
     ]
    }
   ],
   "source": [
    "for i in range(len(str1)):\n",
    "    print(f\" the positive index of {str1[i]} is {i-len(str1)}:\")"
   ]
  },
  {
   "cell_type": "code",
   "execution_count": 28,
   "id": "80e9bc82-ffd3-477f-90bc-091a12684b43",
   "metadata": {},
   "outputs": [
    {
     "name": "stdout",
     "output_type": "stream",
     "text": [
      "0 a\n",
      "1 v\n",
      "2 a\n",
      "3 i\n",
      "4 l\n",
      "5 a\n",
      "6 b\n",
      "7 l\n",
      "8 e\n"
     ]
    }
   ],
   "source": [
    "# Q4) WAP Ask the user get the indexes of accurances of \"a\" in a given string\n",
    "# str1= available\n",
    "str1=\"available\"\n",
    "n=len(str1)\n",
    "for i in range(n):\n",
    "    print(i,str1[i])"
   ]
  },
  {
   "cell_type": "code",
   "execution_count": 30,
   "id": "19caa62b-79ae-4806-8658-8cdd417f1b76",
   "metadata": {},
   "outputs": [
    {
     "name": "stdout",
     "output_type": "stream",
     "text": [
      "0\n",
      "2\n",
      "5\n"
     ]
    }
   ],
   "source": [
    "str1='available'\n",
    "for i in range(len(str1)):\n",
    "    if str1[i]=='a':\n",
    "        print(i)"
   ]
  },
  {
   "cell_type": "code",
   "execution_count": 10,
   "id": "85b606c5-f1b1-4a0b-84a0-4a598d93bf82",
   "metadata": {},
   "outputs": [
    {
     "name": "stdout",
     "output_type": "stream",
     "text": [
      "the 1 accurance of 'a' is 0\n",
      "the 1 accurance of 'a' is 1\n",
      "the 2 accurance of 'a' is 2\n",
      "the 2 accurance of 'a' is 3\n",
      "the 2 accurance of 'a' is 4\n",
      "the 3 accurance of 'a' is 5\n",
      "the 3 accurance of 'a' is 6\n",
      "the 3 accurance of 'a' is 7\n",
      "the 3 accurance of 'a' is 8\n"
     ]
    }
   ],
   "source": [
    "# print first accurance of a index is 0\n",
    "# print second accorance of a index is 2\n",
    "# print third accurance of a index is 5\n",
    "count=0\n",
    "str1=\"available\"\n",
    "for i in range(len(str1)):\n",
    "    if str1[i]=='a':\n",
    "        count=count+1\n",
    "    print(f\"the {count} accurance of 'a' is {i}\")"
   ]
  },
  {
   "cell_type": "code",
   "execution_count": 13,
   "id": "1ef4b28b-a9c2-4f92-9d84-a1980867a6bd",
   "metadata": {},
   "outputs": [
    {
     "name": "stdout",
     "output_type": "stream",
     "text": [
      "the count of indexes of all accurances of 'a' is 0\n",
      " the s of indexes of all accurances of 'a' is 0\n"
     ]
    }
   ],
   "source": [
    "# Q6) Get the sum of all the indexes\n",
    "# Get the count of all accurances:3\n",
    "count=0\n",
    "s=0\n",
    "str1=\"available\"\n",
    "for i in range(len(str1)):\n",
    "    if str1==\"a\":\n",
    "        count=count+1\n",
    "        s=s+1\n",
    "print(f\"the count of indexes of all accurances of 'a' is {count}\")\n",
    "print(f\" the s of indexes of all accurances of 'a' is {s}\")"
   ]
  },
  {
   "cell_type": "code",
   "execution_count": 18,
   "id": "b8ddd400-da40-47d8-9762-4792e382acb3",
   "metadata": {},
   "outputs": [
    {
     "name": "stdout",
     "output_type": "stream",
     "text": [
      "a i o a e o u "
     ]
    }
   ],
   "source": [
    "# Q8) A)find the vowles in the given string\n",
    "# str1: Hai how are you\n",
    "str=\"hai how are you\"\n",
    "for i in range(len(str)):\n",
    "    if str[i] in \"aeiou\":\n",
    "        print(str[i], end=' ')"
   ]
  },
  {
   "cell_type": "code",
   "execution_count": 8,
   "id": "b1d0dc06-cd8b-404d-b79a-177ee361ac82",
   "metadata": {},
   "outputs": [
    {
     "name": "stdout",
     "output_type": "stream",
     "text": [
      "1 index of accurences of aeiou is 1\n",
      "3 index of accurences of aeiou is 2\n",
      "5 index of accurences of aeiou is 5\n",
      "7 index of accurences of aeiou is 8\n",
      "9 index of accurences of aeiou is 10\n",
      "11 index of accurences of aeiou is 13\n",
      "13 index of accurences of aeiou is 14\n"
     ]
    }
   ],
   "source": [
    "# B) find the index of vowles\n",
    "str=\"hai how are you\"\n",
    "count=0\n",
    "vowles=\"aeiou\"\n",
    "for i in range(len(str)):\n",
    "    if str[i] in vowles:\n",
    "        count=count+1\n",
    "        print(f\"{count} index of accurences of aeiou is {i}\")\n",
    "        count=count+1"
   ]
  },
  {
   "cell_type": "code",
   "execution_count": 10,
   "id": "e176e013-a7ce-4cff-a17d-3dc9ccc4a19b",
   "metadata": {},
   "outputs": [
    {
     "name": "stdout",
     "output_type": "stream",
     "text": [
      "the count of the the vowles is 7:\n"
     ]
    }
   ],
   "source": [
    "# C) find the count of the vowles \n",
    "str=\"hai how are you\"\n",
    "count=0\n",
    "summ=0\n",
    "vowles=\"aeiou\"\n",
    "for i in range(len(str)):\n",
    "    if str[i] in vowles:\n",
    "      summ=summ+1\n",
    "      count=count+1\n",
    "print(f\"the count of the the vowles is {summ}:\")"
   ]
  },
  {
   "cell_type": "code",
   "execution_count": 13,
   "id": "79fbd705-5f80-401d-90da-f8bc7372dd83",
   "metadata": {},
   "outputs": [
    {
     "name": "stdout",
     "output_type": "stream",
     "text": [
      "summ of before index of vowles is 46:\n"
     ]
    }
   ],
   "source": [
    "# D) find the sum of before index of vowles\n",
    "str=\"hai how are you\"\n",
    "count=0\n",
    "summ=0\n",
    "for i in range(len(str)):\n",
    "    if str[i] in vowles:\n",
    "        summ=summ+i-1\n",
    "print(f\"summ of before index of vowles is {summ}:\")"
   ]
  },
  {
   "cell_type": "code",
   "execution_count": null,
   "id": "19e59f72-6d75-4feb-81d1-9a45ac004808",
   "metadata": {},
   "outputs": [],
   "source": [
    "** mutable-immutable**\n",
    "-values cant change using index operation called as immutable\n",
    "-strings are immutable"
   ]
  },
  {
   "cell_type": "code",
   "execution_count": 1,
   "id": "9bd27d8f-0164-40f6-9a37-43c615f90d1b",
   "metadata": {},
   "outputs": [
    {
     "ename": "TypeError",
     "evalue": "'str' object does not support item assignment",
     "output_type": "error",
     "traceback": [
      "\u001b[1;31m---------------------------------------------------------------------------\u001b[0m",
      "\u001b[1;31mTypeError\u001b[0m                                 Traceback (most recent call last)",
      "Cell \u001b[1;32mIn[1], line 3\u001b[0m\n\u001b[0;32m      1\u001b[0m \u001b[38;5;66;03m# I want replace small p with capital p\u001b[39;00m\n\u001b[0;32m      2\u001b[0m \u001b[38;5;28mstr\u001b[39m\u001b[38;5;241m=\u001b[39m\u001b[38;5;124m\"\u001b[39m\u001b[38;5;124mpython\u001b[39m\u001b[38;5;124m\"\u001b[39m\n\u001b[1;32m----> 3\u001b[0m \u001b[38;5;28mstr\u001b[39m[\u001b[38;5;241m0\u001b[39m]\u001b[38;5;241m=\u001b[39m\u001b[38;5;124m\"\u001b[39m\u001b[38;5;124mp\u001b[39m\u001b[38;5;124m\"\u001b[39m\n",
      "\u001b[1;31mTypeError\u001b[0m: 'str' object does not support item assignment"
     ]
    }
   ],
   "source": [
    "# I want replace small p with capital P\n",
    "str=\"python\"\n",
    "str[0]=\"p\""
   ]
  },
  {
   "cell_type": "code",
   "execution_count": null,
   "id": "05f23c0e-18fb-4ca5-9e6e-867fc3c8fd51",
   "metadata": {},
   "outputs": [],
   "source": [
    "## STRINGS ARE IMMUTABLE \"INTERVIEW QUESTION\""
   ]
  },
  {
   "cell_type": "code",
   "execution_count": null,
   "id": "a3df6700-a980-4bee-98f4-7cd65a4cd211",
   "metadata": {},
   "outputs": [],
   "source": [
    "** Slice**\n",
    "-cut into pieces\n",
    "-which means we can extract some part of strings\n",
    "-for that we need to understand the start, stop,step\n",
    "-s[start:stop:step]"
   ]
  },
  {
   "cell_type": "code",
   "execution_count": null,
   "id": "a9c06ff4-b72c-4d94-8c16-e482e8f33c0a",
   "metadata": {},
   "outputs": [],
   "source": [
    "-12 -11 -10 -9 -8 -7 -6 -5 -4 -3 -2 -1\n",
    "h     e  l   l  o     p  y  t  h  o  n\n",
    "0     1  2   3  4  5  6  7  8  9  10 11"
   ]
  },
  {
   "cell_type": "code",
   "execution_count": 2,
   "id": "8a1adeba-ccb4-4004-a22d-f81c95653330",
   "metadata": {},
   "outputs": [
    {
     "data": {
      "text/plain": [
       "'llo pyth'"
      ]
     },
     "execution_count": 2,
     "metadata": {},
     "output_type": "execute_result"
    }
   ],
   "source": [
    "str=\"hello python\"\n",
    "str[2:10]"
   ]
  },
  {
   "cell_type": "code",
   "execution_count": 3,
   "id": "83801577-5172-425f-bada-c12e73d09aac",
   "metadata": {},
   "outputs": [
    {
     "data": {
      "text/plain": [
       "'lopt'"
      ]
     },
     "execution_count": 3,
     "metadata": {},
     "output_type": "execute_result"
    }
   ],
   "source": [
    "str=\"hello python\"\n",
    "str[2:10:2]"
   ]
  },
  {
   "cell_type": "code",
   "execution_count": 1,
   "id": "4f8053e4-53e1-4851-be9d-22a7ba543c9c",
   "metadata": {},
   "outputs": [
    {
     "data": {
      "text/plain": [
       "''"
      ]
     },
     "execution_count": 1,
     "metadata": {},
     "output_type": "execute_result"
    }
   ],
   "source": [
    "str=\"hello python\"\n",
    "str[2:10:-2]\n",
    "# start=2\n",
    "# direction= -ve\n",
    "# last =stop+1=10+1=11\n",
    "# 2====11 (actial +ve)\n",
    "# code "
   ]
  },
  {
   "cell_type": "code",
   "execution_count": 6,
   "id": "db0d4be8-57a2-45a2-930c-9297b7546aa8",
   "metadata": {},
   "outputs": [
    {
     "data": {
      "text/plain": [
       "'y le'"
      ]
     },
     "execution_count": 6,
     "metadata": {},
     "output_type": "execute_result"
    }
   ],
   "source": [
    "str=\"hello python\"\n",
    "str[7:-12:-2]"
   ]
  },
  {
   "cell_type": "code",
   "execution_count": 2,
   "id": "d3fc243f-3999-4c5b-b52a-0d79e9d1f21c",
   "metadata": {},
   "outputs": [
    {
     "data": {
      "text/plain": [
       "'lopto'"
      ]
     },
     "execution_count": 2,
     "metadata": {},
     "output_type": "execute_result"
    }
   ],
   "source": [
    "str=\"hello python\"\n",
    "str[2:-1:2]"
   ]
  },
  {
   "cell_type": "code",
   "execution_count": 4,
   "id": "925a7914-dffb-4c3c-a8e7-7fffd30caf57",
   "metadata": {},
   "outputs": [
    {
     "data": {
      "text/plain": [
       "'lop'"
      ]
     },
     "execution_count": 4,
     "metadata": {},
     "output_type": "execute_result"
    }
   ],
   "source": [
    "str=\"hello python\"\n",
    "str[2:-4:2]"
   ]
  },
  {
   "cell_type": "code",
   "execution_count": 5,
   "id": "634910f8-75ef-4c03-a351-5b486174de37",
   "metadata": {},
   "outputs": [
    {
     "data": {
      "text/plain": [
       "'lop'"
      ]
     },
     "execution_count": 5,
     "metadata": {},
     "output_type": "execute_result"
    }
   ],
   "source": [
    "str=\"hello python\"\n",
    "str[2:-4:2]"
   ]
  },
  {
   "cell_type": "code",
   "execution_count": 6,
   "id": "52a93f95-1058-4044-b138-f286827cca3f",
   "metadata": {},
   "outputs": [
    {
     "data": {
      "text/plain": [
       "'lopto'"
      ]
     },
     "execution_count": 6,
     "metadata": {},
     "output_type": "execute_result"
    }
   ],
   "source": [
    "str=\"hello python\"\n",
    "str[2:12:2]"
   ]
  },
  {
   "cell_type": "code",
   "execution_count": 7,
   "id": "89844b92-7771-488d-b9d1-051cedc35206",
   "metadata": {},
   "outputs": [
    {
     "data": {
      "text/plain": [
       "'llo pyth'"
      ]
     },
     "execution_count": 7,
     "metadata": {},
     "output_type": "execute_result"
    }
   ],
   "source": [
    "str=\"hello python\"\n",
    "str[2:12-2]"
   ]
  },
  {
   "cell_type": "code",
   "execution_count": 8,
   "id": "86d62b88-7254-4942-b24d-fbd9f0325242",
   "metadata": {},
   "outputs": [
    {
     "data": {
      "text/plain": [
       "''"
      ]
     },
     "execution_count": 8,
     "metadata": {},
     "output_type": "execute_result"
    }
   ],
   "source": [
    "str=\"hello python\"\n",
    "str[2:-12:2]"
   ]
  },
  {
   "cell_type": "code",
   "execution_count": 9,
   "id": "c29301db-fd1c-46b8-a04c-e8992d1d1fc3",
   "metadata": {},
   "outputs": [
    {
     "data": {
      "text/plain": [
       "'l'"
      ]
     },
     "execution_count": 9,
     "metadata": {},
     "output_type": "execute_result"
    }
   ],
   "source": [
    "str=\"hello python\"\n",
    "str[2:-12:-2]"
   ]
  },
  {
   "cell_type": "code",
   "execution_count": 10,
   "id": "0bdcaa13-0a5c-4487-9c8a-b714ecf7da0e",
   "metadata": {},
   "outputs": [
    {
     "data": {
      "text/plain": [
       "'otpol'"
      ]
     },
     "execution_count": 10,
     "metadata": {},
     "output_type": "execute_result"
    }
   ],
   "source": [
    "str=\"hello python\"\n",
    "str[-2:-12:-2]"
   ]
  },
  {
   "cell_type": "code",
   "execution_count": 11,
   "id": "ef3f2522-2fe8-4e7d-99b1-8513ab08fbf8",
   "metadata": {},
   "outputs": [
    {
     "data": {
      "text/plain": [
       "'o'"
      ]
     },
     "execution_count": 11,
     "metadata": {},
     "output_type": "execute_result"
    }
   ],
   "source": [
    "str=\"hello python\"\n",
    "str[-2:12:2]"
   ]
  },
  {
   "cell_type": "code",
   "execution_count": 12,
   "id": "e2c9af94-6cac-4896-b3f5-17d710402be2",
   "metadata": {},
   "outputs": [
    {
     "data": {
      "text/plain": [
       "''"
      ]
     },
     "execution_count": 12,
     "metadata": {},
     "output_type": "execute_result"
    }
   ],
   "source": [
    "str=\"hello python\"\n",
    "str[-2:-12:2]"
   ]
  },
  {
   "cell_type": "code",
   "execution_count": 13,
   "id": "34ee5770-a8c4-4905-ab1b-000ffc9e784f",
   "metadata": {},
   "outputs": [
    {
     "data": {
      "text/plain": [
       "'hello python'"
      ]
     },
     "execution_count": 13,
     "metadata": {},
     "output_type": "execute_result"
    }
   ],
   "source": [
    "str[:]"
   ]
  },
  {
   "cell_type": "code",
   "execution_count": 14,
   "id": "bf17b6e9-a177-486a-a448-455a7701d26c",
   "metadata": {},
   "outputs": [
    {
     "data": {
      "text/plain": [
       "'llo python'"
      ]
     },
     "execution_count": 14,
     "metadata": {},
     "output_type": "execute_result"
    }
   ],
   "source": [
    "str[2:]"
   ]
  },
  {
   "cell_type": "code",
   "execution_count": 15,
   "id": "6ed5cbd9-8db6-46f1-b263-41c95ac94d88",
   "metadata": {},
   "outputs": [
    {
     "data": {
      "text/plain": [
       "'hello python'"
      ]
     },
     "execution_count": 15,
     "metadata": {},
     "output_type": "execute_result"
    }
   ],
   "source": [
    "str[:12]"
   ]
  },
  {
   "cell_type": "code",
   "execution_count": 16,
   "id": "77b69013-ec90-42e0-be91-6b2add0db879",
   "metadata": {},
   "outputs": [
    {
     "data": {
      "text/plain": [
       "'hello python'"
      ]
     },
     "execution_count": 16,
     "metadata": {},
     "output_type": "execute_result"
    }
   ],
   "source": [
    "str[::]"
   ]
  },
  {
   "cell_type": "code",
   "execution_count": 17,
   "id": "644e41cb-e9ca-4001-9f6d-4d3a7f29d48c",
   "metadata": {},
   "outputs": [
    {
     "data": {
      "text/plain": [
       "'nohtyp olleh'"
      ]
     },
     "execution_count": 17,
     "metadata": {},
     "output_type": "execute_result"
    }
   ],
   "source": [
    "str[::-1]"
   ]
  },
  {
   "cell_type": "code",
   "execution_count": null,
   "id": "ec9033e3-51d3-4890-9034-827a7acfcb50",
   "metadata": {},
   "outputs": [],
   "source": [
    "** Statistics part:2**\n",
    "-type\n",
    "-len\n",
    "-max\n",
    "-min\n",
    "-sum\n",
    "-reversed\n",
    "-sorted\n",
    "-in \n",
    "-not in\n",
    "-for loop iterate\n",
    "-index\n",
    "-mutable immutable\n",
    "-slice"
   ]
  },
  {
   "cell_type": "code",
   "execution_count": 18,
   "id": "27634aff-2283-4371-900d-808f877cdcc7",
   "metadata": {},
   "outputs": [
    {
     "data": {
      "text/plain": [
       "'hello python'"
      ]
     },
     "execution_count": 18,
     "metadata": {},
     "output_type": "execute_result"
    }
   ],
   "source": [
    "str1=\"hello\"\n",
    "str2=\"python\"\n",
    "str1+str2\n",
    "str1+\" \"+str2 # give space"
   ]
  },
  {
   "cell_type": "code",
   "execution_count": 24,
   "id": "7ab82167-0312-4c4f-9169-0b5d61ceb052",
   "metadata": {},
   "outputs": [
    {
     "ename": "TypeError",
     "evalue": "can't multiply sequence by non-int of type 'str'",
     "output_type": "error",
     "traceback": [
      "\u001b[1;31m---------------------------------------------------------------------------\u001b[0m",
      "\u001b[1;31mTypeError\u001b[0m                                 Traceback (most recent call last)",
      "Cell \u001b[1;32mIn[24], line 1\u001b[0m\n\u001b[1;32m----> 1\u001b[0m str1\u001b[38;5;241m*\u001b[39mstr2\n",
      "\u001b[1;31mTypeError\u001b[0m: can't multiply sequence by non-int of type 'str'"
     ]
    }
   ],
   "source": [
    "str1*str2"
   ]
  },
  {
   "cell_type": "code",
   "execution_count": 25,
   "id": "3db79940-86d9-4785-b671-4308a2e35d8d",
   "metadata": {},
   "outputs": [
    {
     "ename": "TypeError",
     "evalue": "unsupported operand type(s) for -: 'str' and 'str'",
     "output_type": "error",
     "traceback": [
      "\u001b[1;31m---------------------------------------------------------------------------\u001b[0m",
      "\u001b[1;31mTypeError\u001b[0m                                 Traceback (most recent call last)",
      "Cell \u001b[1;32mIn[25], line 1\u001b[0m\n\u001b[1;32m----> 1\u001b[0m str1\u001b[38;5;241m-\u001b[39mstr2\n",
      "\u001b[1;31mTypeError\u001b[0m: unsupported operand type(s) for -: 'str' and 'str'"
     ]
    }
   ],
   "source": [
    "str1-str2"
   ]
  },
  {
   "cell_type": "code",
   "execution_count": 26,
   "id": "253a2908-4caf-4d18-a148-3fb05e82095e",
   "metadata": {},
   "outputs": [
    {
     "ename": "TypeError",
     "evalue": "unsupported operand type(s) for /: 'str' and 'str'",
     "output_type": "error",
     "traceback": [
      "\u001b[1;31m---------------------------------------------------------------------------\u001b[0m",
      "\u001b[1;31mTypeError\u001b[0m                                 Traceback (most recent call last)",
      "Cell \u001b[1;32mIn[26], line 1\u001b[0m\n\u001b[1;32m----> 1\u001b[0m str1\u001b[38;5;241m/\u001b[39mstr2\n",
      "\u001b[1;31mTypeError\u001b[0m: unsupported operand type(s) for /: 'str' and 'str'"
     ]
    }
   ],
   "source": [
    "str1/str2"
   ]
  },
  {
   "cell_type": "code",
   "execution_count": 22,
   "id": "b0245445-57e0-4334-8eec-2cb5e2c6de30",
   "metadata": {},
   "outputs": [
    {
     "data": {
      "text/plain": [
       "'hellohellohello'"
      ]
     },
     "execution_count": 22,
     "metadata": {},
     "output_type": "execute_result"
    }
   ],
   "source": [
    "str1 * 3"
   ]
  },
  {
   "cell_type": "code",
   "execution_count": 23,
   "id": "3874493f-a6c7-42af-bf09-3ac221dbaf5f",
   "metadata": {},
   "outputs": [
    {
     "data": {
      "text/plain": [
       "'hellohellohello'"
      ]
     },
     "execution_count": 23,
     "metadata": {},
     "output_type": "execute_result"
    }
   ],
   "source": [
    "str1+str1+str1"
   ]
  },
  {
   "cell_type": "markdown",
   "id": "f7bdaccd-3bd5-4487-ad30-abbe0f7b574f",
   "metadata": {},
   "source": [
    "## STRINGS PART:-2"
   ]
  },
  {
   "cell_type": "markdown",
   "id": "223d2f54-468e-460c-a506-28ee7b4bc312",
   "metadata": {},
   "source": [
    "# STRING METHODS"
   ]
  },
  {
   "cell_type": "code",
   "execution_count": null,
   "id": "96192b4e-1e6b-4b44-9ac1-a763f8780586",
   "metadata": {},
   "outputs": [],
   "source": [
    "-you need to treate string is a package\n",
    "\n",
    "-so apply dir on any string we will get the methopds"
   ]
  },
  {
   "cell_type": "code",
   "execution_count": 27,
   "id": "9ac76233-1171-4c43-a664-cc22e77f290c",
   "metadata": {},
   "outputs": [
    {
     "data": {
      "text/plain": [
       "['__add__',\n",
       " '__class__',\n",
       " '__contains__',\n",
       " '__delattr__',\n",
       " '__dir__',\n",
       " '__doc__',\n",
       " '__eq__',\n",
       " '__format__',\n",
       " '__ge__',\n",
       " '__getattribute__',\n",
       " '__getitem__',\n",
       " '__getnewargs__',\n",
       " '__getstate__',\n",
       " '__gt__',\n",
       " '__hash__',\n",
       " '__init__',\n",
       " '__init_subclass__',\n",
       " '__iter__',\n",
       " '__le__',\n",
       " '__len__',\n",
       " '__lt__',\n",
       " '__mod__',\n",
       " '__mul__',\n",
       " '__ne__',\n",
       " '__new__',\n",
       " '__reduce__',\n",
       " '__reduce_ex__',\n",
       " '__repr__',\n",
       " '__rmod__',\n",
       " '__rmul__',\n",
       " '__setattr__',\n",
       " '__sizeof__',\n",
       " '__str__',\n",
       " '__subclasshook__',\n",
       " 'capitalize',\n",
       " 'casefold',\n",
       " 'center',\n",
       " 'count',\n",
       " 'encode',\n",
       " 'endswith',\n",
       " 'expandtabs',\n",
       " 'find',\n",
       " 'format',\n",
       " 'format_map',\n",
       " 'index',\n",
       " 'isalnum',\n",
       " 'isalpha',\n",
       " 'isascii',\n",
       " 'isdecimal',\n",
       " 'isdigit',\n",
       " 'isidentifier',\n",
       " 'islower',\n",
       " 'isnumeric',\n",
       " 'isprintable',\n",
       " 'isspace',\n",
       " 'istitle',\n",
       " 'isupper',\n",
       " 'join',\n",
       " 'ljust',\n",
       " 'lower',\n",
       " 'lstrip',\n",
       " 'maketrans',\n",
       " 'partition',\n",
       " 'removeprefix',\n",
       " 'removesuffix',\n",
       " 'replace',\n",
       " 'rfind',\n",
       " 'rindex',\n",
       " 'rjust',\n",
       " 'rpartition',\n",
       " 'rsplit',\n",
       " 'rstrip',\n",
       " 'split',\n",
       " 'splitlines',\n",
       " 'startswith',\n",
       " 'strip',\n",
       " 'swapcase',\n",
       " 'title',\n",
       " 'translate',\n",
       " 'upper',\n",
       " 'zfill']"
      ]
     },
     "execution_count": 27,
     "metadata": {},
     "output_type": "execute_result"
    }
   ],
   "source": [
    "s=\"python\"\n",
    "dir(s)"
   ]
  },
  {
   "cell_type": "code",
   "execution_count": 28,
   "id": "93238eee-91a1-49d9-b301-54143256e2a4",
   "metadata": {},
   "outputs": [
    {
     "data": {
      "text/plain": [
       "['__add__',\n",
       " '__class__',\n",
       " '__contains__',\n",
       " '__delattr__',\n",
       " '__dir__',\n",
       " '__doc__',\n",
       " '__eq__',\n",
       " '__format__',\n",
       " '__ge__',\n",
       " '__getattribute__',\n",
       " '__getitem__',\n",
       " '__getnewargs__',\n",
       " '__getstate__',\n",
       " '__gt__',\n",
       " '__hash__',\n",
       " '__init__',\n",
       " '__init_subclass__',\n",
       " '__iter__',\n",
       " '__le__',\n",
       " '__len__',\n",
       " '__lt__',\n",
       " '__mod__',\n",
       " '__mul__',\n",
       " '__ne__',\n",
       " '__new__',\n",
       " '__reduce__',\n",
       " '__reduce_ex__',\n",
       " '__repr__',\n",
       " '__rmod__',\n",
       " '__rmul__',\n",
       " '__setattr__',\n",
       " '__sizeof__',\n",
       " '__str__',\n",
       " '__subclasshook__',\n",
       " 'capitalize',\n",
       " 'casefold',\n",
       " 'center',\n",
       " 'count',\n",
       " 'encode',\n",
       " 'endswith',\n",
       " 'expandtabs',\n",
       " 'find',\n",
       " 'format',\n",
       " 'format_map',\n",
       " 'index',\n",
       " 'isalnum',\n",
       " 'isalpha',\n",
       " 'isascii',\n",
       " 'isdecimal',\n",
       " 'isdigit',\n",
       " 'isidentifier',\n",
       " 'islower',\n",
       " 'isnumeric',\n",
       " 'isprintable',\n",
       " 'isspace',\n",
       " 'istitle',\n",
       " 'isupper',\n",
       " 'join',\n",
       " 'ljust',\n",
       " 'lower',\n",
       " 'lstrip',\n",
       " 'maketrans',\n",
       " 'partition',\n",
       " 'removeprefix',\n",
       " 'removesuffix',\n",
       " 'replace',\n",
       " 'rfind',\n",
       " 'rindex',\n",
       " 'rjust',\n",
       " 'rpartition',\n",
       " 'rsplit',\n",
       " 'rstrip',\n",
       " 'split',\n",
       " 'splitlines',\n",
       " 'startswith',\n",
       " 'strip',\n",
       " 'swapcase',\n",
       " 'title',\n",
       " 'translate',\n",
       " 'upper',\n",
       " 'zfill']"
      ]
     },
     "execution_count": 28,
     "metadata": {},
     "output_type": "execute_result"
    }
   ],
   "source": [
    "dir(\"\")"
   ]
  },
  {
   "cell_type": "code",
   "execution_count": null,
   "id": "5c4e0f02-0b7b-4195-abc3-b245ee2de13f",
   "metadata": {},
   "outputs": [],
   "source": [
    "# how to call the keyword \n",
    "keyword()\n",
    "# methods\n",
    "# package.method"
   ]
  },
  {
   "cell_type": "markdown",
   "id": "0b1ab9c1-0dae-4736-b469-37554946a2bd",
   "metadata": {},
   "source": [
    "$ capitalize$"
   ]
  },
  {
   "cell_type": "code",
   "execution_count": 29,
   "id": "7091b3fc-d353-40db-827b-8657dc979521",
   "metadata": {},
   "outputs": [
    {
     "data": {
      "text/plain": [
       "'Python'"
      ]
     },
     "execution_count": 29,
     "metadata": {},
     "output_type": "execute_result"
    }
   ],
   "source": [
    "str=\"python\"\n",
    "str.capitalize()"
   ]
  },
  {
   "cell_type": "code",
   "execution_count": 31,
   "id": "585a516b-d4d9-4507-bc8f-efa5b2e2cd60",
   "metadata": {},
   "outputs": [
    {
     "data": {
      "text/plain": [
       "4"
      ]
     },
     "execution_count": 31,
     "metadata": {},
     "output_type": "execute_result"
    }
   ],
   "source": [
    "import random\n",
    "random.randint(2,4)"
   ]
  },
  {
   "cell_type": "code",
   "execution_count": 32,
   "id": "7375881e-6717-48a0-af2b-5cea13caee13",
   "metadata": {},
   "outputs": [
    {
     "data": {
      "text/plain": [
       "0j"
      ]
     },
     "execution_count": 32,
     "metadata": {},
     "output_type": "execute_result"
    }
   ],
   "source": [
    "complex()"
   ]
  },
  {
   "cell_type": "code",
   "execution_count": null,
   "id": "196165db-2306-4d38-a3c6-858e59c6e3d0",
   "metadata": {},
   "outputs": [],
   "source": [
    "- upper\n",
    "\n",
    "-lower\n",
    "\n",
    "-casefold\n",
    "\n",
    "-center"
   ]
  },
  {
   "cell_type": "code",
   "execution_count": 33,
   "id": "eefcbb24-eba3-4b58-8b39-6434af0e49f2",
   "metadata": {},
   "outputs": [
    {
     "data": {
      "text/plain": [
       "'NAGESH'"
      ]
     },
     "execution_count": 33,
     "metadata": {},
     "output_type": "execute_result"
    }
   ],
   "source": [
    "str=\"nagesh\"\n",
    "str.upper()"
   ]
  },
  {
   "cell_type": "code",
   "execution_count": 34,
   "id": "93833b89-c6fa-4830-af9d-2ffdf2e827c0",
   "metadata": {},
   "outputs": [
    {
     "data": {
      "text/plain": [
       "'nagesh'"
      ]
     },
     "execution_count": 34,
     "metadata": {},
     "output_type": "execute_result"
    }
   ],
   "source": [
    "str=\"nagesh\"\n",
    "str.lower() #Return a copy of the string converted to lowercase."
   ]
  },
  {
   "cell_type": "code",
   "execution_count": 35,
   "id": "f2d5082c-dc5c-4544-b664-04aea03789fb",
   "metadata": {},
   "outputs": [
    {
     "data": {
      "text/plain": [
       "'nagesh'"
      ]
     },
     "execution_count": 35,
     "metadata": {},
     "output_type": "execute_result"
    }
   ],
   "source": [
    "str=\"nagesh\"\n",
    "str.casefold() #Return a version of the string suitable for caseless comparisons."
   ]
  },
  {
   "cell_type": "code",
   "execution_count": 41,
   "id": "94b7c7a2-a83a-411e-a515-9e3ad270942b",
   "metadata": {},
   "outputs": [
    {
     "data": {
      "text/plain": [
       "'$$nagesh$$'"
      ]
     },
     "execution_count": 41,
     "metadata": {},
     "output_type": "execute_result"
    }
   ],
   "source": [
    "str=\"nagesh\"\n",
    "str.center(10,\"$\")"
   ]
  },
  {
   "cell_type": "code",
   "execution_count": 42,
   "id": "f86db9b8-7917-45d8-9754-815c3cf93625",
   "metadata": {},
   "outputs": [
    {
     "data": {
      "text/plain": [
       "'$$$$$ $$$$$'"
      ]
     },
     "execution_count": 42,
     "metadata": {},
     "output_type": "execute_result"
    }
   ],
   "source": [
    "' '.center(11,'$')"
   ]
  },
  {
   "cell_type": "code",
   "execution_count": 43,
   "id": "07603b56-be7d-4f9f-977e-98dfe4868e30",
   "metadata": {},
   "outputs": [
    {
     "data": {
      "text/plain": [
       "'python'"
      ]
     },
     "execution_count": 43,
     "metadata": {},
     "output_type": "execute_result"
    }
   ],
   "source": [
    "'python'.center(2,'$')"
   ]
  },
  {
   "cell_type": "code",
   "execution_count": 44,
   "id": "96759031-1308-40c7-816f-086ff49dc0ec",
   "metadata": {},
   "outputs": [
    {
     "data": {
      "text/plain": [
       "'python'"
      ]
     },
     "execution_count": 44,
     "metadata": {},
     "output_type": "execute_result"
    }
   ],
   "source": [
    "'python'.center(2)"
   ]
  },
  {
   "cell_type": "code",
   "execution_count": null,
   "id": "4db8f4e4-06b8-4a1e-85c4-33de00329552",
   "metadata": {},
   "outputs": [],
   "source": [
    "** unique vowles or items**\n",
    "-always make an empty string\n",
    "\n",
    "-iterate the letters of original string through for loop\n",
    "\n",
    "-whenever vowel condition match keep that letter in empty string\n",
    "\n",
    "-now omnwards do the two checks\n",
    "\n",
    "    -it is the vowel\n",
    "\n",
    "    -is that present in that new string\n"
   ]
  },
  {
   "cell_type": "code",
   "execution_count": 3,
   "id": "88131df1-b4fd-48f6-a849-56f3f8d43332",
   "metadata": {},
   "outputs": [
    {
     "data": {
      "text/plain": [
       "2"
      ]
     },
     "execution_count": 3,
     "metadata": {},
     "output_type": "execute_result"
    }
   ],
   "source": [
    "str1=\"aabbccddee\"\n",
    "str2=\"\"\n",
    "for i in str1:\n",
    "    if i in \"aeiou\" and i  not in str2:\n",
    "        str2=str2+i\n",
    "len(str2)\n",
    "# i=a  if 'a' in 'aeiou' and 'a'not in '' True  str2=''+'a'='a'\n",
    "# i=a  if 'a' in 'aeiou' and 'a' not in '' False "
   ]
  },
  {
   "cell_type": "code",
   "execution_count": null,
   "id": "30e2e757-d487-44c9-9e5e-36dcea7fc130",
   "metadata": {},
   "outputs": [],
   "source": [
    "-Capitalize\n",
    "\n",
    "-upper\n",
    "\n",
    "-lower\n",
    "\n",
    "-center\n",
    "\n",
    "-casefold"
   ]
  },
  {
   "cell_type": "code",
   "execution_count": 4,
   "id": "38d957d0-ac91-4dac-b9ae-20fe8a8efc21",
   "metadata": {},
   "outputs": [
    {
     "data": {
      "text/plain": [
       "'Python'"
      ]
     },
     "execution_count": 4,
     "metadata": {},
     "output_type": "execute_result"
    }
   ],
   "source": [
    "str=\"python\"\n",
    "str.title()"
   ]
  },
  {
   "cell_type": "code",
   "execution_count": 6,
   "id": "c5f1a622-7dd3-4cb8-8767-a385eab80a44",
   "metadata": {},
   "outputs": [
    {
     "data": {
      "text/plain": [
       "'Hello How Are You'"
      ]
     },
     "execution_count": 6,
     "metadata": {},
     "output_type": "execute_result"
    }
   ],
   "source": [
    "# Q12) str= hello hpw are you\"\n",
    "# op:- \"Hello How Are You\"\n",
    "str=\"hello how are you\"\n",
    "str.title()"
   ]
  },
  {
   "cell_type": "code",
   "execution_count": 7,
   "id": "f5fe39aa-f0d6-4ce6-95f3-cbef16b444b5",
   "metadata": {},
   "outputs": [
    {
     "data": {
      "text/plain": [
       "'Hello how are you'"
      ]
     },
     "execution_count": 7,
     "metadata": {},
     "output_type": "execute_result"
    }
   ],
   "source": [
    "str=\"hello how are you\"\n",
    "str.capitalize()"
   ]
  },
  {
   "cell_type": "markdown",
   "id": "904aade8-971b-43e3-8c64-1886c3cced19",
   "metadata": {},
   "source": [
    "$COUNT$"
   ]
  },
  {
   "cell_type": "code",
   "execution_count": 40,
   "id": "b40615a5-cc66-4df8-8826-9a0c6901f337",
   "metadata": {},
   "outputs": [
    {
     "data": {
      "text/plain": [
       "0"
      ]
     },
     "execution_count": 40,
     "metadata": {},
     "output_type": "execute_result"
    }
   ],
   "source": [
    "str1=\"hai how are you\"\n",
    "str.count(\"2\")"
   ]
  },
  {
   "cell_type": "code",
   "execution_count": 10,
   "id": "9efaa18e-1fd4-4704-bed3-750b768582ca",
   "metadata": {},
   "outputs": [
    {
     "data": {
      "text/plain": [
       "2"
      ]
     },
     "execution_count": 10,
     "metadata": {},
     "output_type": "execute_result"
    }
   ],
   "source": [
    "count=0\n",
    "for i in str1:\n",
    "    if i==\"a\":\n",
    "        count=count+1\n",
    "count"
   ]
  },
  {
   "cell_type": "code",
   "execution_count": 12,
   "id": "8d5fa36b-517a-47de-94ff-65aed845a01d",
   "metadata": {},
   "outputs": [
    {
     "data": {
      "text/plain": [
       "0"
      ]
     },
     "execution_count": 12,
     "metadata": {},
     "output_type": "execute_result"
    }
   ],
   "source": [
    "str=\"oia oia oia\"\n",
    "str.count(\"z\")\n",
    "# note:- there is no error in this count"
   ]
  },
  {
   "cell_type": "code",
   "execution_count": 41,
   "id": "82e99cca-70cf-441c-8586-51ed9357857b",
   "metadata": {},
   "outputs": [
    {
     "data": {
      "text/plain": [
       "1"
      ]
     },
     "execution_count": 41,
     "metadata": {},
     "output_type": "execute_result"
    }
   ],
   "source": [
    "# you want count the number of 'a' after 5th index\n",
    "# toiu want count the number of 'a' b/w 5th and 10th index\n",
    "str=\"ola ola ola\"\n",
    "str.count('a',4,10)\n",
    "# 10-1=9\n",
    "# str[4:10]"
   ]
  },
  {
   "cell_type": "code",
   "execution_count": 42,
   "id": "c7ca16ce-dd49-4f1a-914c-d5e045dd5997",
   "metadata": {},
   "outputs": [
    {
     "data": {
      "text/plain": [
       "2"
      ]
     },
     "execution_count": 42,
     "metadata": {},
     "output_type": "execute_result"
    }
   ],
   "source": [
    "str=\"ola ola ola\"\n",
    "str.count('a',4,21)"
   ]
  },
  {
   "cell_type": "code",
   "execution_count": 30,
   "id": "ece8711e-bab4-466a-a637-9230b3aedbb5",
   "metadata": {},
   "outputs": [
    {
     "data": {
      "text/plain": [
       "3"
      ]
     },
     "execution_count": 30,
     "metadata": {},
     "output_type": "execute_result"
    }
   ],
   "source": [
    "# Q13) without using count find the number of \"ola\"\n",
    "count=0\n",
    "str=\"ola ola ola\"\n",
    "for i in str:\n",
    "    if i==\"a\":\n",
    "        count=count+1\n",
    "count"
   ]
  },
  {
   "cell_type": "markdown",
   "id": "84ded8b6-408c-4f81-8790-de8bcc6da741",
   "metadata": {},
   "source": [
    "# REPLACE"
   ]
  },
  {
   "cell_type": "code",
   "execution_count": null,
   "id": "05bf3d83-4e94-4896-a367-cad811e13c72",
   "metadata": {},
   "outputs": [],
   "source": [
    "str1=\"hello\"\n",
    "# I want replace 'l' with 'L'\n",
    "# tihs we are not able to do with index operations \n",
    "# thats why we are calling strings are immutable\n",
    "\n",
    "#  But this is possible using replace"
   ]
  },
  {
   "cell_type": "code",
   "execution_count": 50,
   "id": "d6a3fb30-0d9b-4fcb-9e97-66581d868739",
   "metadata": {},
   "outputs": [
    {
     "data": {
      "text/plain": [
       "'hello'"
      ]
     },
     "execution_count": 50,
     "metadata": {},
     "output_type": "execute_result"
    }
   ],
   "source": [
    "str='hello'\n",
    "str.replace('L','H')"
   ]
  },
  {
   "cell_type": "code",
   "execution_count": null,
   "id": "e6a546b1-b342-4233-88ab-a05c5708317c",
   "metadata": {},
   "outputs": [],
   "source": [
    "-In replace we have count=-1 as default value\n",
    "\n",
    "-which means it will replace all the letters\n",
    "\n",
    "-So, If i want replace only one letter can i give the count\n",
    "\n",
    "- / means do not give "
   ]
  },
  {
   "cell_type": "code",
   "execution_count": 53,
   "id": "72f934f1-e83a-4401-8a0f-1a7159798ddd",
   "metadata": {},
   "outputs": [
    {
     "data": {
      "text/plain": [
       "'oello'"
      ]
     },
     "execution_count": 53,
     "metadata": {},
     "output_type": "execute_result"
    }
   ],
   "source": [
    "str='hello'\n",
    "str.replace('h','o')"
   ]
  },
  {
   "cell_type": "code",
   "execution_count": null,
   "id": "97d3d658-d418-4040-9b3e-2cfd451b2fef",
   "metadata": {},
   "outputs": [],
   "source": [
    "-Read the doc string carefully\n",
    "\n",
    "-In that it will mention we will get error at particular incident\n",
    "\n",
    "-for count method we will not get any error \n",
    "\n",
    "-There is no substring found answer will be zero\n",
    "\n",
    "-for replace also we will not get any error\n",
    "\n",
    "- If there no substring found, then the ans will be original string"
   ]
  },
  {
   "cell_type": "code",
   "execution_count": 23,
   "id": "da02ee82-2aa6-4be7-b5fe-89244c7e074f",
   "metadata": {},
   "outputs": [
    {
     "data": {
      "text/plain": [
       "'$estart'"
      ]
     },
     "execution_count": 23,
     "metadata": {},
     "output_type": "execute_result"
    }
   ],
   "source": [
    "# Q14) WAP Ask the user replace the string \n",
    "# input str: 'restart'\n",
    "# op:- 'resta$t'\n",
    "str=\"restart\"\n",
    "str.replace('r','$',1)"
   ]
  },
  {
   "cell_type": "code",
   "execution_count": 25,
   "id": "c691df4e-08fc-45c3-86f7-9b37c7ea1cc9",
   "metadata": {},
   "outputs": [
    {
     "data": {
      "text/plain": [
       "'resta$t'"
      ]
     },
     "execution_count": 25,
     "metadata": {},
     "output_type": "execute_result"
    }
   ],
   "source": [
    "str1='restart'\n",
    "str2=str1[::-1]\n",
    "str3=str2.replace('r','$',1)\n",
    "str4=str3[::-1]\n",
    "str4"
   ]
  },
  {
   "cell_type": "code",
   "execution_count": 26,
   "id": "577011f8-802e-4982-963c-6327b3211013",
   "metadata": {},
   "outputs": [
    {
     "data": {
      "text/plain": [
       "'resta$t'"
      ]
     },
     "execution_count": 26,
     "metadata": {},
     "output_type": "execute_result"
    }
   ],
   "source": [
    "s1=str1[0]\n",
    "s2=str1[1:]\n",
    "s3=s2.replace('r','$')\n",
    "s1+s3"
   ]
  },
  {
   "cell_type": "markdown",
   "id": "2dd745c0-016d-4503-bbfe-40b4363b3021",
   "metadata": {},
   "source": [
    "# INDEX\n",
    "-index will be give the index of letters in a given string\n",
    "\n",
    "-By default it will provide the first accurance of letter only\n",
    "\n",
    "-If you want next accurance index of same letter you need to give start,stop\n",
    "\n",
    "-Like we given in count method"
   ]
  },
  {
   "cell_type": "code",
   "execution_count": 28,
   "id": "09c563de-b8dd-402c-9843-592d3340f49d",
   "metadata": {},
   "outputs": [
    {
     "data": {
      "text/plain": [
       "0"
      ]
     },
     "execution_count": 28,
     "metadata": {},
     "output_type": "execute_result"
    }
   ],
   "source": [
    "str=\"restart\"\n",
    "str.index('r')"
   ]
  },
  {
   "cell_type": "code",
   "execution_count": 30,
   "id": "9424c300-5a92-4c40-abd5-a0562400852e",
   "metadata": {},
   "outputs": [
    {
     "data": {
      "text/plain": [
       "5"
      ]
     },
     "execution_count": 30,
     "metadata": {},
     "output_type": "execute_result"
    }
   ],
   "source": [
    "# I want second r\n",
    "str.index('r',1)"
   ]
  },
  {
   "cell_type": "code",
   "execution_count": 11,
   "id": "2d7b7268-2f38-4204-9ab8-af2329757926",
   "metadata": {},
   "outputs": [
    {
     "data": {
      "text/plain": [
       "(1, 5, 9, 13, 17)"
      ]
     },
     "execution_count": 11,
     "metadata": {},
     "output_type": "execute_result"
    }
   ],
   "source": [
    "str1=\"hai hai hai hai hai\"\n",
    "i1=str1.index('a')\n",
    "i2=str1.index('a',i1+1)\n",
    "i3=str1.index('a',i2+1)\n",
    "i4=str1.index('a',i3+1)\n",
    "i5=str1.index('a',i4+1)\n",
    "\n",
    "i1,i2,i3,i4,i5\n",
    "# hai hai hai hai hai\n",
    "#  i hai hai hai hai\n",
    "#      i hai hai hai\n",
    "#          i hai hai\n",
    "#              i hai"
   ]
  },
  {
   "cell_type": "code",
   "execution_count": 17,
   "id": "1246e504-b893-440c-8b51-8d33ee3da707",
   "metadata": {},
   "outputs": [
    {
     "data": {
      "text/plain": [
       "(0, 4, 8)"
      ]
     },
     "execution_count": 17,
     "metadata": {},
     "output_type": "execute_result"
    }
   ],
   "source": [
    "str=\"ola ola ola\"\n",
    "i1=str.index('o')\n",
    "i2=str.index('o',i1+1)\n",
    "i3=str.index('o',i2+1)\n",
    "i1,i2,i3\n",
    "# ola ola ola\n",
    "#  la ola ola\n",
    "#      la ola"
   ]
  },
  {
   "cell_type": "code",
   "execution_count": 19,
   "id": "e85c3d6d-3051-463b-ac35-1d95ec466495",
   "metadata": {},
   "outputs": [
    {
     "data": {
      "text/plain": [
       "3"
      ]
     },
     "execution_count": 19,
     "metadata": {},
     "output_type": "execute_result"
    }
   ],
   "source": [
    "str=\"nareshit\"\n",
    "str.index('e')"
   ]
  },
  {
   "cell_type": "code",
   "execution_count": 29,
   "id": "a4b05961-a18a-4cc4-9e75-c64aa8448af3",
   "metadata": {},
   "outputs": [
    {
     "data": {
      "text/plain": [
       "8"
      ]
     },
     "execution_count": 29,
     "metadata": {},
     "output_type": "execute_result"
    }
   ],
   "source": [
    "str1='nagesh'\n",
    "str2=''\n",
    "for i in str1:\n",
    "    if i in \"aeiou\" and i not in str2:\n",
    "        str2=str2+i\n",
    "len(str)"
   ]
  },
  {
   "cell_type": "code",
   "execution_count": 24,
   "id": "221a3f5f-ea63-4f91-a44a-be542777e82e",
   "metadata": {},
   "outputs": [
    {
     "data": {
      "text/plain": [
       "2"
      ]
     },
     "execution_count": 24,
     "metadata": {},
     "output_type": "execute_result"
    }
   ],
   "source": [
    "str1=\"aabbccddee\"\n",
    "str2=\"\"\n",
    "for i in str1:\n",
    "    if i in \"aeiou\" and i  not in str2:\n",
    "        str2=str2+i\n",
    "len(str2)"
   ]
  },
  {
   "cell_type": "code",
   "execution_count": 30,
   "id": "ec1d5f2e-fb22-460e-a148-5e64957d73c2",
   "metadata": {},
   "outputs": [
    {
     "data": {
      "text/plain": [
       "2"
      ]
     },
     "execution_count": 30,
     "metadata": {},
     "output_type": "execute_result"
    }
   ],
   "source": [
    "str=\"aaeeiioouu\"\n",
    "str=\"\"\n",
    "for i in str1:\n",
    "    if i in \"aeiou\" and i not in str2:\n",
    "        str2=str2+i\n",
    "len(str2)"
   ]
  },
  {
   "cell_type": "code",
   "execution_count": 31,
   "id": "23dbd57c-ed48-443e-b5dc-707dde19871b",
   "metadata": {},
   "outputs": [
    {
     "data": {
      "text/plain": [
       "'Hello Python'"
      ]
     },
     "execution_count": 31,
     "metadata": {},
     "output_type": "execute_result"
    }
   ],
   "source": [
    "str=\"hello python\"\n",
    "str.title()"
   ]
  },
  {
   "cell_type": "code",
   "execution_count": 32,
   "id": "2efe22d0-d49d-4960-bcea-6f75cd536bae",
   "metadata": {},
   "outputs": [
    {
     "data": {
      "text/plain": [
       "'Hai How Are You'"
      ]
     },
     "execution_count": 32,
     "metadata": {},
     "output_type": "execute_result"
    }
   ],
   "source": [
    "str=\"hai how are you\"\n",
    "str.title()"
   ]
  },
  {
   "cell_type": "code",
   "execution_count": 34,
   "id": "4e9df1b6-9847-4455-b384-a29b85db1e47",
   "metadata": {},
   "outputs": [
    {
     "data": {
      "text/plain": [
       "'Hey how are you'"
      ]
     },
     "execution_count": 34,
     "metadata": {},
     "output_type": "execute_result"
    }
   ],
   "source": [
    "str=\"hey how are you\"\n",
    "str.capitalize()"
   ]
  },
  {
   "cell_type": "code",
   "execution_count": 36,
   "id": "2a869b83-92f6-411d-bb71-75be8fcd60dc",
   "metadata": {},
   "outputs": [
    {
     "data": {
      "text/plain": [
       "1"
      ]
     },
     "execution_count": 36,
     "metadata": {},
     "output_type": "execute_result"
    }
   ],
   "source": [
    "str=\"hey how are you\"\n",
    "str.count('a')"
   ]
  },
  {
   "cell_type": "code",
   "execution_count": 40,
   "id": "827aca70-9a63-496b-a2a9-cd0a212abfe1",
   "metadata": {},
   "outputs": [
    {
     "data": {
      "text/plain": [
       "1"
      ]
     },
     "execution_count": 40,
     "metadata": {},
     "output_type": "execute_result"
    }
   ],
   "source": [
    "count=0\n",
    "str=\"hey how are you\"\n",
    "for i in str:\n",
    "    if i==\"a\":\n",
    "        count=count+1\n",
    "count"
   ]
  },
  {
   "cell_type": "code",
   "execution_count": 41,
   "id": "d1f48f97-99c9-4303-948d-40451b2247f8",
   "metadata": {},
   "outputs": [
    {
     "data": {
      "text/plain": [
       "3"
      ]
     },
     "execution_count": 41,
     "metadata": {},
     "output_type": "execute_result"
    }
   ],
   "source": [
    "count=0\n",
    "str=\"available\"\n",
    "for i in str:\n",
    "    if i==\"a\":\n",
    "        count=count+1\n",
    "count"
   ]
  },
  {
   "cell_type": "code",
   "execution_count": 42,
   "id": "f8ae4bf6-b120-47c8-a152-685fae01fe85",
   "metadata": {},
   "outputs": [
    {
     "data": {
      "text/plain": [
       "1"
      ]
     },
     "execution_count": 42,
     "metadata": {},
     "output_type": "execute_result"
    }
   ],
   "source": [
    "c=0\n",
    "str=\"education\"\n",
    "for i in str:\n",
    "    if i==\"o\":\n",
    "        c=c+1\n",
    "c"
   ]
  },
  {
   "cell_type": "code",
   "execution_count": 43,
   "id": "0e683429-c996-4635-ae11-73a6f12eb23d",
   "metadata": {},
   "outputs": [
    {
     "data": {
      "text/plain": [
       "'aey aow are you'"
      ]
     },
     "execution_count": 43,
     "metadata": {},
     "output_type": "execute_result"
    }
   ],
   "source": [
    "str=\"hey how are you\"\n",
    "str.replace('h','a')"
   ]
  },
  {
   "cell_type": "code",
   "execution_count": 44,
   "id": "2e4c7336-47be-410b-9bba-c9a96e6bb83f",
   "metadata": {},
   "outputs": [
    {
     "data": {
      "text/plain": [
       "'heeeo dad'"
      ]
     },
     "execution_count": 44,
     "metadata": {},
     "output_type": "execute_result"
    }
   ],
   "source": [
    "str=\"hello dad\"\n",
    "str.replace('l','e')"
   ]
  },
  {
   "cell_type": "code",
   "execution_count": 52,
   "id": "861e4b64-db15-4c4e-ac09-9e202034d315",
   "metadata": {},
   "outputs": [
    {
     "data": {
      "text/plain": [
       "'resta&t'"
      ]
     },
     "execution_count": 52,
     "metadata": {},
     "output_type": "execute_result"
    }
   ],
   "source": [
    "str1=\"restart\"\n",
    "str2=str1[::-1]\n",
    "str3=str2.replace('r','&',1)\n",
    "str4=str3[::-1]\n",
    "str4"
   ]
  },
  {
   "cell_type": "code",
   "execution_count": 61,
   "id": "239cad33-2f29-4072-aef0-de8d9ef86bb9",
   "metadata": {},
   "outputs": [
    {
     "data": {
      "text/plain": [
       "'rt$atse$'"
      ]
     },
     "execution_count": 61,
     "metadata": {},
     "output_type": "execute_result"
    }
   ],
   "source": [
    "s1=str1[0]\n",
    "s2=str1[1:]\n",
    "s3=str2.replace('r','$')\n",
    "s1+s3"
   ]
  },
  {
   "cell_type": "code",
   "execution_count": null,
   "id": "c74736f7-5484-4686-8185-4d830a102bf1",
   "metadata": {},
   "outputs": [],
   "source": []
  },
  {
   "cell_type": "code",
   "execution_count": 2,
   "id": "ba1dfac9-7fba-435a-b2e8-14f0d2c94f9e",
   "metadata": {},
   "outputs": [
    {
     "data": {
      "text/plain": [
       "0"
      ]
     },
     "execution_count": 2,
     "metadata": {},
     "output_type": "execute_result"
    }
   ],
   "source": [
    "str1='python'\n",
    "str1.count('z')"
   ]
  },
  {
   "cell_type": "code",
   "execution_count": 3,
   "id": "2be547c0-86e4-49d2-ba18-be22c1565f25",
   "metadata": {},
   "outputs": [
    {
     "data": {
      "text/plain": [
       "'python'"
      ]
     },
     "execution_count": 3,
     "metadata": {},
     "output_type": "execute_result"
    }
   ],
   "source": [
    "str1='python'\n",
    "str1.replace('z','Z')"
   ]
  },
  {
   "cell_type": "code",
   "execution_count": 4,
   "id": "797a7a02-ff74-4948-96ca-0f45057091b5",
   "metadata": {},
   "outputs": [
    {
     "ename": "ValueError",
     "evalue": "substring not found",
     "output_type": "error",
     "traceback": [
      "\u001b[1;31m---------------------------------------------------------------------------\u001b[0m",
      "\u001b[1;31mValueError\u001b[0m                                Traceback (most recent call last)",
      "Cell \u001b[1;32mIn[4], line 2\u001b[0m\n\u001b[0;32m      1\u001b[0m str1\u001b[38;5;241m=\u001b[39m\u001b[38;5;124m'\u001b[39m\u001b[38;5;124mpython\u001b[39m\u001b[38;5;124m'\u001b[39m\n\u001b[1;32m----> 2\u001b[0m str1\u001b[38;5;241m.\u001b[39mindex(\u001b[38;5;124m'\u001b[39m\u001b[38;5;124mz\u001b[39m\u001b[38;5;124m'\u001b[39m)\n",
      "\u001b[1;31mValueError\u001b[0m: substring not found"
     ]
    }
   ],
   "source": [
    "str1='python'\n",
    "str1.index('z')\n",
    "# z= sub string \n",
    "# z is not presenting python"
   ]
  },
  {
   "cell_type": "code",
   "execution_count": 6,
   "id": "093af950-1a69-48a0-b077-6f2cb7ce033a",
   "metadata": {},
   "outputs": [
    {
     "data": {
      "text/plain": [
       "1"
      ]
     },
     "execution_count": 6,
     "metadata": {},
     "output_type": "execute_result"
    }
   ],
   "source": [
    "str1='hai hai hai hai'\n",
    "str1.count('a') # total 'a'\n",
    "str1.count('a',4) # we want to count 'a' from index 4\n",
    "str1.count('a',5,9) # starts at 5 "
   ]
  },
  {
   "cell_type": "code",
   "execution_count": 8,
   "id": "610da969-7cc1-4431-8dff-cc86895a76f1",
   "metadata": {},
   "outputs": [
    {
     "data": {
      "text/plain": [
       "(1, 5, 9, 13)"
      ]
     },
     "execution_count": 8,
     "metadata": {},
     "output_type": "execute_result"
    }
   ],
   "source": [
    "str1=\"hai hai hai hai\"\n",
    "i1=str1.find('a')\n",
    "i2=str1.find('a',i1+1) \n",
    "i3=str1.find('a',i2+1)\n",
    "i4=str1.find('a',i3+1)\n",
    "i1,i2,i3,i4"
   ]
  },
  {
   "cell_type": "code",
   "execution_count": 14,
   "id": "c0b773b8-9825-47d0-b584-92fdc0f9d04d",
   "metadata": {},
   "outputs": [
    {
     "data": {
      "text/plain": [
       "3"
      ]
     },
     "execution_count": 14,
     "metadata": {},
     "output_type": "execute_result"
    }
   ],
   "source": [
    "count=0\n",
    "str1=\"ola ola ola\"\n",
    "for i in range(len(str1)):\n",
    "    if str1[i:i+3]==\"ola\":\n",
    "        count=count+1\n",
    "count"
   ]
  },
  {
   "cell_type": "markdown",
   "id": "90e8bdcd-3acc-477b-ae2b-0845c4b23dd4",
   "metadata": {},
   "source": [
    "# FIND"
   ]
  },
  {
   "cell_type": "code",
   "execution_count": 15,
   "id": "dec27683-fee0-4ff9-b543-1732626a73a8",
   "metadata": {},
   "outputs": [
    {
     "data": {
      "text/plain": [
       "(1, 5, 9, 13, -1)"
      ]
     },
     "execution_count": 15,
     "metadata": {},
     "output_type": "execute_result"
    }
   ],
   "source": [
    "str1=\"hai hai hai hai\"\n",
    "str1.find('a')\n",
    "i2=str1.find('a',i1+1) \n",
    "i3=str1.find('a',i2+1)\n",
    "i4=str1.find('a',i3+1)\n",
    "i5=str1.find('a',i4+1)\n",
    "i1,i2,i3,i4,i5"
   ]
  },
  {
   "cell_type": "code",
   "execution_count": null,
   "id": "cbcfb818-6161-4ff0-81ea-447b25caf07e",
   "metadata": {},
   "outputs": [],
   "source": [
    "** if substring not found**\n",
    "-Do one shift+tab understand the docstring\n",
    "-if they mentioned any error not \n",
    "- for count and replace they did not mention array \n",
    "\n",
    "- Count will give zero\n",
    "\n",
    "-replace will give same string\n",
    "\n",
    "-index will give error\n",
    "\n",
    "-find will give -1"
   ]
  },
  {
   "cell_type": "code",
   "execution_count": 21,
   "id": "218b4524-1b93-48c0-92fd-c437d680df26",
   "metadata": {},
   "outputs": [
    {
     "data": {
      "text/plain": [
       "0"
      ]
     },
     "execution_count": 21,
     "metadata": {},
     "output_type": "execute_result"
    }
   ],
   "source": [
    "# Q15) \n",
    "name=\"nagesh.tholla@gmail.com\"\n",
    "name.index(\"nagesh\")"
   ]
  },
  {
   "cell_type": "code",
   "execution_count": 22,
   "id": "4f0835d0-4fa6-4385-b1ba-6fa94e832be4",
   "metadata": {},
   "outputs": [
    {
     "data": {
      "text/plain": [
       "7"
      ]
     },
     "execution_count": 22,
     "metadata": {},
     "output_type": "execute_result"
    }
   ],
   "source": [
    "name=\"nagesh.tholla@gmail.com\"\n",
    "name.index(\"tholla\")"
   ]
  },
  {
   "cell_type": "code",
   "execution_count": 31,
   "id": "e37a6207-64c1-4783-8dba-3cd0cc025fba",
   "metadata": {},
   "outputs": [
    {
     "data": {
      "text/plain": [
       "('nagesh', '.tholla', '')"
      ]
     },
     "execution_count": 31,
     "metadata": {},
     "output_type": "execute_result"
    }
   ],
   "source": [
    "name=\"nagesh.tholla@gmail.com\"\n",
    "i1=name.find('.')\n",
    "i2=name.find('@')\n",
    "i3=name.find('.',1)\n",
    "f_name=name[0:i1]\n",
    "s_name=name[i1:i2]\n",
    "c_name=name[i2:i3]\n",
    "f_name,s_name,c_name"
   ]
  },
  {
   "cell_type": "code",
   "execution_count": 34,
   "id": "a4202c33-d36a-4133-895c-f2a32671c033",
   "metadata": {},
   "outputs": [
    {
     "name": "stdout",
     "output_type": "stream",
     "text": [
      "nagesh .tholla \n"
     ]
    }
   ],
   "source": [
    "def name_extraction(name):\n",
    "    i1=name.find('.')\n",
    "i2=name.find('@')\n",
    "i3=name.find('.',1)\n",
    "f_name=name[0:i1]\n",
    "s_name=name[i1:i2]\n",
    "c_name=name[i2:i3]\n",
    "print(f_name,s_name,c_name)"
   ]
  },
  {
   "cell_type": "code",
   "execution_count": 35,
   "id": "3c55fa8f-7984-40d7-af73-3227092350f0",
   "metadata": {},
   "outputs": [
    {
     "data": {
      "text/plain": [
       "['__add__',\n",
       " '__class__',\n",
       " '__contains__',\n",
       " '__delattr__',\n",
       " '__dir__',\n",
       " '__doc__',\n",
       " '__eq__',\n",
       " '__format__',\n",
       " '__ge__',\n",
       " '__getattribute__',\n",
       " '__getitem__',\n",
       " '__getnewargs__',\n",
       " '__getstate__',\n",
       " '__gt__',\n",
       " '__hash__',\n",
       " '__init__',\n",
       " '__init_subclass__',\n",
       " '__iter__',\n",
       " '__le__',\n",
       " '__len__',\n",
       " '__lt__',\n",
       " '__mod__',\n",
       " '__mul__',\n",
       " '__ne__',\n",
       " '__new__',\n",
       " '__reduce__',\n",
       " '__reduce_ex__',\n",
       " '__repr__',\n",
       " '__rmod__',\n",
       " '__rmul__',\n",
       " '__setattr__',\n",
       " '__sizeof__',\n",
       " '__str__',\n",
       " '__subclasshook__',\n",
       " 'capitalize',\n",
       " 'casefold',\n",
       " 'center',\n",
       " 'count',\n",
       " 'encode',\n",
       " 'endswith',\n",
       " 'expandtabs',\n",
       " 'find',\n",
       " 'format',\n",
       " 'format_map',\n",
       " 'index',\n",
       " 'isalnum',\n",
       " 'isalpha',\n",
       " 'isascii',\n",
       " 'isdecimal',\n",
       " 'isdigit',\n",
       " 'isidentifier',\n",
       " 'islower',\n",
       " 'isnumeric',\n",
       " 'isprintable',\n",
       " 'isspace',\n",
       " 'istitle',\n",
       " 'isupper',\n",
       " 'join',\n",
       " 'ljust',\n",
       " 'lower',\n",
       " 'lstrip',\n",
       " 'maketrans',\n",
       " 'partition',\n",
       " 'removeprefix',\n",
       " 'removesuffix',\n",
       " 'replace',\n",
       " 'rfind',\n",
       " 'rindex',\n",
       " 'rjust',\n",
       " 'rpartition',\n",
       " 'rsplit',\n",
       " 'rstrip',\n",
       " 'split',\n",
       " 'splitlines',\n",
       " 'startswith',\n",
       " 'strip',\n",
       " 'swapcase',\n",
       " 'title',\n",
       " 'translate',\n",
       " 'upper',\n",
       " 'zfill']"
      ]
     },
     "execution_count": 35,
     "metadata": {},
     "output_type": "execute_result"
    }
   ],
   "source": [
    "dir(\"\")"
   ]
  },
  {
   "cell_type": "code",
   "execution_count": 37,
   "id": "02e66d99-3398-44e4-b458-ceb608eb9e1b",
   "metadata": {},
   "outputs": [
    {
     "data": {
      "text/plain": [
       "True"
      ]
     },
     "execution_count": 37,
     "metadata": {},
     "output_type": "execute_result"
    }
   ],
   "source": [
    "'abc123'.isalnum()"
   ]
  },
  {
   "cell_type": "code",
   "execution_count": 39,
   "id": "cbd890d4-530e-4139-b804-4edfb98cd4ae",
   "metadata": {},
   "outputs": [
    {
     "data": {
      "text/plain": [
       "True"
      ]
     },
     "execution_count": 39,
     "metadata": {},
     "output_type": "execute_result"
    }
   ],
   "source": [
    "\"ABCD\".isupper()"
   ]
  },
  {
   "cell_type": "markdown",
   "id": "b907dfe2-6b53-4713-bf2b-18511504e3ac",
   "metadata": {},
   "source": [
    "# STRIP-LSTRIP-RSTRIP"
   ]
  },
  {
   "cell_type": "code",
   "execution_count": 42,
   "id": "9c32d1bb-acaa-4d8c-b7b0-64dc34d9d518",
   "metadata": {},
   "outputs": [
    {
     "data": {
      "text/plain": [
       "('python', 'python ', ' python')"
      ]
     },
     "execution_count": 42,
     "metadata": {},
     "output_type": "execute_result"
    }
   ],
   "source": [
    "name1=\" python \"\n",
    "name2=\"python \"\n",
    "name3=\" python\"\n",
    "name1.strip(),name1.lstrip(),name1.rstrip()"
   ]
  },
  {
   "cell_type": "code",
   "execution_count": 43,
   "id": "053fc3b4-d018-48f8-a690-e9a7464c399a",
   "metadata": {},
   "outputs": [
    {
     "data": {
      "text/plain": [
       "('python', 'python ', 'python')"
      ]
     },
     "execution_count": 43,
     "metadata": {},
     "output_type": "execute_result"
    }
   ],
   "source": [
    "name1=\" python \"\n",
    "name2=\"python \"\n",
    "name3=\" python\"\n",
    "name2.strip(),name2.lstrip(),name2.rstrip()"
   ]
  },
  {
   "cell_type": "code",
   "execution_count": 44,
   "id": "e8c1e2a4-c918-4a07-932d-37b7065b0a37",
   "metadata": {},
   "outputs": [
    {
     "data": {
      "text/plain": [
       "('python', 'python', ' python')"
      ]
     },
     "execution_count": 44,
     "metadata": {},
     "output_type": "execute_result"
    }
   ],
   "source": [
    "name1=\" python \"\n",
    "name2=\"python \"\n",
    "name3=\" python\"\n",
    "name3.strip(),name3.lstrip(),name3.rstrip()"
   ]
  },
  {
   "cell_type": "code",
   "execution_count": 53,
   "id": "08244fa9-3de7-4f07-a2d4-5d7549df9db1",
   "metadata": {},
   "outputs": [
    {
     "data": {
      "text/plain": [
       "' python$$$'"
      ]
     },
     "execution_count": 53,
     "metadata": {},
     "output_type": "execute_result"
    }
   ],
   "source": [
    "name4=' python$$$'\n",
    "name4.rstrip()"
   ]
  },
  {
   "cell_type": "code",
   "execution_count": 55,
   "id": "79b4930c-0819-446b-b326-469da5105260",
   "metadata": {},
   "outputs": [
    {
     "data": {
      "text/plain": [
       "'python'"
      ]
     },
     "execution_count": 55,
     "metadata": {},
     "output_type": "execute_result"
    }
   ],
   "source": [
    "name4=' python$$$'\n",
    "name4.lstrip().rstrip('$')"
   ]
  },
  {
   "cell_type": "code",
   "execution_count": 58,
   "id": "1e78f3ce-ac91-4b23-ab46-7214981b3829",
   "metadata": {},
   "outputs": [
    {
     "data": {
      "text/plain": [
       "'python'"
      ]
     },
     "execution_count": 58,
     "metadata": {},
     "output_type": "execute_result"
    }
   ],
   "source": [
    "name4=' python$$$'\n",
    "name4.strip().strip('$')"
   ]
  },
  {
   "cell_type": "code",
   "execution_count": 59,
   "id": "21a094c6-0459-46c4-a3c5-417c039423fb",
   "metadata": {},
   "outputs": [
    {
     "data": {
      "text/plain": [
       "'python'"
      ]
     },
     "execution_count": 59,
     "metadata": {},
     "output_type": "execute_result"
    }
   ],
   "source": [
    "name4=' python$$$'\n",
    "name4.strip('$').strip()"
   ]
  },
  {
   "cell_type": "code",
   "execution_count": 61,
   "id": "f4b6d35c-c99c-402a-a75e-f8dec79387be",
   "metadata": {},
   "outputs": [
    {
     "data": {
      "text/plain": [
       "'python'"
      ]
     },
     "execution_count": 61,
     "metadata": {},
     "output_type": "execute_result"
    }
   ],
   "source": [
    "name4=' python$$$'\n",
    "n5=name4.strip('$').strip()\n",
    "n5.rstrip('$')"
   ]
  },
  {
   "cell_type": "markdown",
   "id": "99201b23-e6fc-420f-bb01-da04d004d3c3",
   "metadata": {},
   "source": [
    "# SPLIT"
   ]
  },
  {
   "cell_type": "code",
   "execution_count": 63,
   "id": "ec8d5a0d-93b7-4141-a2d7-61b5e468333b",
   "metadata": {},
   "outputs": [
    {
     "data": {
      "text/plain": [
       "['nagesh']"
      ]
     },
     "execution_count": 63,
     "metadata": {},
     "output_type": "execute_result"
    }
   ],
   "source": [
    "str=\"nagesh\"\n",
    "str.split()"
   ]
  },
  {
   "cell_type": "code",
   "execution_count": 64,
   "id": "a0804c32-c68a-46d7-876c-d6996c0b2527",
   "metadata": {},
   "outputs": [
    {
     "data": {
      "text/plain": [
       "['hello', 'how', 'are', 'you']"
      ]
     },
     "execution_count": 64,
     "metadata": {},
     "output_type": "execute_result"
    }
   ],
   "source": [
    "str=\"hello how are you\"\n",
    "str.split()"
   ]
  },
  {
   "cell_type": "code",
   "execution_count": 67,
   "id": "d9b9a899-b053-4f78-a7cf-006e3f448d2c",
   "metadata": {},
   "outputs": [
    {
     "data": {
      "text/plain": [
       "['hello how', ' are you']"
      ]
     },
     "execution_count": 67,
     "metadata": {},
     "output_type": "execute_result"
    }
   ],
   "source": [
    "str=\"hello how, are you\"\n",
    "str.split(',')"
   ]
  },
  {
   "cell_type": "code",
   "execution_count": 68,
   "id": "4d154c6a-d3bc-478f-8f38-e768a363fe56",
   "metadata": {},
   "outputs": [
    {
     "data": {
      "text/plain": [
       "['hell', ' h', 'w, are y', 'u']"
      ]
     },
     "execution_count": 68,
     "metadata": {},
     "output_type": "execute_result"
    }
   ],
   "source": [
    "str=\"hello how, are you\"\n",
    "str.split('o')"
   ]
  },
  {
   "cell_type": "markdown",
   "id": "a9aaaeb6-b2f6-4cc1-9191-141c04374ad6",
   "metadata": {},
   "source": [
    "# sTARTSWITH - ENDSWIYH**"
   ]
  },
  {
   "cell_type": "code",
   "execution_count": 74,
   "id": "3f86bee8-a792-422f-b304-5c60e8d84afd",
   "metadata": {},
   "outputs": [
    {
     "data": {
      "text/plain": [
       "False"
      ]
     },
     "execution_count": 74,
     "metadata": {},
     "output_type": "execute_result"
    }
   ],
   "source": [
    "str=\"hello how are you\"\n",
    "str.startswith('u')"
   ]
  },
  {
   "cell_type": "code",
   "execution_count": 75,
   "id": "38ba24f7-add5-4e3e-84ad-650aff7c3b4f",
   "metadata": {},
   "outputs": [
    {
     "data": {
      "text/plain": [
       "True"
      ]
     },
     "execution_count": 75,
     "metadata": {},
     "output_type": "execute_result"
    }
   ],
   "source": [
    "str=\"hello how are you\"\n",
    "str.endswith('u')"
   ]
  },
  {
   "cell_type": "code",
   "execution_count": null,
   "id": "8dd45081-9b7b-4775-a9ee-975f3c5757a6",
   "metadata": {},
   "outputs": [],
   "source": [
    "str=\"hello how are you\"\n",
    "str.sratswith('h"
   ]
  },
  {
   "cell_type": "code",
   "execution_count": 1,
   "id": "4e5d9a9c-b38e-499c-b6a4-7eec13123cd4",
   "metadata": {},
   "outputs": [
    {
     "data": {
      "text/plain": [
       "['__add__',\n",
       " '__class__',\n",
       " '__contains__',\n",
       " '__delattr__',\n",
       " '__dir__',\n",
       " '__doc__',\n",
       " '__eq__',\n",
       " '__format__',\n",
       " '__ge__',\n",
       " '__getattribute__',\n",
       " '__getitem__',\n",
       " '__getnewargs__',\n",
       " '__getstate__',\n",
       " '__gt__',\n",
       " '__hash__',\n",
       " '__init__',\n",
       " '__init_subclass__',\n",
       " '__iter__',\n",
       " '__le__',\n",
       " '__len__',\n",
       " '__lt__',\n",
       " '__mod__',\n",
       " '__mul__',\n",
       " '__ne__',\n",
       " '__new__',\n",
       " '__reduce__',\n",
       " '__reduce_ex__',\n",
       " '__repr__',\n",
       " '__rmod__',\n",
       " '__rmul__',\n",
       " '__setattr__',\n",
       " '__sizeof__',\n",
       " '__str__',\n",
       " '__subclasshook__',\n",
       " 'capitalize',\n",
       " 'casefold',\n",
       " 'center',\n",
       " 'count',\n",
       " 'encode',\n",
       " 'endswith',\n",
       " 'expandtabs',\n",
       " 'find',\n",
       " 'format',\n",
       " 'format_map',\n",
       " 'index',\n",
       " 'isalnum',\n",
       " 'isalpha',\n",
       " 'isascii',\n",
       " 'isdecimal',\n",
       " 'isdigit',\n",
       " 'isidentifier',\n",
       " 'islower',\n",
       " 'isnumeric',\n",
       " 'isprintable',\n",
       " 'isspace',\n",
       " 'istitle',\n",
       " 'isupper',\n",
       " 'join',\n",
       " 'ljust',\n",
       " 'lower',\n",
       " 'lstrip',\n",
       " 'maketrans',\n",
       " 'partition',\n",
       " 'removeprefix',\n",
       " 'removesuffix',\n",
       " 'replace',\n",
       " 'rfind',\n",
       " 'rindex',\n",
       " 'rjust',\n",
       " 'rpartition',\n",
       " 'rsplit',\n",
       " 'rstrip',\n",
       " 'split',\n",
       " 'splitlines',\n",
       " 'startswith',\n",
       " 'strip',\n",
       " 'swapcase',\n",
       " 'title',\n",
       " 'translate',\n",
       " 'upper',\n",
       " 'zfill']"
      ]
     },
     "execution_count": 1,
     "metadata": {},
     "output_type": "execute_result"
    }
   ],
   "source": [
    "dir(\"\")"
   ]
  },
  {
   "cell_type": "code",
   "execution_count": null,
   "id": "e74e3587-13a5-4b9c-9831-4d79a3224514",
   "metadata": {},
   "outputs": [],
   "source": [
    "'isdecimal',\n",
    " 'isdigit',\n",
    " 'isidentifier',\n",
    " 'islower',\n",
    " 'isnumeric',\n",
    " 'isprintable',\n",
    " 'isspace',\n",
    " 'istitle',\n",
    " 'isupper',"
   ]
  },
  {
   "cell_type": "code",
   "execution_count": 2,
   "id": "2d8be445-473a-457d-8c4d-d654217d9e86",
   "metadata": {},
   "outputs": [
    {
     "data": {
      "text/plain": [
       "True"
      ]
     },
     "execution_count": 2,
     "metadata": {},
     "output_type": "execute_result"
    }
   ],
   "source": [
    "str=\"123\"\n",
    "str.isdecimal()"
   ]
  },
  {
   "cell_type": "code",
   "execution_count": 5,
   "id": "a3c7646d-1dd3-46f1-9d48-2e6f672721f7",
   "metadata": {},
   "outputs": [
    {
     "data": {
      "text/plain": [
       "False"
      ]
     },
     "execution_count": 5,
     "metadata": {},
     "output_type": "execute_result"
    }
   ],
   "source": [
    "str=\"1.5\"\n",
    "str.isdecimal()"
   ]
  },
  {
   "cell_type": "code",
   "execution_count": 7,
   "id": "2ff83ef6-26cb-491f-9b34-b66d06136272",
   "metadata": {},
   "outputs": [
    {
     "data": {
      "text/plain": [
       "False"
      ]
     },
     "execution_count": 7,
     "metadata": {},
     "output_type": "execute_result"
    }
   ],
   "source": [
    "str='1.5'\n",
    "str.isdecimal()"
   ]
  },
  {
   "cell_type": "code",
   "execution_count": 12,
   "id": "a1e77bcb-93eb-4eb1-bb69-28304edc3228",
   "metadata": {},
   "outputs": [
    {
     "data": {
      "text/plain": [
       "True"
      ]
     },
     "execution_count": 12,
     "metadata": {},
     "output_type": "execute_result"
    }
   ],
   "source": [
    "str='1'\n",
    "str.isdigit()"
   ]
  },
  {
   "cell_type": "code",
   "execution_count": 16,
   "id": "188bf0b4-aea8-419b-8228-1aa2eaec6e66",
   "metadata": {},
   "outputs": [
    {
     "data": {
      "text/plain": [
       "True"
      ]
     },
     "execution_count": 16,
     "metadata": {},
     "output_type": "execute_result"
    }
   ],
   "source": [
    "str='num'\n",
    "str.isidentifier()"
   ]
  },
  {
   "cell_type": "code",
   "execution_count": 19,
   "id": "d26e5ea0-82e0-4984-af92-50b727529ac6",
   "metadata": {},
   "outputs": [
    {
     "data": {
      "text/plain": [
       "False"
      ]
     },
     "execution_count": 19,
     "metadata": {},
     "output_type": "execute_result"
    }
   ],
   "source": [
    "str='123'\n",
    "str.isidentifier()"
   ]
  },
  {
   "cell_type": "code",
   "execution_count": 20,
   "id": "fff8c57e-3fb8-4e3e-bb16-3a993713eb1e",
   "metadata": {},
   "outputs": [
    {
     "data": {
      "text/plain": [
       "'asdfghjkl'"
      ]
     },
     "execution_count": 20,
     "metadata": {},
     "output_type": "execute_result"
    }
   ],
   "source": [
    "str='asdfghjkl'\n",
    "str.lower()"
   ]
  },
  {
   "cell_type": "code",
   "execution_count": 22,
   "id": "5dcf3a0a-8ac9-4475-b126-7cc48ac12a18",
   "metadata": {},
   "outputs": [
    {
     "data": {
      "text/plain": [
       "'ASDFGHJKL'"
      ]
     },
     "execution_count": 22,
     "metadata": {},
     "output_type": "execute_result"
    }
   ],
   "source": [
    "str='asdfghjkl'\n",
    "str.upper()"
   ]
  },
  {
   "cell_type": "code",
   "execution_count": 23,
   "id": "cb31a47c-755b-49f7-92c0-72e442e28ff4",
   "metadata": {},
   "outputs": [
    {
     "data": {
      "text/plain": [
       "True"
      ]
     },
     "execution_count": 23,
     "metadata": {},
     "output_type": "execute_result"
    }
   ],
   "source": [
    "str='asdfghjkl'\n",
    "str.isprintable()"
   ]
  },
  {
   "cell_type": "code",
   "execution_count": 24,
   "id": "fc77d18c-ed07-4b4b-b046-b1f6c73ab1b7",
   "metadata": {},
   "outputs": [
    {
     "data": {
      "text/plain": [
       "True"
      ]
     },
     "execution_count": 24,
     "metadata": {},
     "output_type": "execute_result"
    }
   ],
   "source": [
    "str='123456789'\n",
    "str.isprintable()"
   ]
  },
  {
   "cell_type": "code",
   "execution_count": 33,
   "id": "9970a978-6bec-4f39-8838-0eaf6e898116",
   "metadata": {},
   "outputs": [
    {
     "data": {
      "text/plain": [
       "False"
      ]
     },
     "execution_count": 33,
     "metadata": {},
     "output_type": "execute_result"
    }
   ],
   "source": [
    "str=' asdfghjkl '\n",
    "str.isspace()"
   ]
  },
  {
   "cell_type": "code",
   "execution_count": 31,
   "id": "441ad53d-4158-40d3-91c0-2015d4ec6d35",
   "metadata": {},
   "outputs": [
    {
     "data": {
      "text/plain": [
       "False"
      ]
     },
     "execution_count": 31,
     "metadata": {},
     "output_type": "execute_result"
    }
   ],
   "source": [
    "str=' 123456789 '\n",
    "str.isspace()"
   ]
  },
  {
   "cell_type": "code",
   "execution_count": 35,
   "id": "9efc5412-30bc-4099-ac30-d3e9528eccba",
   "metadata": {},
   "outputs": [
    {
     "data": {
      "text/plain": [
       "'Asdfghjkl'"
      ]
     },
     "execution_count": 35,
     "metadata": {},
     "output_type": "execute_result"
    }
   ],
   "source": [
    "str='asdfghjkl'\n",
    "str.title()"
   ]
  },
  {
   "cell_type": "code",
   "execution_count": 36,
   "id": "d6cf327f-80dc-4e85-b9c7-87366d7c1098",
   "metadata": {},
   "outputs": [
    {
     "data": {
      "text/plain": [
       "'123456789'"
      ]
     },
     "execution_count": 36,
     "metadata": {},
     "output_type": "execute_result"
    }
   ],
   "source": [
    "str='123456789'\n",
    "str.title()"
   ]
  },
  {
   "cell_type": "code",
   "execution_count": 8,
   "id": "2a66cd99-e96f-44dc-b196-68d1b1feb17c",
   "metadata": {},
   "outputs": [
    {
     "name": "stdout",
     "output_type": "stream",
     "text": [
      "[]\n"
     ]
    }
   ],
   "source": [
    "a=[8,3,5,6,1,2,7,11,9]\n",
    "print(a[-1:-4])"
   ]
  },
  {
   "cell_type": "code",
   "execution_count": 2,
   "id": "d523f3cf-764a-4e99-9c6a-d90aeb269136",
   "metadata": {},
   "outputs": [
    {
     "data": {
      "text/plain": [
       "'zzzz'"
      ]
     },
     "execution_count": 2,
     "metadata": {},
     "output_type": "execute_result"
    }
   ],
   "source": [
    "x=['aa','zz','abc']\n",
    "y=max(x)\n",
    "z=y+x[1]\n",
    "z"
   ]
  },
  {
   "cell_type": "code",
   "execution_count": 3,
   "id": "fbb582ad-72ac-49cf-8f46-d6cedbdcb052",
   "metadata": {},
   "outputs": [
    {
     "name": "stdout",
     "output_type": "stream",
     "text": [
      "t\n"
     ]
    }
   ],
   "source": [
    "print('python'[1+1])"
   ]
  },
  {
   "cell_type": "code",
   "execution_count": 4,
   "id": "2addd6cd-9c60-4e41-9e95-a5b4658072df",
   "metadata": {},
   "outputs": [
    {
     "name": "stdout",
     "output_type": "stream",
     "text": [
      "[2, 4, 6]\n"
     ]
    }
   ],
   "source": [
    "a=[1,2,3,4,5,6]\n",
    "for i in a:\n",
    "    a.remove(i)\n",
    "print(a)"
   ]
  },
  {
   "cell_type": "code",
   "execution_count": 5,
   "id": "f363fc8f-a7f8-4eaf-ac0c-3762a9df6565",
   "metadata": {},
   "outputs": [
    {
     "name": "stdout",
     "output_type": "stream",
     "text": [
      "['p', 'y', 't', 'h', 'o', 'n']\n"
     ]
    }
   ],
   "source": [
    "My_list=[]\n",
    "My_list+='python'\n",
    "print(My_list)\n"
   ]
  },
  {
   "cell_type": "code",
   "execution_count": 17,
   "id": "1b3eb800-6832-40d0-a2f9-ba10b60e495b",
   "metadata": {},
   "outputs": [
    {
     "ename": "NameError",
     "evalue": "name 'Print' is not defined",
     "output_type": "error",
     "traceback": [
      "\u001b[1;31m---------------------------------------------------------------------------\u001b[0m",
      "\u001b[1;31mNameError\u001b[0m                                 Traceback (most recent call last)",
      "Cell \u001b[1;32mIn[17], line 2\u001b[0m\n\u001b[0;32m      1\u001b[0m s\u001b[38;5;241m=\u001b[39m[\u001b[38;5;241m10\u001b[39m,\u001b[38;5;241m9\u001b[39m,\u001b[38;5;241m8\u001b[39m,\u001b[38;5;241m7\u001b[39m,\u001b[38;5;241m6\u001b[39m,\u001b[38;5;241m5\u001b[39m,\u001b[38;5;241m4\u001b[39m,\u001b[38;5;241m3\u001b[39m,\u001b[38;5;241m2\u001b[39m,\u001b[38;5;241m1\u001b[39m]\n\u001b[1;32m----> 2\u001b[0m Print(s[\u001b[38;5;241m9\u001b[39m:\u001b[38;5;241m4\u001b[39m:\u001b[38;5;241m-\u001b[39m\u001b[38;5;241m1\u001b[39m])\n",
      "\u001b[1;31mNameError\u001b[0m: name 'Print' is not defined"
     ]
    }
   ],
   "source": [
    "s=[10,9,8,7,6,5,4,3,2,1]\n",
    "Print(s[9:4:-1])"
   ]
  },
  {
   "cell_type": "code",
   "execution_count": 18,
   "id": "d3e86ae8-fbf8-4f83-b1e4-3fbba908982f",
   "metadata": {},
   "outputs": [
    {
     "name": "stdout",
     "output_type": "stream",
     "text": [
      "[[5], 2, 3, 4] [[5], 2, 3, 4] [1, 2, 3, 4] [[5], 2, 3, 4]\n"
     ]
    }
   ],
   "source": [
    "L1 = [1, 2, 3, 4] \n",
    "L2 = L1 \n",
    "L3 = L1.copy() \n",
    "L4 = L1\n",
    "L1[0] = [5] \n",
    "print(L1, L2, L3, L4) "
   ]
  },
  {
   "cell_type": "code",
   "execution_count": 19,
   "id": "b5528306-a01b-4408-8322-87126f055601",
   "metadata": {},
   "outputs": [
    {
     "name": "stdout",
     "output_type": "stream",
     "text": [
      "5 "
     ]
    }
   ],
   "source": [
    "L = [1, 3, 5, 7, 9] \n",
    "print(L.pop(-3), end = ' ') "
   ]
  },
  {
   "cell_type": "code",
   "execution_count": 21,
   "id": "33460b88-3231-4570-8cb9-ab33fff4781f",
   "metadata": {},
   "outputs": [
    {
     "name": "stdout",
     "output_type": "stream",
     "text": [
      "[7.531, 5.31, 3.1, 1]\n"
     ]
    }
   ],
   "source": [
    "def REVERSE(L): \n",
    "\tL.reverse() \n",
    "\treturn(L) \n",
    "def YKNJS(L): \n",
    "\tList = [] \n",
    "\tList.extend(REVERSE(L)) \n",
    "\tprint(List) \n",
    "L = [1, 3.1, 5.31, 7.531] \n",
    "YKNJS(L) "
   ]
  },
  {
   "cell_type": "code",
   "execution_count": 23,
   "id": "8ee7eff0-2cab-4445-8b33-4981396ef40e",
   "metadata": {},
   "outputs": [
    {
     "name": "stdout",
     "output_type": "stream",
     "text": [
      "['hello', 'world']\n"
     ]
    }
   ],
   "source": [
    "text = \"hello world\"\n",
    "print(text.split())"
   ]
  },
  {
   "cell_type": "code",
   "execution_count": null,
   "id": "2b7f6222-ba7e-42d3-ad19-aec90a071337",
   "metadata": {},
   "outputs": [],
   "source": []
  }
 ],
 "metadata": {
  "kernelspec": {
   "display_name": "Python 3 (ipykernel)",
   "language": "python",
   "name": "python3"
  },
  "language_info": {
   "codemirror_mode": {
    "name": "ipython",
    "version": 3
   },
   "file_extension": ".py",
   "mimetype": "text/x-python",
   "name": "python",
   "nbconvert_exporter": "python",
   "pygments_lexer": "ipython3",
   "version": "3.11.7"
  }
 },
 "nbformat": 4,
 "nbformat_minor": 5
}
