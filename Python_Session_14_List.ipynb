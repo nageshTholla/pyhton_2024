{
 "cells": [
  {
   "cell_type": "code",
   "execution_count": null,
   "id": "53a6e4b7-e2bd-41e5-bf00-7d4efa687e7e",
   "metadata": {},
   "outputs": [],
   "source": [
    "- How to display\n",
    "\n",
    "-type\n",
    "-len\n",
    "-max\n",
    "-min\n",
    "-sum\n",
    "-reversed\n",
    "-sorted\n",
    "-in\n",
    "-not in\n",
    "-index\n",
    "-for loop\n",
    "-mutable\n",
    "-slice\n",
    "-methods"
   ]
  },
  {
   "cell_type": "code",
   "execution_count": 1,
   "id": "208c6bbd-973f-4aeb-b5f9-497f6bdeb88f",
   "metadata": {},
   "outputs": [
    {
     "data": {
      "text/plain": [
       "[1, 2, 3, 4, 5, 6]"
      ]
     },
     "execution_count": 1,
     "metadata": {},
     "output_type": "execute_result"
    }
   ],
   "source": [
    "list=[1,2,3,4,5,6] # array of elements\n",
    "list"
   ]
  },
  {
   "cell_type": "code",
   "execution_count": 2,
   "id": "1d64c604-ee42-434c-93a7-d260e91c22cf",
   "metadata": {},
   "outputs": [
    {
     "data": {
      "text/plain": [
       "list"
      ]
     },
     "execution_count": 2,
     "metadata": {},
     "output_type": "execute_result"
    }
   ],
   "source": [
    "type(list)"
   ]
  },
  {
   "cell_type": "code",
   "execution_count": 4,
   "id": "9f42dd86-3550-45a1-a10b-ba3b74b1d8d6",
   "metadata": {},
   "outputs": [
    {
     "data": {
      "text/plain": [
       "10"
      ]
     },
     "execution_count": 4,
     "metadata": {},
     "output_type": "execute_result"
    }
   ],
   "source": [
    "list=[1,2,3,4,5,6,7,8,9,10]\n",
    "len(list)"
   ]
  },
  {
   "cell_type": "code",
   "execution_count": 5,
   "id": "f3bea6e5-dbc6-4634-aaf9-a6f3cb2cdaf9",
   "metadata": {},
   "outputs": [
    {
     "data": {
      "text/plain": [
       "10"
      ]
     },
     "execution_count": 5,
     "metadata": {},
     "output_type": "execute_result"
    }
   ],
   "source": [
    "list=[1,2,3,4,5,6,7,8,9,10]\n",
    "max(list)"
   ]
  },
  {
   "cell_type": "code",
   "execution_count": 6,
   "id": "3c50d5d3-74b5-46b6-9667-684aa5ab0bbe",
   "metadata": {},
   "outputs": [
    {
     "data": {
      "text/plain": [
       "1"
      ]
     },
     "execution_count": 6,
     "metadata": {},
     "output_type": "execute_result"
    }
   ],
   "source": [
    "list=[1,2,3,4,5,6,7,8,9,10]\n",
    "min(list)"
   ]
  },
  {
   "cell_type": "code",
   "execution_count": 7,
   "id": "e58fbfb5-7c36-4a68-b072-b846fb3fbd11",
   "metadata": {},
   "outputs": [
    {
     "data": {
      "text/plain": [
       "55"
      ]
     },
     "execution_count": 7,
     "metadata": {},
     "output_type": "execute_result"
    }
   ],
   "source": [
    "list=[1,2,3,4,5,6,7,8,9,10]\n",
    "sum(list)"
   ]
  },
  {
   "cell_type": "code",
   "execution_count": 13,
   "id": "2f5c77f9-95a9-46e2-922f-7b212c2e8ae2",
   "metadata": {},
   "outputs": [
    {
     "data": {
      "text/plain": [
       "[1, 2, 3, 4, 5, 6]"
      ]
     },
     "execution_count": 13,
     "metadata": {},
     "output_type": "execute_result"
    }
   ],
   "source": [
    "list1=[1,2,3,4,5,6]\n",
    "list1"
   ]
  },
  {
   "cell_type": "code",
   "execution_count": 14,
   "id": "d1e3e8de-3f13-4014-b573-6a51853fab79",
   "metadata": {},
   "outputs": [
    {
     "data": {
      "text/plain": [
       "list"
      ]
     },
     "execution_count": 14,
     "metadata": {},
     "output_type": "execute_result"
    }
   ],
   "source": [
    "type(list)"
   ]
  },
  {
   "cell_type": "code",
   "execution_count": 16,
   "id": "be4df840-621e-4efd-80df-b6d118e4e347",
   "metadata": {},
   "outputs": [
    {
     "data": {
      "text/plain": [
       "['Apple', 'Ball', 'Cat']"
      ]
     },
     "execution_count": 16,
     "metadata": {},
     "output_type": "execute_result"
    }
   ],
   "source": [
    "list2=[\"Apple\",\"Ball\",\"Cat\"]\n",
    "list2"
   ]
  },
  {
   "cell_type": "code",
   "execution_count": 20,
   "id": "e4a75d03-4d76-4226-acad-550bfc652292",
   "metadata": {},
   "outputs": [
    {
     "data": {
      "text/plain": [
       "[1, 2, 3, 'Apple', 'Ball', 'cat']"
      ]
     },
     "execution_count": 20,
     "metadata": {},
     "output_type": "execute_result"
    }
   ],
   "source": [
    "list3=[1,2,3,\"Apple\",\"Ball\",\"cat\"]\n",
    "list3"
   ]
  },
  {
   "cell_type": "code",
   "execution_count": 17,
   "id": "6b721b7f-735e-4ef1-aa98-b7127adad37d",
   "metadata": {},
   "outputs": [
    {
     "data": {
      "text/plain": [
       "[1, 'Apple', 10.5, True]"
      ]
     },
     "execution_count": 17,
     "metadata": {},
     "output_type": "execute_result"
    }
   ],
   "source": [
    "list4=[1,\"Apple\",10.5,True]\n",
    "list4"
   ]
  },
  {
   "cell_type": "code",
   "execution_count": 18,
   "id": "1616ec9d-0f93-43a4-97cf-2ed484c0653a",
   "metadata": {},
   "outputs": [
    {
     "data": {
      "text/plain": [
       "[100, 100, 100]"
      ]
     },
     "execution_count": 18,
     "metadata": {},
     "output_type": "execute_result"
    }
   ],
   "source": [
    "list5=[100,100,100]\n",
    "list5"
   ]
  },
  {
   "cell_type": "code",
   "execution_count": 19,
   "id": "0838d002-df12-4aca-af60-407de19f9261",
   "metadata": {},
   "outputs": [
    {
     "data": {
      "text/plain": [
       "['apple', 'Ball', [1, 2, 3]]"
      ]
     },
     "execution_count": 19,
     "metadata": {},
     "output_type": "execute_result"
    }
   ],
   "source": [
    "list6=[\"apple\",\"Ball\",[1,2,3]]\n",
    "list6"
   ]
  },
  {
   "cell_type": "code",
   "execution_count": null,
   "id": "55c5dd31-f2e7-4ac7-9fde-e17c6deaeb39",
   "metadata": {},
   "outputs": [],
   "source": [
    "-list items can be heterogeous\n",
    "    -which means list items can be all dat types \n",
    "-List items can be duplicate\n",
    "    -which means list can have same value multiple items\n",
    "-List can have another list inside: List in list"
   ]
  },
  {
   "cell_type": "code",
   "execution_count": 26,
   "id": "9a5b2f48-4659-439d-aa3f-ed89faf091e4",
   "metadata": {},
   "outputs": [
    {
     "data": {
      "text/plain": [
       "list"
      ]
     },
     "execution_count": 26,
     "metadata": {},
     "output_type": "execute_result"
    }
   ],
   "source": [
    "list=[1,2,3,4,5,6,7,8,9,10]\n",
    "type(list)"
   ]
  },
  {
   "cell_type": "code",
   "execution_count": 27,
   "id": "b0c9637d-709e-4651-b739-15d596a0ca83",
   "metadata": {},
   "outputs": [
    {
     "data": {
      "text/plain": [
       "10"
      ]
     },
     "execution_count": 27,
     "metadata": {},
     "output_type": "execute_result"
    }
   ],
   "source": [
    "list=[1,2,3,4,5,6,7,8,9,10]\n",
    "len(list)"
   ]
  },
  {
   "cell_type": "code",
   "execution_count": 28,
   "id": "2464dd77-ca3a-4089-82dc-6dcc7acd82e1",
   "metadata": {},
   "outputs": [
    {
     "data": {
      "text/plain": [
       "10"
      ]
     },
     "execution_count": 28,
     "metadata": {},
     "output_type": "execute_result"
    }
   ],
   "source": [
    "list=[1,2,3,4,5,6,7,8,9,10]\n",
    "max(list)"
   ]
  },
  {
   "cell_type": "code",
   "execution_count": 29,
   "id": "193a572b-3beb-4a62-b649-731291cbded7",
   "metadata": {},
   "outputs": [
    {
     "data": {
      "text/plain": [
       "1"
      ]
     },
     "execution_count": 29,
     "metadata": {},
     "output_type": "execute_result"
    }
   ],
   "source": [
    "list=[1,2,3,4,5,6,7,8,9,10]\n",
    "min(list)"
   ]
  },
  {
   "cell_type": "code",
   "execution_count": 30,
   "id": "194a9f99-c29a-4cac-a0b0-6038e1a5258d",
   "metadata": {},
   "outputs": [
    {
     "data": {
      "text/plain": [
       "55"
      ]
     },
     "execution_count": 30,
     "metadata": {},
     "output_type": "execute_result"
    }
   ],
   "source": [
    "list=[1,2,3,4,5,6,7,8,9,10]\n",
    "sum(list)"
   ]
  },
  {
   "cell_type": "code",
   "execution_count": 32,
   "id": "9c470068-9e50-4b16-8d73-3d31a66274cd",
   "metadata": {},
   "outputs": [
    {
     "data": {
      "text/plain": [
       "3"
      ]
     },
     "execution_count": 32,
     "metadata": {},
     "output_type": "execute_result"
    }
   ],
   "source": [
    "list=[\"Apple\",\"Ball\",\"Cat\"]\n",
    "len(list)"
   ]
  },
  {
   "cell_type": "code",
   "execution_count": 33,
   "id": "80410f7f-4145-4e3f-9b43-e503da0948fd",
   "metadata": {},
   "outputs": [
    {
     "data": {
      "text/plain": [
       "'Cat'"
      ]
     },
     "execution_count": 33,
     "metadata": {},
     "output_type": "execute_result"
    }
   ],
   "source": [
    "list=[\"Apple\",\"Ball\",\"Cat\"]\n",
    "max(list)"
   ]
  },
  {
   "cell_type": "code",
   "execution_count": 35,
   "id": "46c507c3-a014-4753-bd67-7b1c370c5aeb",
   "metadata": {},
   "outputs": [
    {
     "data": {
      "text/plain": [
       "'Apple'"
      ]
     },
     "execution_count": 35,
     "metadata": {},
     "output_type": "execute_result"
    }
   ],
   "source": [
    "list=[\"Apple\",\"Ball\",\"Cat\"]\n",
    "min(list)"
   ]
  },
  {
   "cell_type": "code",
   "execution_count": 37,
   "id": "ba58e5bb-04a6-4ac0-9657-50399e52bd01",
   "metadata": {},
   "outputs": [
    {
     "data": {
      "text/plain": [
       "6"
      ]
     },
     "execution_count": 37,
     "metadata": {},
     "output_type": "execute_result"
    }
   ],
   "source": [
    "list3=[1,2,3,\"Apple\",\"Ball\",\"cat\"]\n",
    "len(list3)"
   ]
  },
  {
   "cell_type": "code",
   "execution_count": 39,
   "id": "cc996b3f-abf2-448d-9c26-e6fcf71c74d1",
   "metadata": {},
   "outputs": [
    {
     "data": {
      "text/plain": [
       "[10, 9, 8, 7, 6, 5, 4, 3, 2, 1]"
      ]
     },
     "execution_count": 39,
     "metadata": {},
     "output_type": "execute_result"
    }
   ],
   "source": [
    "sorted(list,reverse=True)"
   ]
  },
  {
   "cell_type": "code",
   "execution_count": 41,
   "id": "f94f19db-4848-439f-8bf7-b22914c35ff1",
   "metadata": {},
   "outputs": [
    {
     "name": "stdout",
     "output_type": "stream",
     "text": [
      "10 9 8 7 6 5 4 3 2 1 "
     ]
    }
   ],
   "source": [
    "value=reversed(list)\n",
    "for i in value:\n",
    "    print(i,end=' ')"
   ]
  },
  {
   "cell_type": "code",
   "execution_count": 42,
   "id": "fccfefcd-5a78-471c-a98b-70872e5b31b8",
   "metadata": {},
   "outputs": [
    {
     "data": {
      "text/plain": [
       "[1, 2, 3, 'Apple', 'Ball', 'cat']"
      ]
     },
     "execution_count": 42,
     "metadata": {},
     "output_type": "execute_result"
    }
   ],
   "source": [
    "list3=[1,2,3,\"Apple\",\"Ball\",\"cat\"]\n",
    "list3"
   ]
  },
  {
   "cell_type": "code",
   "execution_count": 43,
   "id": "0f5a66d5-065d-48c9-be7c-e939e5f1f20c",
   "metadata": {},
   "outputs": [
    {
     "name": "stdout",
     "output_type": "stream",
     "text": [
      "cat\n",
      "Ball\n",
      "Apple\n",
      "3\n",
      "2\n",
      "1\n"
     ]
    }
   ],
   "source": [
    "for i in reversed(list3):\n",
    "    print(i)"
   ]
  },
  {
   "cell_type": "code",
   "execution_count": null,
   "id": "15b37920-539c-4484-8ec5-2799a21b6d6d",
   "metadata": {},
   "outputs": [],
   "source": [
    "1 in list1\n",
    "2 in list2\n",
    "3 in list3\n",
    "33 in list1 # Error"
   ]
  },
  {
   "cell_type": "code",
   "execution_count": 44,
   "id": "af2da487-1c78-48ab-8293-6a766289879c",
   "metadata": {},
   "outputs": [
    {
     "name": "stdout",
     "output_type": "stream",
     "text": [
      "1\n",
      "2\n",
      "3\n",
      "4\n",
      "5\n"
     ]
    }
   ],
   "source": [
    "1 in list1\n",
    "2 in list2\n",
    "3 in list3\n",
    "for i in list1:\n",
    "    print(i)"
   ]
  },
  {
   "cell_type": "code",
   "execution_count": 45,
   "id": "7396f83b-fde0-40e1-9760-baf23bc03cf9",
   "metadata": {},
   "outputs": [
    {
     "data": {
      "text/plain": [
       "True"
      ]
     },
     "execution_count": 45,
     "metadata": {},
     "output_type": "execute_result"
    }
   ],
   "source": [
    "\"Apple\">\"APPLE\""
   ]
  },
  {
   "cell_type": "code",
   "execution_count": null,
   "id": "ba0872a2-4321-4dae-b566-a0717e6148cc",
   "metadata": {},
   "outputs": [],
   "source": [
    "-7 -6 -5 -4 -3 -2 -1\n",
    "1  2  3  4   5  6  7\n",
    "0  1  2  3  4  5  6"
   ]
  },
  {
   "cell_type": "code",
   "execution_count": 2,
   "id": "3b43ccf8-f971-4b6c-8259-22d98a5bcc7c",
   "metadata": {},
   "outputs": [
    {
     "data": {
      "text/plain": [
       "(10, 20, 30)"
      ]
     },
     "execution_count": 2,
     "metadata": {},
     "output_type": "execute_result"
    }
   ],
   "source": [
    "list=[10,20,30,40,50,60]\n",
    "list[0],list[1],list[2]"
   ]
  },
  {
   "cell_type": "code",
   "execution_count": 3,
   "id": "ca4ed249-2164-4e83-a5a6-9ba658f1f0a5",
   "metadata": {},
   "outputs": [
    {
     "data": {
      "text/plain": [
       "1"
      ]
     },
     "execution_count": 3,
     "metadata": {},
     "output_type": "execute_result"
    }
   ],
   "source": [
    "list=[[1]]\n",
    "list[0][0]"
   ]
  },
  {
   "cell_type": "code",
   "execution_count": 5,
   "id": "321ad9b6-f0a1-4455-afd5-cf7d5d35a35a",
   "metadata": {},
   "outputs": [
    {
     "name": "stdout",
     "output_type": "stream",
     "text": [
      "0\n",
      "1\n",
      "2\n",
      "3\n",
      "4\n",
      "5\n"
     ]
    }
   ],
   "source": [
    "list=[10,20,30,40,50,60]\n",
    "for i in range(len(list)):\n",
    "    print(i)"
   ]
  },
  {
   "cell_type": "code",
   "execution_count": 6,
   "id": "9d03b269-ec6a-4c34-86f1-98387cc3b197",
   "metadata": {},
   "outputs": [
    {
     "data": {
      "text/plain": [
       "10"
      ]
     },
     "execution_count": 6,
     "metadata": {},
     "output_type": "execute_result"
    }
   ],
   "source": [
    "list=[1,2,3,[10]]\n",
    "list[3][0]"
   ]
  },
  {
   "cell_type": "code",
   "execution_count": 7,
   "id": "79df1e40-b8ea-4d4a-89b4-d5562668abce",
   "metadata": {},
   "outputs": [
    {
     "data": {
      "text/plain": [
       "4"
      ]
     },
     "execution_count": 7,
     "metadata": {},
     "output_type": "execute_result"
    }
   ],
   "source": [
    "list=[1,2,3,[\"A\",[\"B\"]]]\n",
    "len(list)"
   ]
  },
  {
   "cell_type": "code",
   "execution_count": 8,
   "id": "e703a6ef-a17c-412c-8f2c-22fc5a2486e3",
   "metadata": {},
   "outputs": [
    {
     "data": {
      "text/plain": [
       "['A', ['B']]"
      ]
     },
     "execution_count": 8,
     "metadata": {},
     "output_type": "execute_result"
    }
   ],
   "source": [
    "list[3]"
   ]
  },
  {
   "cell_type": "code",
   "execution_count": 9,
   "id": "c5eaa838-d403-4953-8765-09dd57a30030",
   "metadata": {},
   "outputs": [
    {
     "data": {
      "text/plain": [
       "['B']"
      ]
     },
     "execution_count": 9,
     "metadata": {},
     "output_type": "execute_result"
    }
   ],
   "source": [
    "list[3][1]"
   ]
  },
  {
   "cell_type": "code",
   "execution_count": 10,
   "id": "c4e0ad50-bac0-4118-aab3-148ab6c41205",
   "metadata": {},
   "outputs": [
    {
     "data": {
      "text/plain": [
       "'B'"
      ]
     },
     "execution_count": 10,
     "metadata": {},
     "output_type": "execute_result"
    }
   ],
   "source": [
    "list[3][1][0]"
   ]
  },
  {
   "cell_type": "code",
   "execution_count": 15,
   "id": "940d7ec5-36e4-4447-b243-2d4627f5d12b",
   "metadata": {},
   "outputs": [
    {
     "data": {
      "text/plain": [
       "4"
      ]
     },
     "execution_count": 15,
     "metadata": {},
     "output_type": "execute_result"
    }
   ],
   "source": [
    "list=[1,2,3,[\"Apple\",[\"Fruits\",[\"cherry\"]]]]\n",
    "len(list)"
   ]
  },
  {
   "cell_type": "code",
   "execution_count": 16,
   "id": "7e9ea1ff-ddf1-423b-84fa-a9c2c51953e9",
   "metadata": {},
   "outputs": [
    {
     "data": {
      "text/plain": [
       "['Apple', ['Fruits', ['cherry']]]"
      ]
     },
     "execution_count": 16,
     "metadata": {},
     "output_type": "execute_result"
    }
   ],
   "source": [
    "list[3]"
   ]
  },
  {
   "cell_type": "code",
   "execution_count": 17,
   "id": "0047605e-e195-4a9f-825b-7df757c991cf",
   "metadata": {},
   "outputs": [
    {
     "data": {
      "text/plain": [
       "['Fruits', ['cherry']]"
      ]
     },
     "execution_count": 17,
     "metadata": {},
     "output_type": "execute_result"
    }
   ],
   "source": [
    "list[3][1]"
   ]
  },
  {
   "cell_type": "code",
   "execution_count": 18,
   "id": "f3351079-97c3-4b7c-b20a-70c8ea12481b",
   "metadata": {},
   "outputs": [
    {
     "data": {
      "text/plain": [
       "['cherry']"
      ]
     },
     "execution_count": 18,
     "metadata": {},
     "output_type": "execute_result"
    }
   ],
   "source": [
    "list[3][1][1]"
   ]
  },
  {
   "cell_type": "code",
   "execution_count": 19,
   "id": "d6220aeb-7693-40c1-bf8c-942a4f821756",
   "metadata": {},
   "outputs": [
    {
     "data": {
      "text/plain": [
       "'cherry'"
      ]
     },
     "execution_count": 19,
     "metadata": {},
     "output_type": "execute_result"
    }
   ],
   "source": [
    "list[3][1][1][0]"
   ]
  },
  {
   "cell_type": "code",
   "execution_count": 20,
   "id": "b5029530-fd28-41f6-969b-f6d77c5d996e",
   "metadata": {},
   "outputs": [
    {
     "data": {
      "text/plain": [
       "1"
      ]
     },
     "execution_count": 20,
     "metadata": {},
     "output_type": "execute_result"
    }
   ],
   "source": [
    "list=[[[1,2,3,[\"Apple\",[\"Fruits\",[\"Mango\"]]]]]]\n",
    "len(list)"
   ]
  },
  {
   "cell_type": "code",
   "execution_count": 21,
   "id": "6b2e6958-e7ab-4853-bad7-c866efa1f28d",
   "metadata": {},
   "outputs": [
    {
     "data": {
      "text/plain": [
       "[[1, 2, 3, ['Apple', ['Fruits', ['Mango']]]]]"
      ]
     },
     "execution_count": 21,
     "metadata": {},
     "output_type": "execute_result"
    }
   ],
   "source": [
    "list[0]"
   ]
  },
  {
   "cell_type": "code",
   "execution_count": 24,
   "id": "25d5fa3e-a0b7-417f-8956-abf16053f1de",
   "metadata": {},
   "outputs": [
    {
     "data": {
      "text/plain": [
       "[1, 2, 3, ['Apple', ['Fruits', ['Mango']]]]"
      ]
     },
     "execution_count": 24,
     "metadata": {},
     "output_type": "execute_result"
    }
   ],
   "source": [
    "list[0][0]"
   ]
  },
  {
   "cell_type": "code",
   "execution_count": 26,
   "id": "6845b7d8-e748-4336-813c-3d60ebd95c3a",
   "metadata": {},
   "outputs": [
    {
     "data": {
      "text/plain": [
       "['Apple', ['Fruits', ['Mango']]]"
      ]
     },
     "execution_count": 26,
     "metadata": {},
     "output_type": "execute_result"
    }
   ],
   "source": [
    "list[0][0][3]"
   ]
  },
  {
   "cell_type": "code",
   "execution_count": 27,
   "id": "2285c44a-30b4-4932-8a02-39f59a776c9b",
   "metadata": {},
   "outputs": [
    {
     "data": {
      "text/plain": [
       "['Fruits', ['Mango']]"
      ]
     },
     "execution_count": 27,
     "metadata": {},
     "output_type": "execute_result"
    }
   ],
   "source": [
    "list[0][0][3][1]"
   ]
  },
  {
   "cell_type": "code",
   "execution_count": 28,
   "id": "15cc9e93-424f-46a9-a20d-fceb60f83942",
   "metadata": {},
   "outputs": [
    {
     "data": {
      "text/plain": [
       "['Mango']"
      ]
     },
     "execution_count": 28,
     "metadata": {},
     "output_type": "execute_result"
    }
   ],
   "source": [
    "list[0][0][3][1][1]"
   ]
  },
  {
   "cell_type": "code",
   "execution_count": 30,
   "id": "e7f91b26-fc17-4a12-be62-b15ac1d359f2",
   "metadata": {},
   "outputs": [
    {
     "data": {
      "text/plain": [
       "'Mango'"
      ]
     },
     "execution_count": 30,
     "metadata": {},
     "output_type": "execute_result"
    }
   ],
   "source": [
    "list[0][0][3][1][1][0]"
   ]
  },
  {
   "cell_type": "code",
   "execution_count": 31,
   "id": "2745e325-2e41-4d2d-9c29-79944dbdc81e",
   "metadata": {},
   "outputs": [
    {
     "data": {
      "text/plain": [
       "1"
      ]
     },
     "execution_count": 31,
     "metadata": {},
     "output_type": "execute_result"
    }
   ],
   "source": [
    "list=[[[[[[[[[\"Orange\"]]]]]]]]]\n",
    "len(list)"
   ]
  },
  {
   "cell_type": "code",
   "execution_count": 32,
   "id": "304418f4-6a65-4253-8b58-3c813511fccc",
   "metadata": {},
   "outputs": [
    {
     "data": {
      "text/plain": [
       "'Orange'"
      ]
     },
     "execution_count": 32,
     "metadata": {},
     "output_type": "execute_result"
    }
   ],
   "source": [
    "list[0][0][0][0][0][0][0][0][0]"
   ]
  },
  {
   "cell_type": "code",
   "execution_count": 33,
   "id": "b7f0d94c-5a87-4cab-8341-40bf5d8ebf59",
   "metadata": {},
   "outputs": [
    {
     "data": {
      "text/plain": [
       "1"
      ]
     },
     "execution_count": 33,
     "metadata": {},
     "output_type": "execute_result"
    }
   ],
   "source": [
    "list=[[[[[[[[\"Fruits\",[[[\"Banana\"]]]]]]]]]]]\n",
    "len(list)"
   ]
  },
  {
   "cell_type": "code",
   "execution_count": 1,
   "id": "bea60f7d-ac3b-452a-9ffd-f417b0b0cb31",
   "metadata": {},
   "outputs": [
    {
     "ename": "TypeError",
     "evalue": "list[0] is not a generic class",
     "output_type": "error",
     "traceback": [
      "\u001b[1;31m---------------------------------------------------------------------------\u001b[0m",
      "\u001b[1;31mTypeError\u001b[0m                                 Traceback (most recent call last)",
      "Cell \u001b[1;32mIn[1], line 1\u001b[0m\n\u001b[1;32m----> 1\u001b[0m \u001b[38;5;28mlist\u001b[39m[\u001b[38;5;241m0\u001b[39m][\u001b[38;5;241m0\u001b[39m][\u001b[38;5;241m0\u001b[39m][\u001b[38;5;241m0\u001b[39m][\u001b[38;5;241m0\u001b[39m][\u001b[38;5;241m0\u001b[39m][\u001b[38;5;241m0\u001b[39m][\u001b[38;5;241m0\u001b[39m][\u001b[38;5;241m1\u001b[39m][\u001b[38;5;241m0\u001b[39m][\u001b[38;5;241m0\u001b[39m]\n",
      "\u001b[1;31mTypeError\u001b[0m: list[0] is not a generic class"
     ]
    }
   ],
   "source": [
    "list[0][0][0][0][0][0][0][0][1][0][0]"
   ]
  },
  {
   "cell_type": "code",
   "execution_count": null,
   "id": "8f487098-0292-4c30-a94a-c7cb0437c55c",
   "metadata": {},
   "outputs": [],
   "source": [
    "for i in '5x*+6x+c'\n"
   ]
  },
  {
   "cell_type": "markdown",
   "id": "56261027-f5a1-47df-a16d-e8ef8749387c",
   "metadata": {},
   "source": [
    "# MUTABLE - IMMUTABLE"
   ]
  },
  {
   "cell_type": "code",
   "execution_count": null,
   "id": "f6299e5b-29c8-468c-87a5-6396938c6837",
   "metadata": {},
   "outputs": [],
   "source": [
    "-python mutable concept aiways based on index\n",
    "\n",
    "-list are mutable we can change the value using index"
   ]
  },
  {
   "cell_type": "code",
   "execution_count": null,
   "id": "0006294c-1eef-4a48-b512-5f00689e047a",
   "metadata": {},
   "outputs": [],
   "source": [
    "-type\n",
    "-len\n",
    "-max\n",
    "-min\n",
    "-sum\n",
    "-reversed\n",
    "-sorted\n",
    "-in\n",
    "-not in\n",
    "-index\n",
    "=for loop\n",
    "-mutable\n",
    "-concatenation\n",
    "-methods"
   ]
  },
  {
   "cell_type": "code",
   "execution_count": 5,
   "id": "c7f0df57-b7b0-48af-aa05-97959e900d07",
   "metadata": {},
   "outputs": [
    {
     "data": {
      "text/plain": [
       "[100, 2, 3, 4]"
      ]
     },
     "execution_count": 5,
     "metadata": {},
     "output_type": "execute_result"
    }
   ],
   "source": [
    "l=[1,2,3,4]\n",
    "l[0]=100\n",
    "l"
   ]
  },
  {
   "cell_type": "markdown",
   "id": "7cd283ec-08fa-4b9f-a492-32f3f5cd185e",
   "metadata": {},
   "source": [
    "# CONCATENATION"
   ]
  },
  {
   "cell_type": "code",
   "execution_count": 6,
   "id": "24170202-832e-4441-8c78-475e4f8dd82b",
   "metadata": {},
   "outputs": [
    {
     "data": {
      "text/plain": [
       "[1, 2, 3, 4, 10, 20, 30, 40]"
      ]
     },
     "execution_count": 6,
     "metadata": {},
     "output_type": "execute_result"
    }
   ],
   "source": [
    "l1=[1,2,3,4,]\n",
    "l2=[10,20,30,40]\n",
    "l1+l2"
   ]
  },
  {
   "cell_type": "code",
   "execution_count": null,
   "id": "d1f7b71c-0bff-49a2-97bc-cacc9d9cf270",
   "metadata": {},
   "outputs": [],
   "source": [
    "l1-l2 # fail\n",
    "l1*l2 # fail\n",
    "l1/l2 # fail"
   ]
  },
  {
   "cell_type": "code",
   "execution_count": null,
   "id": "d1ebab3b-885a-4533-a660-277f518c9751",
   "metadata": {},
   "outputs": [],
   "source": [
    "**METHODS**"
   ]
  },
  {
   "cell_type": "code",
   "execution_count": 11,
   "id": "483f0e3f-c483-4c18-831e-1052324a530a",
   "metadata": {},
   "outputs": [
    {
     "data": {
      "text/plain": [
       "['__add__',\n",
       " '__class__',\n",
       " '__class_getitem__',\n",
       " '__contains__',\n",
       " '__delattr__',\n",
       " '__delitem__',\n",
       " '__dir__',\n",
       " '__doc__',\n",
       " '__eq__',\n",
       " '__format__',\n",
       " '__ge__',\n",
       " '__getattribute__',\n",
       " '__getitem__',\n",
       " '__getstate__',\n",
       " '__gt__',\n",
       " '__hash__',\n",
       " '__iadd__',\n",
       " '__imul__',\n",
       " '__init__',\n",
       " '__init_subclass__',\n",
       " '__iter__',\n",
       " '__le__',\n",
       " '__len__',\n",
       " '__lt__',\n",
       " '__mul__',\n",
       " '__ne__',\n",
       " '__new__',\n",
       " '__reduce__',\n",
       " '__reduce_ex__',\n",
       " '__repr__',\n",
       " '__reversed__',\n",
       " '__rmul__',\n",
       " '__setattr__',\n",
       " '__setitem__',\n",
       " '__sizeof__',\n",
       " '__str__',\n",
       " '__subclasshook__',\n",
       " 'append',\n",
       " 'clear',\n",
       " 'copy',\n",
       " 'count',\n",
       " 'extend',\n",
       " 'index',\n",
       " 'insert',\n",
       " 'pop',\n",
       " 'remove',\n",
       " 'reverse',\n",
       " 'sort']"
      ]
     },
     "execution_count": 11,
     "metadata": {},
     "output_type": "execute_result"
    }
   ],
   "source": [
    "dir([])"
   ]
  },
  {
   "cell_type": "code",
   "execution_count": null,
   "id": "03f3b22f-23d6-4187-aaf9-eb22f4b9a889",
   "metadata": {},
   "outputs": [],
   "source": [
    "'append',\n",
    " 'clear',\n",
    " 'copy',\n",
    " 'count',\n",
    " 'extend',\n",
    " 'index',\n",
    " 'insert',\n",
    " 'pop',\n",
    " 'remove',\n",
    " 'reverse',\n",
    " 'sort'"
   ]
  },
  {
   "cell_type": "code",
   "execution_count": null,
   "id": "53a9a2b1-95e5-4d2c-b2f3-25aa49339626",
   "metadata": {},
   "outputs": [],
   "source": [
    "**APPEND***\n",
    "-Append means adding a number at the end of the list\n",
    "\n",
    "-Append is a very method we will use many times in our code\n",
    "\n",
    "-Append will use mainly to store the result\n",
    "\n",
    "-Append the values overwrite"
   ]
  },
  {
   "cell_type": "code",
   "execution_count": 10,
   "id": "4f38852e-229d-4d1e-bc91-b93c80a565fb",
   "metadata": {},
   "outputs": [
    {
     "ename": "TypeError",
     "evalue": "list indices must be integers or slices, not str",
     "output_type": "error",
     "traceback": [
      "\u001b[1;31m---------------------------------------------------------------------------\u001b[0m",
      "\u001b[1;31mTypeError\u001b[0m                                 Traceback (most recent call last)",
      "Cell \u001b[1;32mIn[10], line 2\u001b[0m\n\u001b[0;32m      1\u001b[0m number\u001b[38;5;241m=\u001b[39m[\u001b[38;5;124m\"\u001b[39m\u001b[38;5;124mone\u001b[39m\u001b[38;5;124m\"\u001b[39m,\u001b[38;5;124m\"\u001b[39m\u001b[38;5;124mtwo\u001b[39m\u001b[38;5;124m\"\u001b[39m,\u001b[38;5;124m\"\u001b[39m\u001b[38;5;124mthree\u001b[39m\u001b[38;5;124m\"\u001b[39m,\u001b[38;5;124m\"\u001b[39m\u001b[38;5;124mfour\u001b[39m\u001b[38;5;124m\"\u001b[39m,\u001b[38;5;124m\"\u001b[39m\u001b[38;5;124mfive\u001b[39m\u001b[38;5;124m\"\u001b[39m]\n\u001b[1;32m----> 2\u001b[0m number[\u001b[38;5;124m\"\u001b[39m\u001b[38;5;124mfour\u001b[39m\u001b[38;5;124m\"\u001b[39m]\n",
      "\u001b[1;31mTypeError\u001b[0m: list indices must be integers or slices, not str"
     ]
    }
   ],
   "source": [
    "number=[\"one\",\"two\",\"three\",\"four\",\"five\"]\n",
    "number[\"four\"]"
   ]
  },
  {
   "cell_type": "code",
   "execution_count": 11,
   "id": "4071e358-dd01-4aa0-8723-8166ce3650e0",
   "metadata": {},
   "outputs": [
    {
     "data": {
      "text/plain": [
       "'four'"
      ]
     },
     "execution_count": 11,
     "metadata": {},
     "output_type": "execute_result"
    }
   ],
   "source": [
    "number[3]"
   ]
  },
  {
   "cell_type": "code",
   "execution_count": 12,
   "id": "33875d73-9136-4e79-b7a8-396b21f4f84e",
   "metadata": {},
   "outputs": [
    {
     "data": {
      "text/plain": [
       "[1, 2, 3, 4, 100]"
      ]
     },
     "execution_count": 12,
     "metadata": {},
     "output_type": "execute_result"
    }
   ],
   "source": [
    "l=[1,2,3,4]\n",
    "l.append(100)\n",
    "l"
   ]
  },
  {
   "cell_type": "code",
   "execution_count": null,
   "id": "778b9707-6bb3-4d2c-80cc-c334bab1ead8",
   "metadata": {},
   "outputs": [],
   "source": [
    "l=[1,2,3,4,5]"
   ]
  },
  {
   "cell_type": "code",
   "execution_count": 14,
   "id": "3d86f32c-db0a-416b-8f71-95c181201517",
   "metadata": {},
   "outputs": [
    {
     "data": {
      "text/plain": [
       "[1, 2, 3, 4, 100, 200, 200]"
      ]
     },
     "execution_count": 14,
     "metadata": {},
     "output_type": "execute_result"
    }
   ],
   "source": [
    "l.append(200)\n",
    "l"
   ]
  },
  {
   "cell_type": "code",
   "execution_count": 15,
   "id": "4ba35fe0-c1e4-4427-8d6c-5749193050bb",
   "metadata": {},
   "outputs": [
    {
     "data": {
      "text/plain": [
       "[10, 'Apple']"
      ]
     },
     "execution_count": 15,
     "metadata": {},
     "output_type": "execute_result"
    }
   ],
   "source": [
    "l=[]\n",
    "l.append(10)\n",
    "l.append(\"Apple\")\n",
    "l"
   ]
  },
  {
   "cell_type": "code",
   "execution_count": 16,
   "id": "150d7392-43fa-44d1-9a85-222158b039cb",
   "metadata": {},
   "outputs": [
    {
     "data": {
      "text/plain": [
       "''"
      ]
     },
     "execution_count": 16,
     "metadata": {},
     "output_type": "execute_result"
    }
   ],
   "source": [
    "s=\"\"\n",
    "s+\"p\"\n",
    "s"
   ]
  },
  {
   "cell_type": "code",
   "execution_count": 17,
   "id": "64fa5b00-8373-48b3-ad41-1d1b74aa2551",
   "metadata": {},
   "outputs": [
    {
     "data": {
      "text/plain": [
       "('', 'p')"
      ]
     },
     "execution_count": 17,
     "metadata": {},
     "output_type": "execute_result"
    }
   ],
   "source": [
    "s=\"\"     # this is not overwrite\n",
    "s1=s+\"p\"\n",
    "s,s1"
   ]
  },
  {
   "cell_type": "code",
   "execution_count": 18,
   "id": "222fd397-af85-44eb-8598-8fd3910feea6",
   "metadata": {},
   "outputs": [
    {
     "name": "stdout",
     "output_type": "stream",
     "text": [
      "1\n",
      "4\n",
      "9\n",
      "16\n",
      "25\n"
     ]
    }
   ],
   "source": [
    "# Q1) WAP Ask the user print 1,5 numbers square\n",
    "# how to save the result\n",
    "for i in range(1,6):\n",
    "    i=i*i\n",
    "    print(i)"
   ]
  },
  {
   "cell_type": "code",
   "execution_count": 3,
   "id": "85c9cd50-34d4-412a-8609-ef7f9ab51644",
   "metadata": {},
   "outputs": [
    {
     "data": {
      "text/plain": [
       "[1, 4, 9, 16, 25]"
      ]
     },
     "execution_count": 3,
     "metadata": {},
     "output_type": "execute_result"
    }
   ],
   "source": [
    "l=[]\n",
    "for i in range(1,6):\n",
    "    l.append(i*i)\n",
    "l"
   ]
  },
  {
   "cell_type": "code",
   "execution_count": 12,
   "id": "890de619-2139-47c6-9201-3df3d663a0cd",
   "metadata": {},
   "outputs": [
    {
     "data": {
      "text/plain": [
       "['Hyd', 'Chennai']"
      ]
     },
     "execution_count": 12,
     "metadata": {},
     "output_type": "execute_result"
    }
   ],
   "source": [
    "# Q2) l=[\"hyd\",\"bglr\",\"chennai\",\"pune\"]\n",
    "# output=[\"Hyd\",\"chennai\"]\n",
    "# is title\n",
    "# Step:-1 make one empty list\n",
    "# step:-2 Iterate each word from list\n",
    "# Step:-3 apply is title method ifncondition\n",
    "# Step:-4 if that condition is satiesfy\n",
    "# Step:-5 then append the result in empty list \n",
    "l=[\"Hyd\",\"bglr\",\"Chennai\",\"pune\"]\n",
    "out=[]\n",
    "for i in l:\n",
    "    if i.istitle():\n",
    "        out.append(i)\n",
    "out"
   ]
  },
  {
   "cell_type": "code",
   "execution_count": 10,
   "id": "eb5e65ed-2f23-4c33-95e0-86d5bb10eaff",
   "metadata": {},
   "outputs": [
    {
     "data": {
      "text/plain": [
       "['HYD', 'PUNE']"
      ]
     },
     "execution_count": 10,
     "metadata": {},
     "output_type": "execute_result"
    }
   ],
   "source": [
    "# Q3) l=[\"HYD\",\"bglr\",\"chennai\",\"PUNE\"]\n",
    "l=[\"HYD\",\"bglr\",\"chennai\",\"PUNE\"]\n",
    "out=[]\n",
    "for i in l:\n",
    "    if i.isupper():\n",
    "        out.append(i)\n",
    "out"
   ]
  },
  {
   "cell_type": "code",
   "execution_count": 15,
   "id": "99305e89-6530-4d67-b2a4-1abd92638f19",
   "metadata": {},
   "outputs": [
    {
     "data": {
      "text/plain": [
       "['bl#r', 'che#nnai']"
      ]
     },
     "execution_count": 15,
     "metadata": {},
     "output_type": "execute_result"
    }
   ],
   "source": [
    "# Q3)  l=[\"HYD\",\"bl#r\",\"che#nnai\",\"PUNE\"]\n",
    "# out=[\"bl#r\",\"che#nnai\"]\n",
    "l=[\"HYD\",\"bl#r\",\"che#nnai\",\"PUNE\"]\n",
    "out=[]\n",
    "for i in l:\n",
    "    if \"#\" in i:\n",
    "        out.append(i)\n",
    "out"
   ]
  },
  {
   "cell_type": "code",
   "execution_count": 17,
   "id": "2967efad-1dc2-46f6-b36e-e9ad0d225f86",
   "metadata": {},
   "outputs": [
    {
     "data": {
      "text/plain": [
       "['chennai']"
      ]
     },
     "execution_count": 17,
     "metadata": {},
     "output_type": "execute_result"
    }
   ],
   "source": [
    "#Q5) l=[\"HYD\",\"bglr\",\"chennai\",\"PUNE\"]\n",
    "#out=[\"Chennai\"]\n",
    "# >4\n",
    "l=[\"HYD\",\"bglr\",\"chennai\",\"PUNE\"]\n",
    "out=[]\n",
    "for i in l:\n",
    "    if len(i)>4:\n",
    "        out.append(i)\n",
    "out"
   ]
  },
  {
   "cell_type": "code",
   "execution_count": 1,
   "id": "6501e349-bfa1-4ef4-bdcf-538183fdc71f",
   "metadata": {},
   "outputs": [
    {
     "name": "stdout",
     "output_type": "stream",
     "text": [
      "can 5\n"
     ]
    }
   ],
   "source": [
    "# Q6) can canner can not a can but canner can you make a can \n",
    "# find out the each word how many times repeated\n",
    "#step:-1 split it \n",
    "#step:-2 iterate\n",
    "#step:-3 we have count method() (count should not use)\n",
    "s=(\"can canner can not a can but canner can you make a can\")\n",
    "l=s.split()\n",
    "for i in l:\n",
    "    count=0\n",
    "    for j in l:\n",
    "        if i==j:\n",
    "            count=count+1\n",
    "print(i,count)"
   ]
  },
  {
   "cell_type": "code",
   "execution_count": 2,
   "id": "34f931c8-284f-400e-8f9c-28a3df60152a",
   "metadata": {},
   "outputs": [
    {
     "name": "stdout",
     "output_type": "stream",
     "text": [
      "enter the 5 numbers \n"
     ]
    },
    {
     "name": "stdin",
     "output_type": "stream",
     "text": [
      " 45\n",
      " 3\n",
      " 2\n",
      " 1\n",
      " 8\n"
     ]
    },
    {
     "name": "stdout",
     "output_type": "stream",
     "text": [
      "even numbers: [2, 8]\n",
      "odd number: [45, 3, 1]\n"
     ]
    }
   ],
   "source": [
    "#Q7) WAP ask the user get the enen odd numbers \n",
    "# you want 5 numbers\n",
    "# 5 numbers randomly\n",
    "# evenlist and oddlist \n",
    "# append the even numbers in even list\n",
    "# append the odd numbers is odd list\n",
    "even_number=[]\n",
    "odd_number=[]\n",
    "print(\"enter the 5 numbers \")\n",
    "for i in range(5):\n",
    " num=int(input())\n",
    " if num%2==0:\n",
    "     even_number.append(num)\n",
    " else:\n",
    "     odd_number.append(num)\n",
    "print(\"even numbers:\",even_number)\n",
    "print(\"odd number:\",odd_number)"
   ]
  },
  {
   "cell_type": "code",
   "execution_count": 4,
   "id": "6b7b5e2c-e7a6-4397-a58c-af3dc9602b2d",
   "metadata": {},
   "outputs": [
    {
     "name": "stdout",
     "output_type": "stream",
     "text": [
      "1 1\n",
      "1 2\n",
      "1 3\n",
      "2 1\n",
      "2 2\n",
      "2 3\n",
      "3 1\n",
      "3 2\n",
      "3 3\n"
     ]
    }
   ],
   "source": [
    "l=[1,2,3]\n",
    "for i in l:\n",
    "    for j in l:\n",
    "        print(i,j)"
   ]
  },
  {
   "cell_type": "code",
   "execution_count": 12,
   "id": "dd84f901-6d17-43e0-9734-6d65f6af1eb2",
   "metadata": {},
   "outputs": [
    {
     "ename": "AttributeError",
     "evalue": "'list' object has no attribute 'isalnum'",
     "output_type": "error",
     "traceback": [
      "\u001b[1;31m---------------------------------------------------------------------------\u001b[0m",
      "\u001b[1;31mAttributeError\u001b[0m                            Traceback (most recent call last)",
      "Cell \u001b[1;32mIn[12], line 3\u001b[0m\n\u001b[0;32m      1\u001b[0m l\u001b[38;5;241m=\u001b[39m[\u001b[38;5;124m\"\u001b[39m\u001b[38;5;124mapple\u001b[39m\u001b[38;5;124m\"\u001b[39m,\u001b[38;5;124m\"\u001b[39m\u001b[38;5;124mcat\u001b[39m\u001b[38;5;124m\"\u001b[39m,\u001b[38;5;124m\"\u001b[39m\u001b[38;5;124mdog\u001b[39m\u001b[38;5;124m\"\u001b[39m,\u001b[38;5;124m\"\u001b[39m\u001b[38;5;124mball\u001b[39m\u001b[38;5;124m\"\u001b[39m]\n\u001b[0;32m      2\u001b[0m \u001b[38;5;66;03m# sort it with out sort method\u001b[39;00m\n\u001b[1;32m----> 3\u001b[0m l\u001b[38;5;241m.\u001b[39misalnum()\n\u001b[0;32m      4\u001b[0m l\n",
      "\u001b[1;31mAttributeError\u001b[0m: 'list' object has no attribute 'isalnum'"
     ]
    }
   ],
   "source": [
    "l=[\"apple\",\"cat\",\"dog\",\"ball\"]\n",
    "# sort it with out sort method\n",
    "l.isalnum()\n",
    "l"
   ]
  },
  {
   "cell_type": "code",
   "execution_count": null,
   "id": "039bcd22-bfa4-47d1-97b0-7eda810e4231",
   "metadata": {},
   "outputs": [],
   "source": [
    "l=[10,15,2,25,89]\n",
    "# Find the maximum word find the minimum word"
   ]
  },
  {
   "cell_type": "code",
   "execution_count": 11,
   "id": "ff5e860e-0285-4828-9623-6d48091f64f3",
   "metadata": {},
   "outputs": [
    {
     "name": "stdout",
     "output_type": "stream",
     "text": [
      "the total sum of two lists: [11]\n",
      "the total sum of two lists: [11, 22]\n",
      "the total sum of two lists: [11, 22, 33]\n",
      "the total sum of two lists: [11, 22, 33, 44]\n"
     ]
    },
    {
     "ename": "IndexError",
     "evalue": "list index out of range",
     "output_type": "error",
     "traceback": [
      "\u001b[1;31m---------------------------------------------------------------------------\u001b[0m",
      "\u001b[1;31mIndexError\u001b[0m                                Traceback (most recent call last)",
      "Cell \u001b[1;32mIn[11], line 5\u001b[0m\n\u001b[0;32m      3\u001b[0m total\u001b[38;5;241m=\u001b[39m[]\n\u001b[0;32m      4\u001b[0m \u001b[38;5;28;01mfor\u001b[39;00m i \u001b[38;5;129;01min\u001b[39;00m \u001b[38;5;28mrange\u001b[39m(\u001b[38;5;241m5\u001b[39m):\n\u001b[1;32m----> 5\u001b[0m     total\u001b[38;5;241m.\u001b[39mappend(l1[i]\u001b[38;5;241m+\u001b[39ml2[i])\n\u001b[0;32m      6\u001b[0m     \u001b[38;5;28mprint\u001b[39m(\u001b[38;5;124m\"\u001b[39m\u001b[38;5;124mthe total sum of two lists:\u001b[39m\u001b[38;5;124m\"\u001b[39m,total)\n",
      "\u001b[1;31mIndexError\u001b[0m: list index out of range"
     ]
    }
   ],
   "source": [
    "l1=[1,2,3,4]\n",
    "l2=[10,20,30,40]\n",
    "total=[]\n",
    "for i in range(5):\n",
    "    total.append(l1[i]+l2[i])\n",
    "    print(\"the total sum of two lists:\",total)\n",
    "#out=[11,22,33,44]"
   ]
  },
  {
   "cell_type": "code",
   "execution_count": 2,
   "id": "7ccddb22-7e7f-484b-aca3-60a09bb492f0",
   "metadata": {},
   "outputs": [
    {
     "name": "stdout",
     "output_type": "stream",
     "text": [
      "the total sum of two lists: [11]\n"
     ]
    }
   ],
   "source": [
    "l1=[1,2,3,4,5]\n",
    "l2=[10,20,30,40]\n",
    "total=[]\n",
    "for i in range(1):\n",
    "    total.append(l1[i]+l2[i])\n",
    "    print(\"the total sum of two lists:\",total)"
   ]
  },
  {
   "cell_type": "code",
   "execution_count": 9,
   "id": "84ddba93-d9d3-4634-85b8-976062267e9f",
   "metadata": {},
   "outputs": [
    {
     "name": "stdout",
     "output_type": "stream",
     "text": [
      "hello 1\n",
      "how 1\n",
      "are 1\n",
      "you 1\n",
      "i 1\n",
      "am 1\n",
      "good 1\n",
      "at 1\n",
      "python 1\n",
      "in 1\n",
      "naresh 1\n",
      "it 1\n"
     ]
    }
   ],
   "source": [
    "#s=\"hello how are you i am good at python in naresh it\"\n",
    "#find the maximum word\n",
    "#find the minimum word \n",
    "#find the most repeated word\n",
    "s=(\"hello how are you i am good at python in naresh it\")\n",
    "l=s.split()\n",
    "l1=[]\n",
    "for i in l:\n",
    "    print(i,l.count(i))"
   ]
  },
  {
   "cell_type": "code",
   "execution_count": null,
   "id": "15d0a6aa-0aaa-4db9-9983-40528a37bb8c",
   "metadata": {},
   "outputs": [],
   "source": [
    "** List compreshions**"
   ]
  },
  {
   "cell_type": "code",
   "execution_count": null,
   "id": "c7b2aa74-5746-4e87-a60c-765f7f92c1d5",
   "metadata": {},
   "outputs": [],
   "source": [
    "# Q1) WAP Ask the user print 1,5 numbers square\n",
    "# how to save the result\n",
    "for i in range(1,6):\n",
    "    i=i*i\n",
    "    print(i)\n",
    "    "
   ]
  },
  {
   "cell_type": "markdown",
   "id": "703dd6e3-00fe-40e2-bbe8-73f15e8bc058",
   "metadata": {},
   "source": [
    "# PATTREN:-1"
   ]
  },
  {
   "cell_type": "code",
   "execution_count": null,
   "id": "371eb7ba-c8c5-4412-a3eb-8ddbaff4f523",
   "metadata": {},
   "outputs": [],
   "source": [
    "** Only for loop**\n",
    "# syntax\n",
    "l=[<output><for loop>]"
   ]
  },
  {
   "cell_type": "code",
   "execution_count": 3,
   "id": "5395fecb-d18d-4b1c-9bb8-1a2881f86bf6",
   "metadata": {},
   "outputs": [],
   "source": [
    "#l=[]\n",
    "#for i in range(1,6):\n",
    " #   l.append(i*i)\n",
    "l=[i*i for i in range(1,6)]"
   ]
  },
  {
   "cell_type": "code",
   "execution_count": 6,
   "id": "d1ab9e26-0d01-46a7-a815-469b6aeb8477",
   "metadata": {},
   "outputs": [
    {
     "data": {
      "text/plain": [
       "['hello', 'hello', 'hello', 'hello', 'hello']"
      ]
     },
     "execution_count": 6,
     "metadata": {},
     "output_type": "execute_result"
    }
   ],
   "source": [
    "# WAP Ask the user say 5 times hello\n",
    "# save hello in a list\n",
    "# use list compression\n",
    "[\"hello\" for i in range(1,6)]"
   ]
  },
  {
   "cell_type": "code",
   "execution_count": null,
   "id": "db008111-a1a4-4aac-a99a-9c49903ddb58",
   "metadata": {},
   "outputs": [],
   "source": [
    "**For loop with if condition**\n",
    "[<output>_<for loop>_<if condition>]"
   ]
  },
  {
   "cell_type": "code",
   "execution_count": 2,
   "id": "7e8ed33c-db39-478a-b5f5-12d03e6af7db",
   "metadata": {},
   "outputs": [
    {
     "data": {
      "text/plain": [
       "['Hyd', 'Chennai']"
      ]
     },
     "execution_count": 2,
     "metadata": {},
     "output_type": "execute_result"
    }
   ],
   "source": [
    "# Q2) l=[\"hyd\",\"bglr\",\"chennai\",\"pune\"]\n",
    "# output=[\"Hyd\",\"chennai\"]\n",
    "# is title\n",
    "# Step:-1 make one empty list\n",
    "# step:-2 Iterate each word from list\n",
    "# Step:-3 apply is title method ifncondition\n",
    "# Step:-4 if that condition is satiesfy\n",
    "# Step:-5 then append the result in empty list \n",
    "#l=[\"Hyd\",\"bglr\",\"Chennai\",\"pune\"]\n",
    "#out=[]\n",
    "#for i in l:\n",
    " #   if i.istitle():\n",
    "  #      out.append(i)\n",
    "#out\n",
    "l=[\"Hyd\",\"bglr\",\"Chennai\",\"pune\"]\n",
    "out=[i for i in l if i.istitle()]\n",
    "out"
   ]
  },
  {
   "cell_type": "code",
   "execution_count": 3,
   "id": "a939d9b7-0e9d-4ea8-89f4-fa3e023672b0",
   "metadata": {},
   "outputs": [
    {
     "data": {
      "text/plain": [
       "['HYD', 'PUNE']"
      ]
     },
     "execution_count": 3,
     "metadata": {},
     "output_type": "execute_result"
    }
   ],
   "source": [
    "# Q3)  l=[\"HYD\",\"bl#r\",\"che#nnai\",\"PUNE\"]\n",
    "# out=[\"bl#r\",\"che#nnai\"]\n",
    "#l=[\"HYD\",\"bl#r\",\"che#nnai\",\"PUNE\"]\n",
    "#out=[]\n",
    "#for i in l:\n",
    " #   if \"#\" in i:\n",
    "  #      out.append(i)\n",
    "#out\n",
    "l=[\"HYD\",\"bl#r\",\"che#nnai\",\"PUNE\"]\n",
    "out=[i for i in l if i.isupper()]\n",
    "out"
   ]
  },
  {
   "cell_type": "code",
   "execution_count": 4,
   "id": "c76eea7b-c514-4df5-a172-2bb693264a5b",
   "metadata": {},
   "outputs": [
    {
     "data": {
      "text/plain": [
       "['bl#r', 'che#nnai']"
      ]
     },
     "execution_count": 4,
     "metadata": {},
     "output_type": "execute_result"
    }
   ],
   "source": [
    "# Q3)  l=[\"HYD\",\"bl#r\",\"che#nnai\",\"PUNE\"]\n",
    "# out=[\"bl#r\",\"che#nnai\"]\n",
    "#l=[\"HYD\",\"bl#r\",\"che#nnai\",\"PUNE\"]\n",
    "#out=[]\n",
    "#for i in l:\n",
    " #   if \"#\" in i:\n",
    "  #      out.append(i)\n",
    "#out\n",
    "l=[\"HYD\",\"bl#r\",\"che#nnai\",\"PUNE\"]\n",
    "out=[i for i in l if \"#\" in i]\n",
    "out"
   ]
  },
  {
   "cell_type": "code",
   "execution_count": 11,
   "id": "a48bd828-1a00-4515-81aa-cd89d8c13d56",
   "metadata": {},
   "outputs": [
    {
     "data": {
      "text/plain": [
       "['odd 1',\n",
       " 'even 2',\n",
       " 'odd 3',\n",
       " 'even 4',\n",
       " 'odd 5',\n",
       " 'even 6',\n",
       " 'odd 7',\n",
       " 'even 8',\n",
       " 'odd 9',\n",
       " 'even 10']"
      ]
     },
     "execution_count": 11,
     "metadata": {},
     "output_type": "execute_result"
    }
   ],
   "source": [
    "#**for-if-else**\n",
    "# [<output> <for loop>]\n",
    "# [<output> <for loop>] <if condition>]\n",
    "#[<if_output> <for loop>] <if condition> <else_output> <else>]\n",
    "out=[]\n",
    "for i in range(1,11):\n",
    "    if i%2==0:\n",
    "        out.append(f\"even {i}\")\n",
    "    else: \n",
    "        out.append(f\"odd {i}\")\n",
    "out"
   ]
  },
  {
   "cell_type": "code",
   "execution_count": 16,
   "id": "2ff54f50-fa0f-444b-954a-c9ed9cb8fa8b",
   "metadata": {},
   "outputs": [
    {
     "data": {
      "text/plain": [
       "['odd 1',\n",
       " 'even 2',\n",
       " 'odd 3',\n",
       " 'even 4',\n",
       " 'odd 5',\n",
       " 'even 6',\n",
       " 'odd 7',\n",
       " 'even 8',\n",
       " 'odd 9',\n",
       " 'even 10']"
      ]
     },
     "execution_count": 16,
     "metadata": {},
     "output_type": "execute_result"
    }
   ],
   "source": [
    "[f\"even {i}\" if i%2==0 else f\"odd {i}\" for i in range(1,11)]"
   ]
  },
  {
   "cell_type": "code",
   "execution_count": 18,
   "id": "8ac3009e-c0e4-474f-8540-d52ed79af103",
   "metadata": {},
   "outputs": [
    {
     "data": {
      "text/plain": [
       "['__add__',\n",
       " '__class__',\n",
       " '__class_getitem__',\n",
       " '__contains__',\n",
       " '__delattr__',\n",
       " '__delitem__',\n",
       " '__dir__',\n",
       " '__doc__',\n",
       " '__eq__',\n",
       " '__format__',\n",
       " '__ge__',\n",
       " '__getattribute__',\n",
       " '__getitem__',\n",
       " '__getstate__',\n",
       " '__gt__',\n",
       " '__hash__',\n",
       " '__iadd__',\n",
       " '__imul__',\n",
       " '__init__',\n",
       " '__init_subclass__',\n",
       " '__iter__',\n",
       " '__le__',\n",
       " '__len__',\n",
       " '__lt__',\n",
       " '__mul__',\n",
       " '__ne__',\n",
       " '__new__',\n",
       " '__reduce__',\n",
       " '__reduce_ex__',\n",
       " '__repr__',\n",
       " '__reversed__',\n",
       " '__rmul__',\n",
       " '__setattr__',\n",
       " '__setitem__',\n",
       " '__sizeof__',\n",
       " '__str__',\n",
       " '__subclasshook__',\n",
       " 'append',\n",
       " 'clear',\n",
       " 'copy',\n",
       " 'count',\n",
       " 'extend',\n",
       " 'index',\n",
       " 'insert',\n",
       " 'pop',\n",
       " 'remove',\n",
       " 'reverse',\n",
       " 'sort']"
      ]
     },
     "execution_count": 18,
     "metadata": {},
     "output_type": "execute_result"
    }
   ],
   "source": [
    "dir([])"
   ]
  },
  {
   "cell_type": "code",
   "execution_count": 22,
   "id": "b944308d-4fcd-4c33-b09a-bfedfc4eb51f",
   "metadata": {},
   "outputs": [
    {
     "data": {
      "text/plain": [
       "3"
      ]
     },
     "execution_count": 22,
     "metadata": {},
     "output_type": "execute_result"
    }
   ],
   "source": [
    "l=[10,10,10,20,40,50]\n",
    "l.count(10)"
   ]
  },
  {
   "cell_type": "markdown",
   "id": "1d3c208c-5c08-4a07-8289-dcee7ca68e9b",
   "metadata": {},
   "source": [
    "# UNIQUE VOWLES WRAPPER"
   ]
  },
  {
   "cell_type": "code",
   "execution_count": 23,
   "id": "a06f9476-8bd1-44b1-b825-e4297d3d03f0",
   "metadata": {},
   "outputs": [
    {
     "data": {
      "text/plain": [
       "5"
      ]
     },
     "execution_count": 23,
     "metadata": {},
     "output_type": "execute_result"
    }
   ],
   "source": [
    "s=(\"can canner can not a can but canner can you make a can\")\n",
    "l=s.split()\n",
    "l.count(\"can\")"
   ]
  },
  {
   "cell_type": "code",
   "execution_count": 25,
   "id": "9ac17b24-05a5-466e-98be-590304632b6d",
   "metadata": {},
   "outputs": [
    {
     "name": "stdout",
     "output_type": "stream",
     "text": [
      "can 5\n",
      "canner 2\n",
      "can 5\n",
      "not 1\n",
      "a 2\n",
      "can 5\n",
      "but 1\n",
      "canner 2\n",
      "can 5\n",
      "you 1\n",
      "make 1\n",
      "a 2\n",
      "can 5\n"
     ]
    }
   ],
   "source": [
    "s=(\"can canner can not a can but canner can you make a can\")\n",
    "l=s.split()\n",
    "l1=[]\n",
    "for i in l:\n",
    "    print(i,l.count(i))"
   ]
  },
  {
   "cell_type": "code",
   "execution_count": 26,
   "id": "7a829d26-7b93-40c1-a8ab-9795a040ae7b",
   "metadata": {},
   "outputs": [
    {
     "name": "stdout",
     "output_type": "stream",
     "text": [
      "can 5\n",
      "canner 2\n",
      "can 5\n",
      "not 1\n",
      "a 2\n",
      "can 5\n",
      "but 1\n",
      "canner 2\n",
      "can 5\n",
      "you 1\n",
      "make 1\n",
      "a 2\n",
      "can 5\n"
     ]
    }
   ],
   "source": [
    "s=(\"can canner can not a can but canner can you make a can\")\n",
    "l=s.split()\n",
    "l1=[]\n",
    "for i in l:\n",
    "    for i not in l1:\n",
    "    print(i,l.count(i))\n",
    "    l1.append(i)\n",
    "# step:-1 i=can if can not in l1 True print('can',5) l1=[\"can']\n",
    "\n",
    "# step:-3 i='can' if 'can' not in l1 False"
   ]
  },
  {
   "cell_type": "markdown",
   "id": "97e13229-f2d3-4a99-9971-ff28d135925b",
   "metadata": {},
   "source": [
    "# EXTEND"
   ]
  },
  {
   "cell_type": "code",
   "execution_count": 28,
   "id": "9c5a0c65-75c4-4be9-9e64-fdfa0f0ec506",
   "metadata": {},
   "outputs": [
    {
     "data": {
      "text/plain": [
       "['a', 'b', 'c', 1, 2, 3]"
      ]
     },
     "execution_count": 28,
     "metadata": {},
     "output_type": "execute_result"
    }
   ],
   "source": [
    "l1=[1,2,3]\n",
    "l2=['a','b','c']\n",
    "l2.extend(l1)\n",
    "l2"
   ]
  },
  {
   "cell_type": "code",
   "execution_count": 29,
   "id": "de79ee27-d271-4931-b7dc-928ad9d5fa9d",
   "metadata": {},
   "outputs": [
    {
     "data": {
      "text/plain": [
       "[1, 2, 3, 'a', 'b', 'c', 1, 2, 3, [1, 2, 3]]"
      ]
     },
     "execution_count": 29,
     "metadata": {},
     "output_type": "execute_result"
    }
   ],
   "source": [
    "l1=[1,2,3]\n",
    "l2=['a','b','c']\n",
    "l2.extend(l1)  # [1,2,3,a,b,c]\n",
    "l2.append(l1)  # [1,2,3,[a,b,c]]\n",
    "l1+l2"
   ]
  },
  {
   "cell_type": "code",
   "execution_count": null,
   "id": "3f743364-39d0-4dc5-af98-00d797debf27",
   "metadata": {},
   "outputs": [],
   "source": [
    "** diffrence between extend and concatenation**\n",
    "\n",
    "-Extend will overwrite the output\n",
    "\n",
    "- concatenation "
   ]
  },
  {
   "cell_type": "code",
   "execution_count": 33,
   "id": "cac84dc6-da95-410c-8f59-a8f501a6c5ef",
   "metadata": {},
   "outputs": [
    {
     "data": {
      "text/plain": [
       "[1, 4, 7, 10, 'apple', 13, 16, 19]"
      ]
     },
     "execution_count": 33,
     "metadata": {},
     "output_type": "execute_result"
    }
   ],
   "source": [
    "l=[i for i in range(1,20,3)]\n",
    "l\n",
    "# I want insert \"apple\" after 10\n",
    "# after 10 means index=4\n",
    "# we should not count it\n",
    "# automatically the index value should come\n",
    "index=l.index(10)\n",
    "l.insert(index+1,\"apple\")\n",
    "l"
   ]
  },
  {
   "cell_type": "markdown",
   "id": "ee8080a6-cb87-4606-8281-f401f019cc13",
   "metadata": {},
   "source": [
    "# POP-REMOVE"
   ]
  },
  {
   "cell_type": "code",
   "execution_count": null,
   "id": "8847c56c-3820-486a-9894-5a00f5200c1c",
   "metadata": {},
   "outputs": [],
   "source": [
    "- Pop will remove the last value\n",
    "\n",
    "-inside pop we have index arguments\n",
    "\n",
    "-by default index=-1 ,-1 means at value\n",
    "\n",
    "- pop will remove the value, the output will override\n",
    "\n",
    "-pop also return the item value which it is removing"
   ]
  },
  {
   "cell_type": "code",
   "execution_count": 38,
   "id": "b8564caa-0c8f-4536-9df1-455db4356e70",
   "metadata": {},
   "outputs": [
    {
     "data": {
      "text/plain": [
       "['apple', 'ball', 10, 20, 'dog']"
      ]
     },
     "execution_count": 38,
     "metadata": {},
     "output_type": "execute_result"
    }
   ],
   "source": [
    "l=['apple','ball','cat',10,20,'dog']\n",
    "l.pop(2)\n",
    "l"
   ]
  },
  {
   "cell_type": "code",
   "execution_count": 16,
   "id": "f42687ac-6f0c-4ed1-aef5-41399a7f8f59",
   "metadata": {},
   "outputs": [
    {
     "data": {
      "text/plain": [
       "['apple', 'ball', 10, 20, 'dog']"
      ]
     },
     "execution_count": 16,
     "metadata": {},
     "output_type": "execute_result"
    }
   ],
   "source": [
    "l=['apple','ball','cat',10,20,'dog']\n",
    "id=l.index(\"cat\")\n",
    "l.pop(id)\n",
    "l"
   ]
  },
  {
   "cell_type": "markdown",
   "id": "0e436bcf-28f8-4279-922b-e163a51fbdde",
   "metadata": {},
   "source": [
    "# REMOVE"
   ]
  },
  {
   "cell_type": "code",
   "execution_count": 45,
   "id": "d964f2cb-badd-4c33-9acf-264da573d288",
   "metadata": {},
   "outputs": [
    {
     "data": {
      "text/plain": [
       "['ball', 'cat', 10, 20, 'dog']"
      ]
     },
     "execution_count": 45,
     "metadata": {},
     "output_type": "execute_result"
    }
   ],
   "source": [
    "l=['apple','ball','cat',10,20,'dog']\n",
    "l.remove(\"apple\")\n",
    "l"
   ]
  },
  {
   "cell_type": "code",
   "execution_count": null,
   "id": "9d5ddc6d-1065-4482-9e84-dc671f613254",
   "metadata": {},
   "outputs": [],
   "source": [
    "- direct will take the direct item name\n",
    "\n",
    "-pop will take only the index\n",
    "\n",
    "-both range the errors"
   ]
  },
  {
   "cell_type": "code",
   "execution_count": 7,
   "id": "fe60e292-cf31-497c-81e3-14b7f2c10085",
   "metadata": {},
   "outputs": [
    {
     "name": "stdout",
     "output_type": "stream",
     "text": [
      "3\n"
     ]
    }
   ],
   "source": [
    "a={1,1,1,1,2,2,2,2,3,3,3,3,3}\n",
    "b=list(a)\n",
    "print(b[2])"
   ]
  },
  {
   "cell_type": "code",
   "execution_count": 9,
   "id": "cc68d990-d693-4d34-8992-d8eb2429f4db",
   "metadata": {},
   "outputs": [
    {
     "name": "stdout",
     "output_type": "stream",
     "text": [
      "{2, 3, 4, 5, 6}\n"
     ]
    }
   ],
   "source": [
    "i={4,5,6}\n",
    "i.update({2,3,4})\n",
    "print(i)"
   ]
  },
  {
   "cell_type": "code",
   "execution_count": 13,
   "id": "7ece3254-bf88-4b85-aef0-cc1325941e47",
   "metadata": {},
   "outputs": [
    {
     "name": "stdout",
     "output_type": "stream",
     "text": [
      "{2, 3, 4, 5, 6}\n"
     ]
    }
   ],
   "source": [
    "i=({4,5,6})\n",
    "i.update({2,3,4})\n",
    "print(i)"
   ]
  },
  {
   "cell_type": "code",
   "execution_count": null,
   "id": "a5793392-1dca-42b8-b16b-2bbfb6ab1e65",
   "metadata": {},
   "outputs": [],
   "source": [
    "print()\n",
    "eval()\n",
    "input()\n",
    "max()\n",
    "min()\n",
    "sorted()\n",
    "reversed()"
   ]
  },
  {
   "cell_type": "code",
   "execution_count": 10,
   "id": "d0aa79e5-290b-48b3-a3d7-296dee484ed0",
   "metadata": {},
   "outputs": [
    {
     "data": {
      "text/plain": [
       "[4, 3, 2, 1]"
      ]
     },
     "execution_count": 10,
     "metadata": {},
     "output_type": "execute_result"
    }
   ],
   "source": [
    "l=[1,2,3,4]\n",
    "l.reverse()\n",
    "l\n",
    "# "
   ]
  },
  {
   "cell_type": "code",
   "execution_count": 11,
   "id": "c0d26dcb-5f12-4a61-8830-f6b1afa5fe09",
   "metadata": {},
   "outputs": [
    {
     "data": {
      "text/plain": [
       "[2, 4, 10, 40]"
      ]
     },
     "execution_count": 11,
     "metadata": {},
     "output_type": "execute_result"
    }
   ],
   "source": [
    "l=[10,2,4,40]\n",
    "l.sort()\n",
    "l         # override"
   ]
  },
  {
   "cell_type": "code",
   "execution_count": null,
   "id": "cf223884-bb3d-49df-9446-b89027bb6800",
   "metadata": {},
   "outputs": [],
   "source": []
  },
  {
   "cell_type": "code",
   "execution_count": null,
   "id": "540f0a3b-904d-4b89-80d0-7a172b0b7067",
   "metadata": {},
   "outputs": [],
   "source": [
    "sorted \n",
    "reversed\n",
    "sort/ reverse  : overwriting"
   ]
  },
  {
   "cell_type": "code",
   "execution_count": null,
   "id": "99d82d02-fab1-46ed-9b4e-ab49b7221856",
   "metadata": {},
   "outputs": [],
   "source": [
    "l=[1,2,3,4]\n",
    "l.split()"
   ]
  },
  {
   "cell_type": "code",
   "execution_count": null,
   "id": "853005cf-5f49-40aa-a416-deabbcc3799a",
   "metadata": {},
   "outputs": [],
   "source": [
    "-key words are generic\n",
    "\n",
    "-sorted and reversed keyword can use for strings and lists\n",
    "\n",
    "-every data type has its own methods\n",
    "\n",
    "-whenever you work on which data type you need to work on those methods only"
   ]
  },
  {
   "cell_type": "markdown",
   "id": "2971e242-59fb-4b1a-8a08-732a14deffb1",
   "metadata": {},
   "source": [
    "# DEL"
   ]
  },
  {
   "cell_type": "code",
   "execution_count": 14,
   "id": "c80b8466-2887-49ed-89eb-54fa3862e936",
   "metadata": {},
   "outputs": [
    {
     "data": {
      "text/plain": [
       "[2, 3, 4]"
      ]
     },
     "execution_count": 14,
     "metadata": {},
     "output_type": "execute_result"
    }
   ],
   "source": [
    "l=[1,2,3,4]\n",
    "del(l[0])\n",
    "l"
   ]
  },
  {
   "cell_type": "code",
   "execution_count": 15,
   "id": "7eb2e79a-8311-43d9-946f-086cf53ee90c",
   "metadata": {},
   "outputs": [
    {
     "ename": "NameError",
     "evalue": "name 'l' is not defined",
     "output_type": "error",
     "traceback": [
      "\u001b[1;31m---------------------------------------------------------------------------\u001b[0m",
      "\u001b[1;31mNameError\u001b[0m                                 Traceback (most recent call last)",
      "Cell \u001b[1;32mIn[15], line 3\u001b[0m\n\u001b[0;32m      1\u001b[0m l\u001b[38;5;241m=\u001b[39m[\u001b[38;5;241m1\u001b[39m,\u001b[38;5;241m2\u001b[39m,\u001b[38;5;241m3\u001b[39m,\u001b[38;5;241m4\u001b[39m]\n\u001b[0;32m      2\u001b[0m \u001b[38;5;28;01mdel\u001b[39;00m(l)\n\u001b[1;32m----> 3\u001b[0m l\n",
      "\u001b[1;31mNameError\u001b[0m: name 'l' is not defined"
     ]
    }
   ],
   "source": [
    "l=[1,2,3,4]\n",
    "del(l)\n",
    "l       # l is also deleted"
   ]
  },
  {
   "cell_type": "markdown",
   "id": "f1f05131-81e8-4708-89d2-f1b43c9aa697",
   "metadata": {},
   "source": [
    "# ZIP OPERATOR"
   ]
  },
  {
   "cell_type": "code",
   "execution_count": 16,
   "id": "50255bd1-bbef-4cd3-9023-9f4950a8aab8",
   "metadata": {},
   "outputs": [
    {
     "data": {
      "text/plain": [
       "[11, 14, 16]"
      ]
     },
     "execution_count": 16,
     "metadata": {},
     "output_type": "execute_result"
    }
   ],
   "source": [
    "l1=[1,2,3]\n",
    "l2=[10,12,13]\n",
    "# ouput =[11,14,16]\n",
    "out=[]\n",
    "for i in range(len(l1)):\n",
    "    out.append(l1[i]+l2[i])\n",
    "out"
   ]
  },
  {
   "cell_type": "code",
   "execution_count": null,
   "id": "e5dfb55a-01f0-4202-834a-3cf4d3df7224",
   "metadata": {},
   "outputs": [],
   "source": [
    "# how to zip the file\n",
    "# how to unzip the file"
   ]
  },
  {
   "cell_type": "code",
   "execution_count": 18,
   "id": "0a69cc48-1d4e-4d24-bfea-15cd44b475d3",
   "metadata": {},
   "outputs": [
    {
     "name": "stdout",
     "output_type": "stream",
     "text": [
      "1 10\n",
      "2 12\n",
      "3 13\n"
     ]
    }
   ],
   "source": [
    "l1=[1,2,3]\n",
    "l2=[10,12,13]\n",
    "for i,j in zip(l1,l2):\n",
    "    print(i,j)\n",
    "# apply the zip\n",
    "#zip is \n",
    "# get the for loop\n",
    "#two values we zipped\n",
    "# we need two variables\n",
    "# for i,j in zip (li,l2)\n",
    "# print(i+j)"
   ]
  },
  {
   "cell_type": "code",
   "execution_count": 20,
   "id": "f845cf10-1561-4dab-9e14-3a4bbba2105a",
   "metadata": {},
   "outputs": [
    {
     "data": {
      "text/plain": [
       "[11, 14, 16]"
      ]
     },
     "execution_count": 20,
     "metadata": {},
     "output_type": "execute_result"
    }
   ],
   "source": [
    "out=[i+j for i,j in zip(l1,l2)]\n",
    "out"
   ]
  },
  {
   "cell_type": "code",
   "execution_count": null,
   "id": "72151279-2e6f-4ef2-a00f-14d613b05916",
   "metadata": {},
   "outputs": [],
   "source": [
    "##################### part:-1##############\n",
    "Hoew to display \n",
    "-type\n",
    "-count\n",
    "-max\n",
    "-min\n",
    "-"
   ]
  },
  {
   "cell_type": "code",
   "execution_count": 1,
   "id": "89052914-aa4b-48ba-a610-019259e6d68b",
   "metadata": {},
   "outputs": [
    {
     "name": "stdout",
     "output_type": "stream",
     "text": [
      "[2, 1, 3]\n"
     ]
    }
   ],
   "source": [
    "numbers=[1,2,3]\n",
    "for i in numbers:\n",
    "    numbers.remove(i)\n",
    "    numbers.append(i)\n",
    "print(numbers)"
   ]
  },
  {
   "cell_type": "code",
   "execution_count": 2,
   "id": "d2f5861d-e21a-4f6b-9c7d-1856c1ef7478",
   "metadata": {},
   "outputs": [
    {
     "name": "stdout",
     "output_type": "stream",
     "text": [
      "5\n"
     ]
    }
   ],
   "source": [
    "a=[1,2,3,4,1,2,3,4]\n",
    "print(a.index(2,3))"
   ]
  },
  {
   "cell_type": "code",
   "execution_count": 3,
   "id": "014735c6-3ac0-44d3-b103-9df9887de877",
   "metadata": {},
   "outputs": [
    {
     "name": "stdout",
     "output_type": "stream",
     "text": [
      "99\n"
     ]
    }
   ],
   "source": [
    "a=1\n",
    "b=99\n",
    "for i in range(1,a):\n",
    "    b=b+2\n",
    "print(b)"
   ]
  },
  {
   "cell_type": "code",
   "execution_count": 6,
   "id": "c141b979-1a1f-4fe7-8f60-f6dfa812736f",
   "metadata": {},
   "outputs": [
    {
     "name": "stdout",
     "output_type": "stream",
     "text": [
      "1\n",
      "4\n",
      "8\n",
      "13.0\n"
     ]
    }
   ],
   "source": [
    "l=[1,3,4,5.0]\n",
    "c=0\n",
    "for i in l:\n",
    "    c +=i\n",
    "    print(c)"
   ]
  },
  {
   "cell_type": "code",
   "execution_count": 7,
   "id": "279c9249-ff63-4105-90da-98cdaf3a862d",
   "metadata": {},
   "outputs": [
    {
     "name": "stdout",
     "output_type": "stream",
     "text": [
      "kalki2898\n"
     ]
    }
   ],
   "source": [
    "a=\"28\"\n",
    "b=\"98\"\n",
    "print(\"kalki\"+a+b)"
   ]
  },
  {
   "cell_type": "code",
   "execution_count": null,
   "id": "51ae9728-7481-4326-93db-0700b008551f",
   "metadata": {},
   "outputs": [],
   "source": [
    "a=[1,2,3,4,5,6],\n"
   ]
  }
 ],
 "metadata": {
  "kernelspec": {
   "display_name": "Python 3 (ipykernel)",
   "language": "python",
   "name": "python3"
  },
  "language_info": {
   "codemirror_mode": {
    "name": "ipython",
    "version": 3
   },
   "file_extension": ".py",
   "mimetype": "text/x-python",
   "name": "python",
   "nbconvert_exporter": "python",
   "pygments_lexer": "ipython3",
   "version": "3.11.7"
  }
 },
 "nbformat": 4,
 "nbformat_minor": 5
}
